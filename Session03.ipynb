{
  "nbformat": 4,
  "nbformat_minor": 0,
  "metadata": {
    "colab": {
      "provenance": [],
      "authorship_tag": "ABX9TyOkx2XCbZYnrniFuum2I/ti",
      "include_colab_link": true
    },
    "kernelspec": {
      "name": "python3",
      "display_name": "Python 3"
    },
    "language_info": {
      "name": "python"
    }
  },
  "cells": [
    {
      "cell_type": "markdown",
      "metadata": {
        "id": "view-in-github",
        "colab_type": "text"
      },
      "source": [
        "<a href=\"https://colab.research.google.com/github/u-masao/vector-search-tutorial-for-japanese/blob/main/Session03.ipynb\" target=\"_parent\"><img src=\"https://colab.research.google.com/assets/colab-badge.svg\" alt=\"Open In Colab\"/></a>"
      ]
    },
    {
      "cell_type": "markdown",
      "source": [
        "# 日本語のためのベクトル検索ハンズオン：Session 3"
      ],
      "metadata": {
        "id": "Bv7yTGuzPRLa"
      }
    },
    {
      "cell_type": "markdown",
      "source": [
        "## 環境構築\n"
      ],
      "metadata": {
        "id": "5F9gBIkeQLub"
      }
    },
    {
      "cell_type": "markdown",
      "source": [
        "### Google Colab 向け Docker インストール"
      ],
      "metadata": {
        "id": "GMook7KdSTrT"
      }
    },
    {
      "cell_type": "code",
      "execution_count": null,
      "metadata": {
        "colab": {
          "base_uri": "https://localhost:8080/"
        },
        "id": "xEqPBCWsPOEM",
        "outputId": "699c12f9-1c52-4ab5-b57d-335f065b4c3d"
      },
      "outputs": [
        {
          "output_type": "stream",
          "name": "stdout",
          "text": [
            "Docker-in-Colab 1.1.0\n",
            "\n",
            "Usage:     udocker(\"--help\")\n",
            "Examples:  https://github.com/indigo-dc/udocker?tab=readme-ov-file#examples\n"
          ]
        }
      ],
      "source": [
        "# Copyright 2024 Drengskapur\n",
        "#\n",
        "# Licensed under the Apache License, Version 2.0 (the \"License\");\n",
        "# you may not use this file except in compliance with the License.\n",
        "# You may obtain a copy of the License at\n",
        "#\n",
        "#     http://www.apache.org/licenses/LICENSE-2.0\n",
        "#\n",
        "# Unless required by applicable law or agreed to in writing, software\n",
        "# distributed under the License is distributed on an \"AS IS\" BASIS,\n",
        "# WITHOUT WARRANTIES OR CONDITIONS OF ANY KIND, either express or implied.\n",
        "# See the License for the specific language governing permissions and\n",
        "# limitations under the License.\n",
        "#\n",
        "# @title {display-mode:\"form\"}\n",
        "# @markdown <br/><br/><center><img src=\"https://cdn.jsdelivr.net/gh/drengskapur/docker-in-colab/assets/docker.svg\" height=\"150\"><img src=\"https://cdn.jsdelivr.net/gh/drengskapur/docker-in-colab/assets/colab.svg\" height=\"150\"></center><br/>\n",
        "# @markdown <center><h1>Docker in Colab</h1></center><center>github.com/drengskapur/docker-in-colab<br/><br/><br/><b>udocker(\"run hello-world\")</b></center><br/>\n",
        "def udocker_init():\n",
        "    import os\n",
        "    if not os.path.exists(\"/home/user\"):\n",
        "        !pip install udocker > /dev/null\n",
        "        !udocker --allow-root install > /dev/null\n",
        "        !useradd -m user > /dev/null\n",
        "    print(f'Docker-in-Colab 1.1.0\\n')\n",
        "    print(f'Usage:     udocker(\"--help\")')\n",
        "    print(f'Examples:  https://github.com/indigo-dc/udocker?tab=readme-ov-file#examples')\n",
        "\n",
        "    def execute(command: str):\n",
        "        user_prompt = \"\\033[1;32muser@pc\\033[0m\"\n",
        "        print(f\"{user_prompt}$ udocker {command}\")\n",
        "        !su - user -c \"udocker $command\"\n",
        "\n",
        "    return execute\n",
        "\n",
        "udocker = udocker_init()"
      ]
    },
    {
      "cell_type": "code",
      "source": [
        "# udocker(\"pull qdrant/qdrant\")"
      ],
      "metadata": {
        "id": "cjQ31PyoQKJY"
      },
      "execution_count": null,
      "outputs": []
    },
    {
      "cell_type": "code",
      "source": [
        "udocker(\"run -d -p 127.0.0.1:6333:6333 -p 127.0.0.1:6334:6334 qdrant/qdrant\")"
      ],
      "metadata": {
        "colab": {
          "base_uri": "https://localhost:8080/"
        },
        "id": "rPQkq6ngQrgl",
        "outputId": "164901ee-fc27-4a24-f84a-62ecf2c0978f"
      },
      "execution_count": null,
      "outputs": [
        {
          "output_type": "stream",
          "name": "stdout",
          "text": [
            "\u001b[1;32muser@pc\u001b[0m$ udocker run -d -p 127.0.0.1:6333:6333 -p 127.0.0.1:6334:6334 qdrant/qdrant\n",
            "Error: syntax error at: -d\n"
          ]
        }
      ]
    },
    {
      "cell_type": "markdown",
      "source": [
        "###  SageMaker 向け docker インストール\n",
        "\n",
        "(省略)"
      ],
      "metadata": {
        "id": "madZO25zSfyU"
      }
    },
    {
      "cell_type": "markdown",
      "source": [
        "## パッケージのインストールと読み込み"
      ],
      "metadata": {
        "id": "Z9Ynlie0sttz"
      }
    },
    {
      "cell_type": "code",
      "source": [
        "!pip install -q qdrant-client japanize_matplotlib sentence-transformers"
      ],
      "metadata": {
        "colab": {
          "base_uri": "https://localhost:8080/"
        },
        "id": "JplRDqwlsy-j",
        "outputId": "c458b931-d7e9-4e1e-d2b2-ad68e52fd97a"
      },
      "execution_count": null,
      "outputs": [
        {
          "output_type": "stream",
          "name": "stdout",
          "text": [
            "Requirement already satisfied: torchsummary in /usr/local/lib/python3.10/dist-packages (1.5.1)\n"
          ]
        }
      ]
    },
    {
      "cell_type": "code",
      "source": [
        "from sentence_transformers import SentenceTransformer\n",
        "import pandas as pd\n",
        "import numpy as np"
      ],
      "metadata": {
        "id": "sObM1NMDstHD"
      },
      "execution_count": null,
      "outputs": []
    },
    {
      "cell_type": "markdown",
      "source": [
        "## Qdrant の利用"
      ],
      "metadata": {
        "id": "nYi6lzOrTQQ2"
      }
    },
    {
      "cell_type": "code",
      "source": [],
      "metadata": {
        "id": "Gl-rOmmnRhLh"
      },
      "execution_count": null,
      "outputs": []
    },
    {
      "cell_type": "code",
      "source": [
        "from qdrant_client import QdrantClient\n",
        "\n",
        "qdrant_url = \"http://localhost:6333\"\n",
        "qdrant_collection_name = \"test_collection\"\n",
        "\n",
        "client = QdrantClient(url=qdrant_url)"
      ],
      "metadata": {
        "id": "SqTkL3kWRGM9"
      },
      "execution_count": null,
      "outputs": []
    },
    {
      "cell_type": "code",
      "source": [
        "status = client.get_collection(\n",
        "    collection_name=qdrant_collection_name,\n",
        ")\n",
        "\n",
        "print(status)\n",
        "\n",
        "status = client.delete_collection(\n",
        "    collection_name=qdrant_collection_name,\n",
        ")\n",
        "\n",
        "print(status)"
      ],
      "metadata": {
        "colab": {
          "base_uri": "https://localhost:8080/"
        },
        "id": "CH79lUfjorOz",
        "outputId": "f99b253e-c75e-454f-8c20-638f97f856a0"
      },
      "execution_count": null,
      "outputs": [
        {
          "output_type": "stream",
          "name": "stdout",
          "text": [
            "status=<CollectionStatus.GREEN: 'green'> optimizer_status=<OptimizersStatusOneOf.OK: 'ok'> vectors_count=6 indexed_vectors_count=0 points_count=6 segments_count=2 config=CollectionConfig(params=CollectionParams(vectors=VectorParams(size=4, distance=<Distance.DOT: 'Dot'>, hnsw_config=None, quantization_config=None, on_disk=None), shard_number=1, sharding_method=None, replication_factor=1, write_consistency_factor=1, read_fan_out_factor=None, on_disk_payload=True, sparse_vectors=None), hnsw_config=HnswConfig(m=16, ef_construct=100, full_scan_threshold=10000, max_indexing_threads=0, on_disk=False, payload_m=None), optimizer_config=OptimizersConfig(deleted_threshold=0.2, vacuum_min_vector_number=1000, default_segment_number=0, max_segment_size=None, memmap_threshold=None, indexing_threshold=20000, flush_interval_sec=5, max_optimization_threads=None), wal_config=WalConfig(wal_capacity_mb=32, wal_segments_ahead=0), quantization_config=None) payload_schema={}\n",
            "True\n"
          ]
        }
      ]
    },
    {
      "cell_type": "code",
      "source": [
        "from qdrant_client.models import Distance, VectorParams\n",
        "\n",
        "client.create_collection(\n",
        "    collection_name=qdrant_collection_name,\n",
        "    vectors_config=VectorParams(size=4, distance=Distance.DOT),\n",
        ")"
      ],
      "metadata": {
        "colab": {
          "base_uri": "https://localhost:8080/"
        },
        "id": "Ad_g7GKlRpn6",
        "outputId": "fdd5eb0e-f9a4-4f5c-e512-44a4df94be5b"
      },
      "execution_count": null,
      "outputs": [
        {
          "output_type": "execute_result",
          "data": {
            "text/plain": [
              "True"
            ]
          },
          "metadata": {},
          "execution_count": 8
        }
      ]
    },
    {
      "cell_type": "code",
      "source": [
        "from qdrant_client.models import PointStruct\n",
        "\n",
        "operation_info = client.upsert(\n",
        "    collection_name=qdrant_collection_name,\n",
        "    wait=True,\n",
        "    points=[\n",
        "        PointStruct(id=1, vector=[0.05, 0.61, 0.76, 0.74], payload={\"city\": \"Berlin\"}),\n",
        "        PointStruct(id=2, vector=[0.19, 0.81, 0.75, 0.11], payload={\"city\": \"London\"}),\n",
        "        PointStruct(id=3, vector=[0.36, 0.55, 0.47, 0.94], payload={\"city\": \"Moscow\"}),\n",
        "        PointStruct(id=4, vector=[0.18, 0.01, 0.85, 0.80], payload={\"city\": \"New York\"}),\n",
        "        PointStruct(id=5, vector=[0.24, 0.18, 0.22, 0.44], payload={\"city\": \"Beijing\"}),\n",
        "        PointStruct(id=6, vector=[0.35, 0.08, 0.11, 0.44], payload={\"city\": \"Mumbai\"}),\n",
        "    ],\n",
        ")\n",
        "\n",
        "print(operation_info)"
      ],
      "metadata": {
        "colab": {
          "base_uri": "https://localhost:8080/"
        },
        "id": "B97J6dUlR4Vf",
        "outputId": "26b70dec-43ef-4f0f-a93f-176152f01ce8"
      },
      "execution_count": null,
      "outputs": [
        {
          "output_type": "stream",
          "name": "stdout",
          "text": [
            "operation_id=0 status=<UpdateStatus.COMPLETED: 'completed'>\n"
          ]
        }
      ]
    },
    {
      "cell_type": "code",
      "source": [
        "search_result = client.search(\n",
        "    collection_name=qdrant_collection_name,\n",
        "    query_vector=[0.2, 0.1, 0.9, 0.7],\n",
        "    limit=3\n",
        ")\n",
        "\n",
        "_ = [print(x) for x in search_result]"
      ],
      "metadata": {
        "colab": {
          "base_uri": "https://localhost:8080/"
        },
        "id": "y7POkQ60R78h",
        "outputId": "5dfd878e-4bfd-4cb6-dd1a-e0abf5e08edd"
      },
      "execution_count": null,
      "outputs": [
        {
          "output_type": "stream",
          "name": "stdout",
          "text": [
            "id=4 version=0 score=1.362 payload={'city': 'New York'} vector=None shard_key=None\n",
            "id=1 version=0 score=1.273 payload={'city': 'Berlin'} vector=None shard_key=None\n",
            "id=3 version=0 score=1.208 payload={'city': 'Moscow'} vector=None shard_key=None\n"
          ]
        }
      ]
    },
    {
      "cell_type": "code",
      "source": [
        "from qdrant_client.models import Filter, FieldCondition, MatchValue\n",
        "\n",
        "search_result = client.search(\n",
        "    collection_name=qdrant_collection_name,\n",
        "    query_vector=[0.2, 0.1, 0.9, 0.7],\n",
        "    query_filter=Filter(\n",
        "        must=[FieldCondition(key=\"city\", match=MatchValue(value=\"London\"))]\n",
        "    ),\n",
        "    with_payload=True,\n",
        "    limit=3,\n",
        ")\n",
        "\n",
        "_ = [print(x) for x in search_result]"
      ],
      "metadata": {
        "colab": {
          "base_uri": "https://localhost:8080/"
        },
        "id": "SY39xn0lR8la",
        "outputId": "e387c21d-37ed-4b19-9a15-6e6759d2a324"
      },
      "execution_count": null,
      "outputs": [
        {
          "output_type": "stream",
          "name": "stdout",
          "text": [
            "id=2 version=0 score=0.871 payload={'city': 'London'} vector=None shard_key=None\n"
          ]
        }
      ]
    }
  ]
}