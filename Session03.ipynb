{
  "cells": [
    {
      "cell_type": "markdown",
      "metadata": {
        "id": "view-in-github",
        "colab_type": "text"
      },
      "source": [
        "<a href=\"https://colab.research.google.com/github/u-masao/vector-search-tutorial-for-japanese/blob/main/Session03.ipynb\" target=\"_parent\"><img src=\"https://colab.research.google.com/assets/colab-badge.svg\" alt=\"Open In Colab\"/></a>"
      ]
    },
    {
      "cell_type": "markdown",
      "metadata": {
        "id": "Bv7yTGuzPRLa"
      },
      "source": [
        "# 日本語のためのベクトル検索ハンズオン: Session 3\n",
        "\n",
        "## はじめに\n",
        "\n",
        "『日本語のためのベクトル検索ハンズオン』の Session 3 では、オープンソースのベクトル検索エンジンである [Qdrant](https://qdrant.tech/) を実行します。\n",
        "\n",
        "まずは公式サイトのクイックスタートを実行します。"
      ]
    },
    {
      "cell_type": "markdown",
      "metadata": {
        "id": "5F9gBIkeQLub"
      },
      "source": [
        "## 環境構築\n"
      ]
    },
    {
      "cell_type": "markdown",
      "metadata": {
        "id": "GMook7KdSTrT"
      },
      "source": [
        "### Google Colab 向け Docker インストール、Qdrant 起動"
      ]
    },
    {
      "cell_type": "markdown",
      "source": [
        "#### udocker のセットアップ"
      ],
      "metadata": {
        "id": "D6K2NljF2Fgk"
      }
    },
    {
      "cell_type": "code",
      "execution_count": 1,
      "metadata": {
        "colab": {
          "base_uri": "https://localhost:8080/"
        },
        "id": "xEqPBCWsPOEM",
        "outputId": "fb48a627-9243-40a6-b612-414e8ffb1581"
      },
      "outputs": [
        {
          "output_type": "stream",
          "name": "stdout",
          "text": [
            "Docker-in-Colab 1.1.0\n",
            "\n",
            "Usage:     udocker(\"--help\")\n",
            "Examples:  https://github.com/indigo-dc/udocker?tab=readme-ov-file#examples\n"
          ]
        }
      ],
      "source": [
        "# Copyright 2024 Drengskapur\n",
        "#\n",
        "# Licensed under the Apache License, Version 2.0 (the \"License\");\n",
        "# you may not use this file except in compliance with the License.\n",
        "# You may obtain a copy of the License at\n",
        "#\n",
        "#     http://www.apache.org/licenses/LICENSE-2.0\n",
        "#\n",
        "# Unless required by applicable law or agreed to in writing, software\n",
        "# distributed under the License is distributed on an \"AS IS\" BASIS,\n",
        "# WITHOUT WARRANTIES OR CONDITIONS OF ANY KIND, either express or implied.\n",
        "# See the License for the specific language governing permissions and\n",
        "# limitations under the License.\n",
        "#\n",
        "# @title {display-mode:\"form\"}\n",
        "# @markdown <br/><br/><center><img src=\"https://cdn.jsdelivr.net/gh/drengskapur/docker-in-colab/assets/docker.svg\" height=\"150\"><img src=\"https://cdn.jsdelivr.net/gh/drengskapur/docker-in-colab/assets/colab.svg\" height=\"150\"></center><br/>\n",
        "# @markdown <center><h1>Docker in Colab</h1></center><center>github.com/drengskapur/docker-in-colab<br/><br/><br/><b>udocker(\"run hello-world\")</b></center><br/>\n",
        "def udocker_init():\n",
        "    import os\n",
        "    if not os.path.exists(\"/home/user\"):\n",
        "        !pip install udocker > /dev/null\n",
        "        !udocker --allow-root install > /dev/null\n",
        "        !useradd -m user > /dev/null\n",
        "    print(f'Docker-in-Colab 1.1.0\\n')\n",
        "    print(f'Usage:     udocker(\"--help\")')\n",
        "    print(f'Examples:  https://github.com/indigo-dc/udocker?tab=readme-ov-file#examples')\n",
        "\n",
        "    def execute(command: str):\n",
        "        user_prompt = \"\\033[1;32muser@pc\\033[0m\"\n",
        "        print(f\"{user_prompt}$ udocker {command}\")\n",
        "        !su - user -c \"udocker $command\"\n",
        "\n",
        "    return execute\n",
        "\n",
        "udocker = udocker_init()"
      ]
    },
    {
      "cell_type": "markdown",
      "source": [
        "#### Qdrant コンテナを起動"
      ],
      "metadata": {
        "id": "LVB_5X3f2Stt"
      }
    },
    {
      "cell_type": "code",
      "execution_count": 2,
      "metadata": {
        "colab": {
          "base_uri": "https://localhost:8080/"
        },
        "id": "rPQkq6ngQrgl",
        "outputId": "c9030ba0-c29a-4290-e8a9-c37b986b9816"
      },
      "outputs": [
        {
          "output_type": "stream",
          "name": "stdout",
          "text": [
            "\u001b[1;32muser@pc\u001b[0m$ udocker run -p 127.0.0.1:6333:6333 -p 127.0.0.1:6334:6334 qdrant/qdrant\n",
            "Warning: this container exposes TCP/IP ports\n",
            " \n",
            " ****************************************************************************** \n",
            " *                                                                            * \n",
            " *               STARTING b71b07f2-5fba-35c4-add0-454301dd410f                * \n",
            " *                                                                            * \n",
            " ****************************************************************************** \n",
            " executing: entrypoint.sh\n",
            "\u001b[1;31m           _                 _    \u001b[0m\n",
            "\u001b[1;31m  __ _  __| |_ __ __ _ _ __ | |_  \u001b[0m\n",
            "\u001b[1;31m / _` |/ _` | '__/ _` | '_ \\| __| \u001b[0m\n",
            "\u001b[1;31m| (_| | (_| | | | (_| | | | | |_  \u001b[0m\n",
            "\u001b[1;31m \\__, |\\__,_|_|  \\__,_|_| |_|\\__| \u001b[0m\n",
            "\u001b[1;31m    |_|                           \u001b[0m\n",
            "\n",
            "\u001b[32mVersion:\u001b[0m \u001b[1;34m1.9.2\u001b[0m, \u001b[32mbuild:\u001b[0m \u001b[1;34m34f7f8ec\u001b[0m\n",
            "\u001b[32mAccess web UI at\u001b[0m \u001b[1;4;34mhttp://localhost:6333/dashboard\u001b[0m\n",
            "\n",
            "\u001b[2m2024-05-24T13:54:56.131026Z\u001b[0m \u001b[32m INFO\u001b[0m \u001b[2mstorage::content_manager::consensus::persistent\u001b[0m\u001b[2m:\u001b[0m Initializing new raft state at ./storage/raft_state.json    \n",
            "\u001b[2m2024-05-24T13:54:56.606162Z\u001b[0m \u001b[32m INFO\u001b[0m \u001b[2mqdrant\u001b[0m\u001b[2m:\u001b[0m Distributed mode disabled    \n",
            "\u001b[2m2024-05-24T13:54:56.606238Z\u001b[0m \u001b[32m INFO\u001b[0m \u001b[2mqdrant\u001b[0m\u001b[2m:\u001b[0m Telemetry reporting enabled, id: 496e6e2f-57cb-46d6-ba7b-f4b1a118be59    \n",
            "\u001b[2m2024-05-24T13:54:56.608876Z\u001b[0m \u001b[32m INFO\u001b[0m \u001b[2mqdrant::actix\u001b[0m\u001b[2m:\u001b[0m TLS disabled for REST API    \n",
            "\u001b[2m2024-05-24T13:54:56.609087Z\u001b[0m \u001b[31mERROR\u001b[0m \u001b[2mqdrant\u001b[0m\u001b[2m:\u001b[0m Error while starting REST server: Address already in use (os error 98)    \n",
            "Error: Address already in use (os error 98)\n"
          ]
        }
      ],
      "source": [
        "udocker(\"run -p 127.0.0.1:6333:6333 -p 127.0.0.1:6334:6334 qdrant/qdrant\")\n",
        "# 初回実行時は正常に終了しないことがあります。しばらくして応答がなければランタイムをリセットしてください。\n",
        "# 「2024-05-24T13:42:54.582427Z ERROR qdrant: Error while starting REST server: Address already in use (os error 98) 」等とエラーメッセージが表示される場合は、既に Qdrant のコンテナが実行されています"
      ]
    },
    {
      "cell_type": "markdown",
      "metadata": {
        "id": "madZO25zSfyU"
      },
      "source": [
        "###  SageMaker 向け docker インストール、Qdrant 起動\n",
        "\n",
        "SageMaker 等、直接 Docker を実行できる環境の場合は下のセルを実行して Qdrant コンテナを起動します。"
      ]
    },
    {
      "cell_type": "code",
      "source": [
        "# 実行する際はコメントを外してください\n",
        "# !docker run -d -p 127.0.0.1:6333:6333 -p 127.0.0.1:6334:6334 qdrant/qdrant"
      ],
      "metadata": {
        "id": "9ASalsBeynmQ"
      },
      "execution_count": 3,
      "outputs": []
    },
    {
      "cell_type": "markdown",
      "metadata": {
        "id": "Z9Ynlie0sttz"
      },
      "source": [
        "## パッケージのインストールと読み込み"
      ]
    },
    {
      "cell_type": "code",
      "execution_count": 4,
      "metadata": {
        "id": "JplRDqwlsy-j"
      },
      "outputs": [],
      "source": [
        "!pip install -q qdrant-client"
      ]
    },
    {
      "cell_type": "markdown",
      "metadata": {
        "id": "nYi6lzOrTQQ2"
      },
      "source": [
        "## Qdrant の利用\n",
        "\n",
        "以下を実行します。\n",
        "\n",
        "- Qdrant Client を初期化\n",
        "- コレクションを初期化(内積計算モード)\n",
        "- ポイント(アイテム)を登録\n",
        "- ベクトル検索のクエリ例\n",
        "- ベクトル検索&フィルタリングのクエリ例"
      ]
    },
    {
      "cell_type": "code",
      "execution_count": 5,
      "metadata": {
        "id": "SqTkL3kWRGM9"
      },
      "outputs": [],
      "source": [
        "from qdrant_client import QdrantClient\n",
        "\n",
        "qdrant_url = \"http://localhost:6333\"\n",
        "qdrant_collection_name = \"test_collection\"\n",
        "\n",
        "# Qdrant Client を初期化\n",
        "client = QdrantClient(url=qdrant_url)"
      ]
    },
    {
      "cell_type": "code",
      "execution_count": 6,
      "metadata": {
        "colab": {
          "base_uri": "https://localhost:8080/"
        },
        "id": "Ad_g7GKlRpn6",
        "outputId": "5e6eb541-8585-4a24-a872-54c8ef7f5f45"
      },
      "outputs": [
        {
          "output_type": "execute_result",
          "data": {
            "text/plain": [
              "True"
            ]
          },
          "metadata": {},
          "execution_count": 6
        }
      ],
      "source": [
        "from qdrant_client.models import Distance, VectorParams\n",
        "\n",
        "# コレクション(テーブル)を初期化\n",
        "# ベクトル次元 4次元、距離: 内積\n",
        "# (既にコレクションが定義されている場合はエラーが出ます)\n",
        "#  -> b'{\"status\":{\"error\":\"Wrong input: Collection `test_collection` already exists!\"},\"time\":0.0000995}'\n",
        "client.create_collection(\n",
        "    collection_name=qdrant_collection_name,\n",
        "    vectors_config=VectorParams(size=4, distance=Distance.DOT),\n",
        ")"
      ]
    },
    {
      "cell_type": "code",
      "execution_count": 7,
      "metadata": {
        "colab": {
          "base_uri": "https://localhost:8080/"
        },
        "id": "B97J6dUlR4Vf",
        "outputId": "f8ab2c2e-deb4-452e-8d9b-0edf354805b6"
      },
      "outputs": [
        {
          "output_type": "stream",
          "name": "stdout",
          "text": [
            "operation_id=0 status=<UpdateStatus.COMPLETED: 'completed'>\n"
          ]
        }
      ],
      "source": [
        "from qdrant_client.models import PointStruct\n",
        "\n",
        "# ポイント(アイテム)を追加\n",
        "# ベクトルとペイロード( {\"city\":\"xxxx\"} )\n",
        "operation_info = client.upsert(\n",
        "    collection_name=qdrant_collection_name,\n",
        "    wait=True,\n",
        "    points=[\n",
        "        PointStruct(id=1, vector=[0.05, 0.61, 0.76, 0.74], payload={\"city\": \"Berlin\"}),\n",
        "        PointStruct(id=2, vector=[0.19, 0.81, 0.75, 0.11], payload={\"city\": \"London\"}),\n",
        "        PointStruct(id=3, vector=[0.36, 0.55, 0.47, 0.94], payload={\"city\": \"Moscow\"}),\n",
        "        PointStruct(id=4, vector=[0.18, 0.01, 0.85, 0.80], payload={\"city\": \"New York\"}),\n",
        "        PointStruct(id=5, vector=[0.24, 0.18, 0.22, 0.44], payload={\"city\": \"Beijing\"}),\n",
        "        PointStruct(id=6, vector=[0.35, 0.08, 0.11, 0.44], payload={\"city\": \"Mumbai\"}),\n",
        "    ],\n",
        ")\n",
        "\n",
        "print(operation_info)"
      ]
    },
    {
      "cell_type": "code",
      "execution_count": 8,
      "metadata": {
        "colab": {
          "base_uri": "https://localhost:8080/"
        },
        "id": "y7POkQ60R78h",
        "outputId": "4f631a81-c6b4-4b8f-b201-34c6efeec49b"
      },
      "outputs": [
        {
          "output_type": "stream",
          "name": "stdout",
          "text": [
            "id=4 version=0 score=1.362 payload={'city': 'New York'} vector=None shard_key=None\n",
            "id=1 version=0 score=1.273 payload={'city': 'Berlin'} vector=None shard_key=None\n",
            "id=3 version=0 score=1.208 payload={'city': 'Moscow'} vector=None shard_key=None\n"
          ]
        }
      ],
      "source": [
        "# ベクトル検索\n",
        "search_result = client.search(\n",
        "    collection_name=qdrant_collection_name,\n",
        "    query_vector=[0.2, 0.1, 0.9, 0.7],  # 検索キーベクトルを指定\n",
        "    limit=3\n",
        ")\n",
        "\n",
        "_ = [print(x) for x in search_result]"
      ]
    },
    {
      "cell_type": "code",
      "execution_count": 9,
      "metadata": {
        "colab": {
          "base_uri": "https://localhost:8080/"
        },
        "id": "SY39xn0lR8la",
        "outputId": "6b35513b-2c32-4626-a877-b4a9cdbb97c7"
      },
      "outputs": [
        {
          "output_type": "stream",
          "name": "stdout",
          "text": [
            "id=2 version=0 score=0.871 payload={'city': 'London'} vector=None shard_key=None\n"
          ]
        }
      ],
      "source": [
        "from qdrant_client.models import Filter, FieldCondition, MatchValue\n",
        "\n",
        "# ベクトル検索 & フィルタリングの検索例\n",
        "search_result = client.search(\n",
        "    collection_name=qdrant_collection_name,\n",
        "    query_vector=[0.2, 0.1, 0.9, 0.7],  # ベクトル検索キー\n",
        "    query_filter=Filter(\n",
        "        must=[FieldCondition(key=\"city\", match=MatchValue(value=\"London\"))]  # ペイロードでフィルタリング\n",
        "    ),\n",
        "    with_payload=True,  # ペイロードを取得\n",
        "    limit=3,\n",
        ")\n",
        "\n",
        "_ = [print(x) for x in search_result]"
      ]
    },
    {
      "cell_type": "code",
      "execution_count": 10,
      "metadata": {
        "id": "CH79lUfjorOz",
        "colab": {
          "base_uri": "https://localhost:8080/"
        },
        "outputId": "d05d0fdb-6d9c-4a13-b9f3-40a5887c97b0"
      },
      "outputs": [
        {
          "output_type": "execute_result",
          "data": {
            "text/plain": [
              "CollectionInfo(status=<CollectionStatus.GREEN: 'green'>, optimizer_status=<OptimizersStatusOneOf.OK: 'ok'>, vectors_count=None, indexed_vectors_count=0, points_count=6, segments_count=2, config=CollectionConfig(params=CollectionParams(vectors=VectorParams(size=4, distance=<Distance.DOT: 'Dot'>, hnsw_config=None, quantization_config=None, on_disk=None, datatype=None), shard_number=1, sharding_method=None, replication_factor=1, write_consistency_factor=1, read_fan_out_factor=None, on_disk_payload=True, sparse_vectors=None), hnsw_config=HnswConfig(m=16, ef_construct=100, full_scan_threshold=10000, max_indexing_threads=0, on_disk=False, payload_m=None), optimizer_config=OptimizersConfig(deleted_threshold=0.2, vacuum_min_vector_number=1000, default_segment_number=0, max_segment_size=None, memmap_threshold=None, indexing_threshold=20000, flush_interval_sec=5, max_optimization_threads=None), wal_config=WalConfig(wal_capacity_mb=32, wal_segments_ahead=0), quantization_config=None), payload_schema={})"
            ]
          },
          "metadata": {},
          "execution_count": 10
        }
      ],
      "source": [
        "# コレクションの情報を取得\n",
        "client.get_collection( collection_name=qdrant_collection_name )"
      ]
    },
    {
      "cell_type": "code",
      "source": [
        "# コレクションを削除\n",
        "# client.delete_collection( collection_name=qdrant_collection_name )"
      ],
      "metadata": {
        "id": "l8KxkiUO0TS_"
      },
      "execution_count": 11,
      "outputs": []
    },
    {
      "cell_type": "markdown",
      "source": [
        "## まとめ\n",
        "\n",
        "このセッションでは以下を確認しました。\n",
        "\n",
        "- Qdrant サーバーの起動\n",
        "  - コマンド一行で起動できる\n",
        "\n",
        "- Qdrant の考え方\n",
        "  - コレクション(テーブル)にポイント(アイテム) を追加して検索する\n",
        "  - ポイント(アイテム)にはペイロード(メタ情報)が付加できる\n",
        "  - ポイント(アイテム)にはIDがある\n",
        "\n",
        "- Qdrant の利用\n",
        "  - Python API 経由で利用できる\n",
        "  - ベクトル検索ができる\n",
        "  - 距離関数が指定できる\n",
        "  - ペイロードでフィルタリングできる\n",
        "  - 検索時にペイロードが取得できる\n",
        "\n"
      ],
      "metadata": {
        "id": "2NTdgEHp4T4o"
      }
    }
  ],
  "metadata": {
    "colab": {
      "provenance": [],
      "authorship_tag": "ABX9TyMZey/T8xH7tUGXo81iI1BH",
      "include_colab_link": true
    },
    "kernelspec": {
      "display_name": "Python 3",
      "name": "python3"
    },
    "language_info": {
      "name": "python"
    }
  },
  "nbformat": 4,
  "nbformat_minor": 0
}