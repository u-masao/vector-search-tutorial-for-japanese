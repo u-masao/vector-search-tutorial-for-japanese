{
  "cells": [
    {
      "cell_type": "markdown",
      "metadata": {
        "id": "view-in-github",
        "colab_type": "text"
      },
      "source": [
        "<a href=\"https://colab.research.google.com/github/u-masao/vector-search-tutorial-for-japanese/blob/main/Session03.ipynb\" target=\"_parent\"><img src=\"https://colab.research.google.com/assets/colab-badge.svg\" alt=\"Open In Colab\"/></a>"
      ]
    },
    {
      "cell_type": "markdown",
      "metadata": {
        "id": "Bv7yTGuzPRLa"
      },
      "source": [
        "# 日本語のためのベクトル検索ハンズオン：Session 3\n",
        "\n",
        "このセッションでは Qdrant 公式サイトのクイックスタートを実行します。\n",
        "\n",
        "Docker で Qdrant を実行して、Python SDK で基本的な操作をします。"
      ]
    },
    {
      "cell_type": "markdown",
      "metadata": {
        "id": "5F9gBIkeQLub"
      },
      "source": [
        "## 環境構築\n"
      ]
    },
    {
      "cell_type": "markdown",
      "metadata": {
        "id": "GMook7KdSTrT"
      },
      "source": [
        "### Google Colab 向け Docker インストール"
      ]
    },
    {
      "cell_type": "code",
      "execution_count": 1,
      "metadata": {
        "colab": {
          "base_uri": "https://localhost:8080/"
        },
        "id": "xEqPBCWsPOEM",
        "outputId": "f4feb75d-4568-497d-eeb5-bb4ecda97a6d"
      },
      "outputs": [
        {
          "output_type": "stream",
          "name": "stdout",
          "text": [
            "Docker-in-Colab 1.1.0\n",
            "\n",
            "Usage:     udocker(\"--help\")\n",
            "Examples:  https://github.com/indigo-dc/udocker?tab=readme-ov-file#examples\n"
          ]
        }
      ],
      "source": [
        "# Copyright 2024 Drengskapur\n",
        "#\n",
        "# Licensed under the Apache License, Version 2.0 (the \"License\");\n",
        "# you may not use this file except in compliance with the License.\n",
        "# You may obtain a copy of the License at\n",
        "#\n",
        "#     http://www.apache.org/licenses/LICENSE-2.0\n",
        "#\n",
        "# Unless required by applicable law or agreed to in writing, software\n",
        "# distributed under the License is distributed on an \"AS IS\" BASIS,\n",
        "# WITHOUT WARRANTIES OR CONDITIONS OF ANY KIND, either express or implied.\n",
        "# See the License for the specific language governing permissions and\n",
        "# limitations under the License.\n",
        "#\n",
        "# @title {display-mode:\"form\"}\n",
        "# @markdown <br/><br/><center><img src=\"https://cdn.jsdelivr.net/gh/drengskapur/docker-in-colab/assets/docker.svg\" height=\"150\"><img src=\"https://cdn.jsdelivr.net/gh/drengskapur/docker-in-colab/assets/colab.svg\" height=\"150\"></center><br/>\n",
        "# @markdown <center><h1>Docker in Colab</h1></center><center>github.com/drengskapur/docker-in-colab<br/><br/><br/><b>udocker(\"run hello-world\")</b></center><br/>\n",
        "def udocker_init():\n",
        "    import os\n",
        "    if not os.path.exists(\"/home/user\"):\n",
        "        !pip install udocker > /dev/null\n",
        "        !udocker --allow-root install > /dev/null\n",
        "        !useradd -m user > /dev/null\n",
        "    print(f'Docker-in-Colab 1.1.0\\n')\n",
        "    print(f'Usage:     udocker(\"--help\")')\n",
        "    print(f'Examples:  https://github.com/indigo-dc/udocker?tab=readme-ov-file#examples')\n",
        "\n",
        "    def execute(command: str):\n",
        "        user_prompt = \"\\033[1;32muser@pc\\033[0m\"\n",
        "        print(f\"{user_prompt}$ udocker {command}\")\n",
        "        !su - user -c \"udocker $command\"\n",
        "\n",
        "    return execute\n",
        "\n",
        "udocker = udocker_init()"
      ]
    },
    {
      "cell_type": "code",
      "execution_count": 2,
      "metadata": {
        "id": "cjQ31PyoQKJY"
      },
      "outputs": [],
      "source": [
        "# udocker(\"pull qdrant/qdrant\")"
      ]
    },
    {
      "cell_type": "code",
      "execution_count": 3,
      "metadata": {
        "colab": {
          "base_uri": "https://localhost:8080/"
        },
        "id": "rPQkq6ngQrgl",
        "outputId": "43520980-f5fd-4f6e-a267-b8f80a0b0b15"
      },
      "outputs": [
        {
          "output_type": "stream",
          "name": "stdout",
          "text": [
            "\u001b[1;32muser@pc\u001b[0m$ udocker run -p 127.0.0.1:6333:6333 -p 127.0.0.1:6334:6334 qdrant/qdrant\n",
            "Warning: this container exposes TCP/IP ports\n",
            " \n",
            " ****************************************************************************** \n",
            " *                                                                            * \n",
            " *               STARTING 6bad72c1-be3d-3bce-9d0c-b64ebdd80def                * \n",
            " *                                                                            * \n",
            " ****************************************************************************** \n",
            " executing: entrypoint.sh\n",
            "\u001b[1;31m           _                 _    \u001b[0m\n",
            "\u001b[1;31m  __ _  __| |_ __ __ _ _ __ | |_  \u001b[0m\n",
            "\u001b[1;31m / _` |/ _` | '__/ _` | '_ \\| __| \u001b[0m\n",
            "\u001b[1;31m| (_| | (_| | | | (_| | | | | |_  \u001b[0m\n",
            "\u001b[1;31m \\__, |\\__,_|_|  \\__,_|_| |_|\\__| \u001b[0m\n",
            "\u001b[1;31m    |_|                           \u001b[0m\n",
            "\n",
            "\u001b[32mVersion:\u001b[0m \u001b[1;34m1.8.4\u001b[0m, \u001b[32mbuild:\u001b[0m \u001b[1;34m984f55d6\u001b[0m\n",
            "\u001b[32mAccess web UI at\u001b[0m \u001b[1;4;34mhttp://localhost:6333/dashboard\u001b[0m\n",
            "\n",
            "\u001b[2m2024-04-21T12:43:20.026769Z\u001b[0m \u001b[32m INFO\u001b[0m \u001b[2mstorage::content_manager::consensus::persistent\u001b[0m\u001b[2m:\u001b[0m Initializing new raft state at ./storage/raft_state.json    \n",
            "\u001b[2m2024-04-21T12:43:20.399566Z\u001b[0m \u001b[32m INFO\u001b[0m \u001b[2mqdrant\u001b[0m\u001b[2m:\u001b[0m Distributed mode disabled    \n",
            "\u001b[2m2024-04-21T12:43:20.399627Z\u001b[0m \u001b[32m INFO\u001b[0m \u001b[2mqdrant\u001b[0m\u001b[2m:\u001b[0m Telemetry reporting enabled, id: 22706ae1-5141-437a-b612-f3351b552a80    \n",
            "\u001b[2m2024-04-21T12:43:20.418522Z\u001b[0m \u001b[32m INFO\u001b[0m \u001b[2mqdrant::actix\u001b[0m\u001b[2m:\u001b[0m TLS disabled for REST API    \n",
            "\u001b[2m2024-04-21T12:43:20.421394Z\u001b[0m \u001b[31mERROR\u001b[0m \u001b[2mqdrant\u001b[0m\u001b[2m:\u001b[0m Error while starting REST server: Address already in use (os error 98)    \n",
            "Error: Address already in use (os error 98)\n"
          ]
        }
      ],
      "source": [
        "udocker(\"run -p 127.0.0.1:6333:6333 -p 127.0.0.1:6334:6334 qdrant/qdrant\")\n",
        "\n",
        "# 初回実行時は正常に終了しないことがあります。しばらくして応答がなければランタイムをリセットしてください。"
      ]
    },
    {
      "cell_type": "markdown",
      "metadata": {
        "id": "madZO25zSfyU"
      },
      "source": [
        "###  SageMaker 向け docker インストール\n",
        "\n",
        "(省略)"
      ]
    },
    {
      "cell_type": "markdown",
      "metadata": {
        "id": "Z9Ynlie0sttz"
      },
      "source": [
        "## パッケージのインストールと読み込み"
      ]
    },
    {
      "cell_type": "code",
      "execution_count": 4,
      "metadata": {
        "id": "JplRDqwlsy-j"
      },
      "outputs": [],
      "source": [
        "!pip install -q qdrant-client japanize_matplotlib sentence-transformers"
      ]
    },
    {
      "cell_type": "code",
      "execution_count": 5,
      "metadata": {
        "id": "sObM1NMDstHD"
      },
      "outputs": [],
      "source": [
        "from sentence_transformers import SentenceTransformer\n",
        "import pandas as pd\n",
        "import numpy as np"
      ]
    },
    {
      "cell_type": "markdown",
      "metadata": {
        "id": "nYi6lzOrTQQ2"
      },
      "source": [
        "## Qdrant の利用\n",
        "\n",
        "以下を実行します。\n",
        "\n",
        "- Qdrant Client を初期化\n",
        "- コレクションを初期化(内積計算モード)\n",
        "- ポイント(アイテム)を登録\n",
        "- ベクトル検索のクエリ例\n",
        "- ベクトル検索&フィルタリングのクエリ例"
      ]
    },
    {
      "cell_type": "code",
      "execution_count": 6,
      "metadata": {
        "id": "SqTkL3kWRGM9"
      },
      "outputs": [],
      "source": [
        "from qdrant_client import QdrantClient\n",
        "\n",
        "qdrant_url = \"http://localhost:6333\"\n",
        "qdrant_collection_name = \"test_collection\"\n",
        "\n",
        "# Qdrant Client を初期化\n",
        "client = QdrantClient(url=qdrant_url)"
      ]
    },
    {
      "cell_type": "code",
      "execution_count": null,
      "metadata": {
        "id": "CH79lUfjorOz"
      },
      "outputs": [],
      "source": [
        "# コレクションの情報を取得\n",
        "# status = client.get_collection( collection_name=qdrant_collection_name )\n",
        "# print(status)\n",
        "\n",
        "# コレクションを削除\n",
        "# status = client.delete_collection( collection_name=qdrant_collection_name )\n",
        "# print(status)"
      ]
    },
    {
      "cell_type": "code",
      "execution_count": 8,
      "metadata": {
        "colab": {
          "base_uri": "https://localhost:8080/"
        },
        "id": "Ad_g7GKlRpn6",
        "outputId": "5e13c5f2-8b71-4faa-e353-f9fad9a69121"
      },
      "outputs": [
        {
          "output_type": "execute_result",
          "data": {
            "text/plain": [
              "True"
            ]
          },
          "metadata": {},
          "execution_count": 8
        }
      ],
      "source": [
        "from qdrant_client.models import Distance, VectorParams\n",
        "\n",
        "# コレクション(テーブル)を初期化\n",
        "# ベクトル次元 4次元、距離: 内積\n",
        "# (既にコレクションが定義されている場合はエラーが出ます)\n",
        "#  -> b'{\"status\":{\"error\":\"Wrong input: Collection `test_collection` already exists!\"},\"time\":0.0000995}'\n",
        "client.create_collection(\n",
        "    collection_name=qdrant_collection_name,\n",
        "    vectors_config=VectorParams(size=4, distance=Distance.DOT),\n",
        ")"
      ]
    },
    {
      "cell_type": "code",
      "execution_count": 9,
      "metadata": {
        "colab": {
          "base_uri": "https://localhost:8080/"
        },
        "id": "B97J6dUlR4Vf",
        "outputId": "2321757a-94c5-4278-825f-56e9048e84d4"
      },
      "outputs": [
        {
          "output_type": "stream",
          "name": "stdout",
          "text": [
            "operation_id=0 status=<UpdateStatus.COMPLETED: 'completed'>\n"
          ]
        }
      ],
      "source": [
        "from qdrant_client.models import PointStruct\n",
        "\n",
        "# ポイント(アイテム)を追加\n",
        "# ベクトルとペイロード( {\"city\":\"xxxx\"} )\n",
        "operation_info = client.upsert(\n",
        "    collection_name=qdrant_collection_name,\n",
        "    wait=True,\n",
        "    points=[\n",
        "        PointStruct(id=1, vector=[0.05, 0.61, 0.76, 0.74], payload={\"city\": \"Berlin\"}),\n",
        "        PointStruct(id=2, vector=[0.19, 0.81, 0.75, 0.11], payload={\"city\": \"London\"}),\n",
        "        PointStruct(id=3, vector=[0.36, 0.55, 0.47, 0.94], payload={\"city\": \"Moscow\"}),\n",
        "        PointStruct(id=4, vector=[0.18, 0.01, 0.85, 0.80], payload={\"city\": \"New York\"}),\n",
        "        PointStruct(id=5, vector=[0.24, 0.18, 0.22, 0.44], payload={\"city\": \"Beijing\"}),\n",
        "        PointStruct(id=6, vector=[0.35, 0.08, 0.11, 0.44], payload={\"city\": \"Mumbai\"}),\n",
        "    ],\n",
        ")\n",
        "\n",
        "print(operation_info)"
      ]
    },
    {
      "cell_type": "code",
      "execution_count": 10,
      "metadata": {
        "colab": {
          "base_uri": "https://localhost:8080/"
        },
        "id": "y7POkQ60R78h",
        "outputId": "fc43d7e3-1ee2-4cc5-cd49-92a1e8f6faac"
      },
      "outputs": [
        {
          "output_type": "stream",
          "name": "stdout",
          "text": [
            "id=4 version=0 score=1.362 payload={'city': 'New York'} vector=None shard_key=None\n",
            "id=1 version=0 score=1.273 payload={'city': 'Berlin'} vector=None shard_key=None\n",
            "id=3 version=0 score=1.208 payload={'city': 'Moscow'} vector=None shard_key=None\n"
          ]
        }
      ],
      "source": [
        "# ベクトル検索\n",
        "search_result = client.search(\n",
        "    collection_name=qdrant_collection_name,\n",
        "    query_vector=[0.2, 0.1, 0.9, 0.7],  # 検索キーベクトルを指定\n",
        "    limit=3\n",
        ")\n",
        "\n",
        "_ = [print(x) for x in search_result]"
      ]
    },
    {
      "cell_type": "code",
      "execution_count": 11,
      "metadata": {
        "colab": {
          "base_uri": "https://localhost:8080/"
        },
        "id": "SY39xn0lR8la",
        "outputId": "d2ea091d-6c06-494e-d0db-0e59098aba76"
      },
      "outputs": [
        {
          "output_type": "stream",
          "name": "stdout",
          "text": [
            "id=2 version=0 score=0.871 payload={'city': 'London'} vector=None shard_key=None\n"
          ]
        }
      ],
      "source": [
        "from qdrant_client.models import Filter, FieldCondition, MatchValue\n",
        "\n",
        "# ベクトル検索 & フィルタリングの検索例\n",
        "search_result = client.search(\n",
        "    collection_name=qdrant_collection_name,\n",
        "    query_vector=[0.2, 0.1, 0.9, 0.7],  # ベクトル検索キー\n",
        "    query_filter=Filter(\n",
        "        must=[FieldCondition(key=\"city\", match=MatchValue(value=\"London\"))]  # ペイロードでフィルタリング\n",
        "    ),\n",
        "    with_payload=True,  # ペイロードを取得\n",
        "    limit=3,\n",
        ")\n",
        "\n",
        "_ = [print(x) for x in search_result]"
      ]
    }
  ],
  "metadata": {
    "colab": {
      "provenance": [],
      "authorship_tag": "ABX9TyPefXfLfPagPqZX73HJfujR",
      "include_colab_link": true
    },
    "kernelspec": {
      "display_name": "Python 3",
      "name": "python3"
    },
    "language_info": {
      "name": "python"
    }
  },
  "nbformat": 4,
  "nbformat_minor": 0
}