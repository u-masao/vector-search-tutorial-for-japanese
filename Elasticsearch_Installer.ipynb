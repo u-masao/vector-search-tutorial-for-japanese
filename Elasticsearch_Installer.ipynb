{
  "nbformat": 4,
  "nbformat_minor": 0,
  "metadata": {
    "colab": {
      "provenance": [],
      "authorship_tag": "ABX9TyOayPZgzq+ei/rXaqJ7Id++",
      "include_colab_link": true
    },
    "kernelspec": {
      "name": "python3",
      "display_name": "Python 3"
    },
    "language_info": {
      "name": "python"
    }
  },
  "cells": [
    {
      "cell_type": "markdown",
      "metadata": {
        "id": "view-in-github",
        "colab_type": "text"
      },
      "source": [
        "<a href=\"https://colab.research.google.com/github/u-masao/vector-search-tutorial-for-japanese/blob/main/Elasticsearch_Installer.ipynb\" target=\"_parent\"><img src=\"https://colab.research.google.com/assets/colab-badge.svg\" alt=\"Open In Colab\"/></a>"
      ]
    },
    {
      "cell_type": "markdown",
      "source": [
        "# Elasticsearch Installer"
      ],
      "metadata": {
        "id": "UdYmFUNneVEZ"
      }
    },
    {
      "cell_type": "code",
      "source": [
        "ES_VERSION='8.18.2'"
      ],
      "metadata": {
        "colab": {
          "base_uri": "https://localhost:8080/"
        },
        "id": "-Fms5M9_iJmA",
        "outputId": "198f7275-75af-4426-9c87-8e6e8edefaf0"
      },
      "execution_count": 3,
      "outputs": [
        {
          "output_type": "stream",
          "name": "stdout",
          "text": [
            "8.18.2\n"
          ]
        }
      ]
    },
    {
      "cell_type": "code",
      "source": [
        "# スクリプト用に環境変数を設定\n",
        "import os\n",
        "\n",
        "os.environ['ES_VERSION']=ES_VERSION\n",
        "os.environ['ES_FILENAME']=f\"elasticsearch-{ES_VERSION}-linux-x86_64.tar.gz\"\n",
        "os.environ['ES_DIRNAME']=f\"elasticsearch-{ES_VERSION}\""
      ],
      "metadata": {
        "id": "iFufx1MpgMhO"
      },
      "execution_count": 19,
      "outputs": []
    },
    {
      "cell_type": "code",
      "source": [
        "# Java ランタイムのインストール（yum、apt-get 自動切換え）\n",
        "\n",
        "%%bash\n",
        "\n",
        "# スクリプトの途中でエラーが発生したら、処理を中断する\n",
        "set -e\n",
        "\n",
        "# --- 共通の変数定義 ---\n",
        "\n",
        "echo \"--- 1. 環境を判定し、Java (JDK) をインストールします ---\"\n",
        "\n",
        "# 'command -v' を使って yum と apt-get の存在を確認し、処理を分岐\n",
        "if command -v yum &> /dev/null; then\n",
        "    # --- SageMaker (Amazon Linux) 向けの処理 ---\n",
        "    echo \"Yum-based system (SageMaker/Amazon Linux) を検出しました。\"\n",
        "    sudo yum install -y java-11-openjdk-headless\n",
        "elif command -v apt-get &> /dev/null; then\n",
        "    # --- Google Colab (Debian/Ubuntu) 向けの処理 ---\n",
        "    echo \"Apt-based system (Google Colab/Debian) を検出しました。\"\n",
        "    # 最初にパッケージリストを更新するのが良い作法\n",
        "    sudo apt-get update -qq\n",
        "    sudo apt-get install -y openjdk-11-jdk-headless -qq\n",
        "else\n",
        "    # どちらのパッケージマネージャーも見つからない場合\n",
        "    echo \"エラー: yum も apt-get も見つかりません。Javaをインストールできません。\" >&2\n",
        "    exit 1\n",
        "fi\n",
        "echo \"✅ Javaのインストールが完了しました。\""
      ],
      "metadata": {
        "colab": {
          "base_uri": "https://localhost:8080/"
        },
        "id": "yCcS1iIca5om",
        "outputId": "496bebd5-35f2-4aaa-c83f-3b7a729edcc9"
      },
      "execution_count": 20,
      "outputs": [
        {
          "output_type": "stream",
          "name": "stdout",
          "text": [
            "--- 1. 環境を判定し、Java (JDK) をインストールします ---\n",
            "Apt-based system (Google Colab/Debian) を検出しました。\n",
            "✅ Javaのインストールが完了しました。\n"
          ]
        },
        {
          "output_type": "stream",
          "name": "stderr",
          "text": [
            "W: Skipping acquire of configured file 'main/source/Sources' as repository 'https://r2u.stat.illinois.edu/ubuntu jammy InRelease' does not seem to provide it (sources.list entry misspelt?)\n"
          ]
        }
      ]
    },
    {
      "cell_type": "code",
      "source": [
        "# ダウンロード、展開、設定、ユーザー作成\n",
        "\n",
        "%%bash\n",
        "\n",
        "set -e\n",
        "\n",
        "echo -e \"\\n--- 2. Elasticsearch ${ES_VERSION} のダウンロードと展開 ---\"\n",
        "\n",
        "if [ ! -f \"${ES_FILENAME}\" ]; then\n",
        "    wget \"https://artifacts.elastic.co/downloads/elasticsearch/${ES_FILENAME}\" -q\n",
        "    echo \"✅ ダウンロードが完了しました。\"\n",
        "else\n",
        "    echo \"✅ ファイルは既に存在します。ダウンロードをスキップします。\"\n",
        "fi\n",
        "ls\n",
        "tar -xzf \"${ES_FILENAME}\"\n",
        "echo \"✅ Elasticsearchの展開が完了しました。\"\n",
        "\n",
        "echo -e \"\\n--- 3. 設定ファイルの追記 ---\"\n",
        "\n",
        "CONFIG_FILE=\"./${ES_DIRNAME}/config/elasticsearch.yml\"\n",
        "\n",
        "# 設定が重複しないように、一度ファイルから該当行を削除してから追記する\n",
        "grep -q \"xpack.security.enabled\" \"${CONFIG_FILE}\" && sed -i \"/xpack.security.enabled/d\" \"${CONFIG_FILE}\" || true\n",
        "echo \"xpack.security.enabled: false\" >> \"${CONFIG_FILE}\"\n",
        "echo \"✅ セキュリティ機能を無効にする設定を追記しました。\"\n",
        "\n",
        "grep -q \"xpack.ml.enabled\" \"${CONFIG_FILE}\" && sed -i \"/xpack.ml.enabled/d\" \"${CONFIG_FILE}\" || true\n",
        "echo \"xpack.ml.enabled: false\" >> \"${CONFIG_FILE}\"\n",
        "echo \"✅ Machine Learning機能を無効にする設定を追記しました。\"\n",
        "\n",
        "echo -e \"\\n--- 4. 実行ユーザーの作成と権限設定 ---\"\n",
        "# sudoコマンドはColab(root環境)でも問題なく実行できるため、共通化できる\n",
        "# 既にユーザーが存在する場合のエラーを回避するため '|| true' を追加\n",
        "sudo useradd -m -s /bin/bash elastic || true\n",
        "sudo chown -R elastic:elastic \"./${ES_DIRNAME}/\"\n",
        "echo \"✅ 実行ユーザーの作成と権限設定が完了しました。\""
      ],
      "metadata": {
        "colab": {
          "base_uri": "https://localhost:8080/"
        },
        "id": "BKYMLQ0sjfMC",
        "outputId": "bf64ad70-7b23-4126-a0d5-4c33d7551745"
      },
      "execution_count": 21,
      "outputs": [
        {
          "output_type": "stream",
          "name": "stdout",
          "text": [
            "\n",
            "--- 2. Elasticsearch 8.18.2 のダウンロードと展開 ---\n",
            "✅ ダウンロードが完了しました。\n",
            "elasticsearch-8.13.4\n",
            "elasticsearch-8.18.2-gomi\n",
            "elasticsearch-8.18.2-linux-x86_64.tar.gz\n",
            "sample_data\n",
            "✅ Elasticsearchの展開が完了しました。\n",
            "\n",
            "--- 3. 設定ファイルの追記 ---\n",
            "✅ セキュリティ機能を無効にする設定を追記しました。\n",
            "✅ Machine Learning機能を無効にする設定を追記しました。\n",
            "\n",
            "--- 4. 実行ユーザーの作成と権限設定 ---\n",
            "✅ 実行ユーザーの作成と権限設定が完了しました。\n"
          ]
        },
        {
          "output_type": "stream",
          "name": "stderr",
          "text": [
            "+ echo -e '\\n--- 2. Elasticsearch 8.18.2 のダウンロードと展開 ---'\n",
            "+ '[' '!' -f elasticsearch-8.18.2-linux-x86_64.tar.gz ']'\n",
            "+ wget https://artifacts.elastic.co/downloads/elasticsearch/elasticsearch-8.18.2-linux-x86_64.tar.gz -q\n",
            "+ echo '✅ ダウンロードが完了しました。'\n",
            "+ ls\n",
            "+ tar -xzf elasticsearch-8.18.2-linux-x86_64.tar.gz\n",
            "+ echo '✅ Elasticsearchの展開が完了しました。'\n",
            "+ echo -e '\\n--- 3. 設定ファイルの追記 ---'\n",
            "+ CONFIG_FILE=./elasticsearch-8.18.2/config/elasticsearch.yml\n",
            "+ grep -q xpack.security.enabled ./elasticsearch-8.18.2/config/elasticsearch.yml\n",
            "+ true\n",
            "+ echo 'xpack.security.enabled: false'\n",
            "+ echo '✅ セキュリティ機能を無効にする設定を追記しました。'\n",
            "+ grep -q xpack.ml.enabled ./elasticsearch-8.18.2/config/elasticsearch.yml\n",
            "+ true\n",
            "+ echo 'xpack.ml.enabled: false'\n",
            "+ echo '✅ Machine Learning機能を無効にする設定を追記しました。'\n",
            "+ echo -e '\\n--- 4. 実行ユーザーの作成と権限設定 ---'\n",
            "+ sudo useradd -m -s /bin/bash elastic\n",
            "useradd: user 'elastic' already exists\n",
            "+ true\n",
            "+ sudo chown -R elastic:elastic ./elasticsearch-8.18.2/\n",
            "+ echo '✅ 実行ユーザーの作成と権限設定が完了しました。'\n"
          ]
        }
      ]
    },
    {
      "cell_type": "code",
      "source": [
        "%%bash\n",
        "# スクリプトの途中でエラーが発生したら、処理を中断する\n",
        "set -e\n",
        "\n",
        "echo -e \"\\n--- 5. Elasticsearchの起動 ---\"\n",
        "# sudo su ... も同様に共通化\n",
        "sudo su elastic -c \"./${ES_DIRNAME}/bin/elasticsearch -d\"\n",
        "echo \"🚀 Elasticsearchをバックグラウンドで起動します... (完了まで30秒ほどかかります)\"\n",
        "\n",
        "# 6. 起動完了まで待機\n",
        "sleep 30\n",
        "\n",
        "echo -e \"\\n--- 7. 起動確認 ---\"\n",
        "curl -X GET \"localhost:9200/\""
      ],
      "metadata": {
        "colab": {
          "base_uri": "https://localhost:8080/"
        },
        "id": "VQa2dxc_f-Yp",
        "outputId": "ad00afe9-9fdb-456d-8774-290f960a6ca7"
      },
      "execution_count": 22,
      "outputs": [
        {
          "output_type": "stream",
          "name": "stdout",
          "text": [
            "\n",
            "--- 5. Elasticsearchの起動 ---\n",
            "[2025-06-19T14:24:24,372][INFO ][o.e.n.j.JdkVectorLibrary ] [eaae98a487ce] vec_caps=1\n",
            "[2025-06-19T14:24:24,419][INFO ][o.e.n.NativeAccess       ] [eaae98a487ce] Using native vector library; to disable start with -Dorg.elasticsearch.nativeaccess.enableVectorLibrary=false\n",
            "[2025-06-19T14:24:24,460][INFO ][o.e.n.NativeAccess       ] [eaae98a487ce] Using [jdk] native provider and native methods for [Linux]\n",
            "[2025-06-19T14:24:24,588][INFO ][o.a.l.i.v.PanamaVectorizationProvider] [eaae98a487ce] Java vector incubator API enabled; uses preferredBitSize=256; FMA enabled\n",
            "[2025-06-19T14:24:24,645][INFO ][o.e.b.Elasticsearch      ] [eaae98a487ce] Bootstrapping Entitlements\n",
            "[2025-06-19T14:24:28,947][INFO ][o.e.n.Node               ] [eaae98a487ce] version[8.18.2], pid[17826], build[tar/c6b8d8d951c631db715485edc1a74190cdce4189/2025-05-23T10:07:06.210694702Z], OS[Linux/6.1.123+/amd64], JVM[Oracle Corporation/OpenJDK 64-Bit Server VM/24/24+36-3646]\n",
            "[2025-06-19T14:24:28,948][INFO ][o.e.n.Node               ] [eaae98a487ce] JVM home [/content/elasticsearch-8.18.2/jdk], using bundled JDK [true]\n",
            "[2025-06-19T14:24:28,949][INFO ][o.e.n.Node               ] [eaae98a487ce] JVM arguments [-Des.networkaddress.cache.ttl=60, -Des.networkaddress.cache.negative.ttl=10, -XX:+AlwaysPreTouch, -Xss1m, -Djava.awt.headless=true, -Dfile.encoding=UTF-8, -Djna.nosys=true, -XX:-OmitStackTraceInFastThrow, -Dio.netty.noUnsafe=true, -Dio.netty.noKeySetOptimization=true, -Dio.netty.recycler.maxCapacityPerThread=0, -Dlog4j.shutdownHookEnabled=false, -Dlog4j2.disable.jmx=true, -Dlog4j2.formatMsgNoLookups=true, -Djava.locale.providers=CLDR, -Dorg.apache.lucene.vectorization.upperJavaFeatureVersion=24, -Des.distribution.type=tar, -Des.java.type=null, --enable-native-access=org.elasticsearch.nativeaccess,org.apache.lucene.core, --enable-native-access=ALL-UNNAMED, --illegal-native-access=deny, -XX:ReplayDataFile=logs/replay_pid%p.log, -Des.entitlements.enabled=true, -XX:+EnableDynamicAgentLoading, -Djdk.attach.allowAttachSelf=true, --patch-module=java.base=lib/entitlement-bridge/elasticsearch-entitlement-bridge-8.18.2.jar, --add-exports=java.base/org.elasticsearch.entitlement.bridge=org.elasticsearch.entitlement,java.logging,java.net.http,java.naming,jdk.net, -XX:+UseG1GC, -Djava.io.tmpdir=/tmp/elasticsearch-1746647108368865511, --add-modules=jdk.incubator.vector, -XX:+HeapDumpOnOutOfMemoryError, -XX:+ExitOnOutOfMemoryError, -XX:HeapDumpPath=data, -XX:ErrorFile=logs/hs_err_pid%p.log, -Xlog:gc*,gc+age=trace,safepoint:file=logs/gc.log:utctime,level,pid,tags:filecount=32,filesize=64m, -Xms6488m, -Xmx6488m, -XX:MaxDirectMemorySize=3401580544, -XX:G1HeapRegionSize=4m, -XX:InitiatingHeapOccupancyPercent=30, -XX:G1ReservePercent=15, --module-path=/content/elasticsearch-8.18.2/lib, --add-modules=jdk.net, --add-modules=jdk.management.agent, --add-modules=ALL-MODULE-PATH, -Djdk.module.main=org.elasticsearch.server]\n",
            "[2025-06-19T14:24:28,950][INFO ][o.e.n.Node               ] [eaae98a487ce] Default Locale [en_US]\n",
            "[2025-06-19T14:24:31,904][INFO ][o.e.p.PluginsService     ] [eaae98a487ce] loaded module [repository-url]\n",
            "[2025-06-19T14:24:31,905][INFO ][o.e.p.PluginsService     ] [eaae98a487ce] loaded module [rest-root]\n",
            "[2025-06-19T14:24:31,905][INFO ][o.e.p.PluginsService     ] [eaae98a487ce] loaded module [x-pack-core]\n",
            "[2025-06-19T14:24:31,906][INFO ][o.e.p.PluginsService     ] [eaae98a487ce] loaded module [x-pack-redact]\n",
            "[2025-06-19T14:24:31,906][INFO ][o.e.p.PluginsService     ] [eaae98a487ce] loaded module [ingest-user-agent]\n",
            "[2025-06-19T14:24:31,906][INFO ][o.e.p.PluginsService     ] [eaae98a487ce] loaded module [x-pack-async-search]\n",
            "[2025-06-19T14:24:31,907][INFO ][o.e.p.PluginsService     ] [eaae98a487ce] loaded module [x-pack-monitoring]\n",
            "[2025-06-19T14:24:31,907][INFO ][o.e.p.PluginsService     ] [eaae98a487ce] loaded module [repository-s3]\n",
            "[2025-06-19T14:24:31,907][INFO ][o.e.p.PluginsService     ] [eaae98a487ce] loaded module [x-pack-analytics]\n",
            "[2025-06-19T14:24:31,907][INFO ][o.e.p.PluginsService     ] [eaae98a487ce] loaded module [x-pack-esql-core]\n",
            "[2025-06-19T14:24:31,908][INFO ][o.e.p.PluginsService     ] [eaae98a487ce] loaded module [x-pack-ent-search]\n",
            "[2025-06-19T14:24:31,908][INFO ][o.e.p.PluginsService     ] [eaae98a487ce] loaded module [x-pack-autoscaling]\n",
            "[2025-06-19T14:24:31,908][INFO ][o.e.p.PluginsService     ] [eaae98a487ce] loaded module [lang-painless]\n",
            "[2025-06-19T14:24:31,908][INFO ][o.e.p.PluginsService     ] [eaae98a487ce] loaded module [x-pack-ml]\n",
            "[2025-06-19T14:24:31,909][INFO ][o.e.p.PluginsService     ] [eaae98a487ce] loaded module [lang-mustache]\n",
            "[2025-06-19T14:24:31,909][INFO ][o.e.p.PluginsService     ] [eaae98a487ce] loaded module [legacy-geo]\n",
            "[2025-06-19T14:24:31,909][INFO ][o.e.p.PluginsService     ] [eaae98a487ce] loaded module [logsdb]\n",
            "[2025-06-19T14:24:31,910][INFO ][o.e.p.PluginsService     ] [eaae98a487ce] loaded module [x-pack-ql]\n",
            "[2025-06-19T14:24:31,910][INFO ][o.e.p.PluginsService     ] [eaae98a487ce] loaded module [rank-rrf]\n",
            "[2025-06-19T14:24:31,910][INFO ][o.e.p.PluginsService     ] [eaae98a487ce] loaded module [analysis-common]\n",
            "[2025-06-19T14:24:31,911][INFO ][o.e.p.PluginsService     ] [eaae98a487ce] loaded module [health-shards-availability]\n",
            "[2025-06-19T14:24:31,911][INFO ][o.e.p.PluginsService     ] [eaae98a487ce] loaded module [transport-netty4]\n",
            "[2025-06-19T14:24:31,911][INFO ][o.e.p.PluginsService     ] [eaae98a487ce] loaded module [aggregations]\n",
            "[2025-06-19T14:24:31,911][INFO ][o.e.p.PluginsService     ] [eaae98a487ce] loaded module [ingest-common]\n",
            "[2025-06-19T14:24:31,912][INFO ][o.e.p.PluginsService     ] [eaae98a487ce] loaded module [x-pack-identity-provider]\n",
            "[2025-06-19T14:24:31,912][INFO ][o.e.p.PluginsService     ] [eaae98a487ce] loaded module [frozen-indices]\n",
            "[2025-06-19T14:24:31,912][INFO ][o.e.p.PluginsService     ] [eaae98a487ce] loaded module [x-pack-shutdown]\n",
            "[2025-06-19T14:24:31,912][INFO ][o.e.p.PluginsService     ] [eaae98a487ce] loaded module [x-pack-text-structure]\n",
            "[2025-06-19T14:24:31,913][INFO ][o.e.p.PluginsService     ] [eaae98a487ce] loaded module [snapshot-repo-test-kit]\n",
            "[2025-06-19T14:24:31,913][INFO ][o.e.p.PluginsService     ] [eaae98a487ce] loaded module [ml-package-loader]\n",
            "[2025-06-19T14:24:31,914][INFO ][o.e.p.PluginsService     ] [eaae98a487ce] loaded module [kibana]\n",
            "[2025-06-19T14:24:31,914][INFO ][o.e.p.PluginsService     ] [eaae98a487ce] loaded module [constant-keyword]\n",
            "[2025-06-19T14:24:31,914][INFO ][o.e.p.PluginsService     ] [eaae98a487ce] loaded module [x-pack-logstash]\n",
            "[2025-06-19T14:24:31,915][INFO ][o.e.p.PluginsService     ] [eaae98a487ce] loaded module [x-pack-ccr]\n",
            "[2025-06-19T14:24:31,916][INFO ][o.e.p.PluginsService     ] [eaae98a487ce] loaded module [x-pack-graph]\n",
            "[2025-06-19T14:24:31,917][INFO ][o.e.p.PluginsService     ] [eaae98a487ce] loaded module [rank-vectors]\n",
            "[2025-06-19T14:24:31,917][INFO ][o.e.p.PluginsService     ] [eaae98a487ce] loaded module [x-pack-esql]\n",
            "[2025-06-19T14:24:31,918][INFO ][o.e.p.PluginsService     ] [eaae98a487ce] loaded module [parent-join]\n",
            "[2025-06-19T14:24:31,918][INFO ][o.e.p.PluginsService     ] [eaae98a487ce] loaded module [x-pack-enrich]\n",
            "[2025-06-19T14:24:31,918][INFO ][o.e.p.PluginsService     ] [eaae98a487ce] loaded module [counted-keyword]\n",
            "[2025-06-19T14:24:31,918][INFO ][o.e.p.PluginsService     ] [eaae98a487ce] loaded module [repositories-metering-api]\n",
            "[2025-06-19T14:24:31,918][INFO ][o.e.p.PluginsService     ] [eaae98a487ce] loaded module [transform]\n",
            "[2025-06-19T14:24:31,918][INFO ][o.e.p.PluginsService     ] [eaae98a487ce] loaded module [repository-azure]\n",
            "[2025-06-19T14:24:31,919][INFO ][o.e.p.PluginsService     ] [eaae98a487ce] loaded module [dot-prefix-validation]\n",
            "[2025-06-19T14:24:31,919][INFO ][o.e.p.PluginsService     ] [eaae98a487ce] loaded module [repository-gcs]\n",
            "[2025-06-19T14:24:31,919][INFO ][o.e.p.PluginsService     ] [eaae98a487ce] loaded module [spatial]\n",
            "[2025-06-19T14:24:31,919][INFO ][o.e.p.PluginsService     ] [eaae98a487ce] loaded module [x-pack-otel-data]\n",
            "[2025-06-19T14:24:31,919][INFO ][o.e.p.PluginsService     ] [eaae98a487ce] loaded module [apm]\n",
            "[2025-06-19T14:24:31,919][INFO ][o.e.p.PluginsService     ] [eaae98a487ce] loaded module [mapper-version]\n",
            "[2025-06-19T14:24:31,920][INFO ][o.e.p.PluginsService     ] [eaae98a487ce] loaded module [mapper-extras]\n",
            "[2025-06-19T14:24:31,920][INFO ][o.e.p.PluginsService     ] [eaae98a487ce] loaded module [x-pack-rollup]\n",
            "[2025-06-19T14:24:31,920][INFO ][o.e.p.PluginsService     ] [eaae98a487ce] loaded module [percolator]\n",
            "[2025-06-19T14:24:31,920][INFO ][o.e.p.PluginsService     ] [eaae98a487ce] loaded module [x-pack-migrate]\n",
            "[2025-06-19T14:24:31,920][INFO ][o.e.p.PluginsService     ] [eaae98a487ce] loaded module [x-pack-stack]\n",
            "[2025-06-19T14:24:31,920][INFO ][o.e.p.PluginsService     ] [eaae98a487ce] loaded module [data-streams]\n",
            "[2025-06-19T14:24:31,920][INFO ][o.e.p.PluginsService     ] [eaae98a487ce] loaded module [reindex]\n",
            "[2025-06-19T14:24:31,921][INFO ][o.e.p.PluginsService     ] [eaae98a487ce] loaded module [rank-eval]\n",
            "[2025-06-19T14:24:31,921][INFO ][o.e.p.PluginsService     ] [eaae98a487ce] loaded module [x-pack-security]\n",
            "[2025-06-19T14:24:31,921][INFO ][o.e.p.PluginsService     ] [eaae98a487ce] loaded module [blob-cache]\n",
            "[2025-06-19T14:24:31,921][INFO ][o.e.p.PluginsService     ] [eaae98a487ce] loaded module [searchable-snapshots]\n",
            "[2025-06-19T14:24:31,921][INFO ][o.e.p.PluginsService     ] [eaae98a487ce] loaded module [x-pack-slm]\n",
            "[2025-06-19T14:24:31,921][INFO ][o.e.p.PluginsService     ] [eaae98a487ce] loaded module [x-pack-geoip-enterprise-downloader]\n",
            "[2025-06-19T14:24:31,922][INFO ][o.e.p.PluginsService     ] [eaae98a487ce] loaded module [snapshot-based-recoveries]\n",
            "[2025-06-19T14:24:31,922][INFO ][o.e.p.PluginsService     ] [eaae98a487ce] loaded module [x-pack-watcher]\n",
            "[2025-06-19T14:24:31,922][INFO ][o.e.p.PluginsService     ] [eaae98a487ce] loaded module [old-lucene-versions]\n",
            "[2025-06-19T14:24:31,922][INFO ][o.e.p.PluginsService     ] [eaae98a487ce] loaded module [x-pack-ilm]\n",
            "[2025-06-19T14:24:31,922][INFO ][o.e.p.PluginsService     ] [eaae98a487ce] loaded module [x-pack-voting-only-node]\n",
            "[2025-06-19T14:24:31,922][INFO ][o.e.p.PluginsService     ] [eaae98a487ce] loaded module [x-pack-inference]\n",
            "[2025-06-19T14:24:31,925][INFO ][o.e.p.PluginsService     ] [eaae98a487ce] loaded module [x-pack-deprecation]\n",
            "[2025-06-19T14:24:31,925][INFO ][o.e.p.PluginsService     ] [eaae98a487ce] loaded module [x-pack-fleet]\n",
            "[2025-06-19T14:24:31,926][INFO ][o.e.p.PluginsService     ] [eaae98a487ce] loaded module [x-pack-profiling]\n",
            "[2025-06-19T14:24:31,926][INFO ][o.e.p.PluginsService     ] [eaae98a487ce] loaded module [x-pack-aggregate-metric]\n",
            "[2025-06-19T14:24:31,927][INFO ][o.e.p.PluginsService     ] [eaae98a487ce] loaded module [x-pack-downsample]\n",
            "[2025-06-19T14:24:31,927][INFO ][o.e.p.PluginsService     ] [eaae98a487ce] loaded module [ingest-geoip]\n",
            "[2025-06-19T14:24:31,929][INFO ][o.e.p.PluginsService     ] [eaae98a487ce] loaded module [x-pack-write-load-forecaster]\n",
            "[2025-06-19T14:24:31,929][INFO ][o.e.p.PluginsService     ] [eaae98a487ce] loaded module [search-business-rules]\n",
            "[2025-06-19T14:24:31,931][INFO ][o.e.p.PluginsService     ] [eaae98a487ce] loaded module [wildcard]\n",
            "[2025-06-19T14:24:31,935][INFO ][o.e.p.PluginsService     ] [eaae98a487ce] loaded module [ingest-attachment]\n",
            "[2025-06-19T14:24:31,935][INFO ][o.e.p.PluginsService     ] [eaae98a487ce] loaded module [x-pack-apm-data]\n",
            "[2025-06-19T14:24:31,935][INFO ][o.e.p.PluginsService     ] [eaae98a487ce] loaded module [unsigned-long]\n",
            "[2025-06-19T14:24:31,935][INFO ][o.e.p.PluginsService     ] [eaae98a487ce] loaded module [x-pack-sql]\n",
            "[2025-06-19T14:24:31,936][INFO ][o.e.p.PluginsService     ] [eaae98a487ce] loaded module [x-pack-async]\n",
            "[2025-06-19T14:24:31,936][INFO ][o.e.p.PluginsService     ] [eaae98a487ce] loaded module [runtime-fields-common]\n",
            "[2025-06-19T14:24:31,937][INFO ][o.e.p.PluginsService     ] [eaae98a487ce] loaded module [x-pack-kql]\n",
            "[2025-06-19T14:24:31,939][INFO ][o.e.p.PluginsService     ] [eaae98a487ce] loaded module [vector-tile]\n",
            "[2025-06-19T14:24:31,940][INFO ][o.e.p.PluginsService     ] [eaae98a487ce] loaded module [lang-expression]\n",
            "[2025-06-19T14:24:31,940][INFO ][o.e.p.PluginsService     ] [eaae98a487ce] loaded module [x-pack-eql]\n",
            "[2025-06-19T14:24:34,018][INFO ][o.e.e.NodeEnvironment    ] [eaae98a487ce] using [1] data paths, mounts [[/ (overlay)]], net usable_space [66.1gb], net total_space [107.7gb], types [overlay]\n",
            "[2025-06-19T14:24:34,019][INFO ][o.e.e.NodeEnvironment    ] [eaae98a487ce] heap size [6.3gb], compressed ordinary object pointers [true]\n",
            "[2025-06-19T14:24:34,039][INFO ][o.e.n.Node               ] [eaae98a487ce] node name [eaae98a487ce], node ID [Gs5w0SPET92R1eL087L3Pw], cluster name [elasticsearch], roles [data_hot, ml, data_frozen, ingest, data_cold, data, remote_cluster_client, master, data_warm, data_content, transform]\n",
            "[2025-06-19T14:24:40,630][INFO ][o.e.i.r.RecoverySettings ] [eaae98a487ce] using rate limit [40mb] with [default=40mb, read=0b, write=0b, max=0b]\n",
            "[2025-06-19T14:24:41,259][INFO ][o.e.f.FeatureService     ] [eaae98a487ce] Registered local node features [cluster.stats.source_modes, data_stream.auto_sharding, data_stream.lifecycle.global_retention, data_stream.rollover.lazy, desired_node.version_deprecated, esql.agg_values, esql.async_query, esql.base64_decode_encode, esql.casting_operator, esql.counter_types, esql.disable_nullable_opts, esql.from_options, esql.metadata_fields, esql.metrics_counter_fields, esql.mv_ordering_sorted_ascending, esql.mv_sort, esql.resolve_fields_api, esql.spatial_points_from_source, esql.spatial_shapes, esql.st_centroid_agg, esql.st_contains_within, esql.st_disjoint, esql.st_intersects, esql.st_x_y, esql.string_literal_auto_casting, esql.string_literal_auto_casting_extended, esql.timespan_abbreviations, features_supported, file_settings, flattened.ignore_above_support, geoip.downloader.database.configuration, get_database_configuration_action.multi_node, health.dsl.info, health.extended_repository_indicator, knn_retriever_supported, license-trial-independent-version, linear_retriever_supported, logsdb_telemetry, logsdb_telemetry_stats, mapper.boolean_dimension, mapper.flattened.ignore_above_with_arrays_support, mapper.ignore_above_index_level_setting, mapper.index_sorting_on_nested, mapper.keyword_dimension_ignore_above, mapper.keyword_normalizer_synthetic_source, mapper.pass_through_priority, mapper.query_index_mode, mapper.range.null_values_off_by_one_fix, mapper.segment_level_fields_stats, mapper.source.synthetic_source_copy_to_fix, mapper.source.synthetic_source_copy_to_inside_objects_fix, mapper.source.synthetic_source_fallback, mapper.source.synthetic_source_stored_fields_advance_fix, mapper.source.synthetic_source_with_copy_to_and_doc_values_false, mapper.subobjects_auto, mapper.subobjects_auto_fixes, mapper.synthetic_source_keep, mapper.track_ignored_source, mapper.vectors.bbq, mapper.vectors.bit_vectors, mapper.vectors.int4_quantization, put_database_configuration_action.ipinfo, query_rule_list_types, query_rule_retriever_supported, query_rules.test, random_reranker_retriever_supported, repositories.supports_usage_stats, rest.capabilities_action, rest.local_only_capabilities, retrievers_supported, routing.boolean_routing_path, routing.multi_value_routing_path, rrf_retriever_composition_supported, rrf_retriever_supported, script.hamming, script.term_stats, search.vectors.k_param_supported, security.migration_framework, security.queryable_built_in_roles, security.role_mapping_cleanup, security.roles_metadata_flattened, semantic_text.default_elser_2, semantic_text.search_inference_id, simulate.component.template.substitutions, simulate.ignored.fields, simulate.index.template.substitutions, simulate.mapping.addition, simulate.mapping.validation, simulate.mapping.validation.templates, simulate.support.non.template.mapping, slm.interval_schedule, snapshot.repository_verify_integrity, standard_retriever_supported, stats.include_disk_thresholds, text_similarity_reranker_retriever_composition_supported, text_similarity_reranker_retriever_supported, tsdb.ts_routing_hash_doc_value_parse_byte_ref, unified_highlighter_matched_fields, usage.data_tiers.precalculate_stats]\n",
            "[2025-06-19T14:24:41,359][INFO ][o.e.c.m.DataStreamGlobalRetentionSettings] [eaae98a487ce] Updated default factory retention to [null]\n",
            "[2025-06-19T14:24:41,361][INFO ][o.e.c.m.DataStreamGlobalRetentionSettings] [eaae98a487ce] Updated max factory retention to [null]\n",
            "[2025-06-19T14:24:42,226][INFO ][o.e.x.o.OTelPlugin       ] [eaae98a487ce] OTel ingest plugin is enabled\n",
            "[2025-06-19T14:24:42,410][INFO ][o.e.x.c.t.YamlTemplateRegistry] [eaae98a487ce] OpenTelemetry index template registry is enabled\n",
            "[2025-06-19T14:24:42,433][INFO ][o.e.t.a.APM              ] [eaae98a487ce] Sending apm metrics is disabled\n",
            "[2025-06-19T14:24:42,441][INFO ][o.e.t.a.APM              ] [eaae98a487ce] Sending apm tracing is disabled\n",
            "[2025-06-19T14:24:42,519][INFO ][o.e.x.s.Security         ] [eaae98a487ce] Security is disabled\n",
            "[2025-06-19T14:24:42,872][INFO ][o.e.x.w.Watcher          ] [eaae98a487ce] Watcher initialized components at 2025-06-19T14:24:42.871Z\n",
            "[2025-06-19T14:24:43,028][INFO ][o.e.x.p.ProfilingPlugin  ] [eaae98a487ce] Profiling is enabled\n",
            "[2025-06-19T14:24:43,073][INFO ][o.e.x.p.ProfilingPlugin  ] [eaae98a487ce] profiling index templates will not be installed or reinstalled\n",
            "[2025-06-19T14:24:43,096][INFO ][o.e.x.a.APMPlugin        ] [eaae98a487ce] APM ingest plugin is enabled\n",
            "[2025-06-19T14:24:43,197][INFO ][o.e.x.c.t.YamlTemplateRegistry] [eaae98a487ce] apm index template registry is enabled\n",
            "[2025-06-19T14:24:43,812][INFO ][o.e.t.n.NettyAllocator   ] [eaae98a487ce] creating NettyAllocator with the following configs: [name=elasticsearch_configured, chunk_size=1mb, suggested_max_allocation_size=1mb, factors={es.unsafe.use_netty_default_chunk_and_page_size=false, g1gc_enabled=true, g1gc_region_size=4mb}]\n",
            "[2025-06-19T14:24:43,894][INFO ][o.e.d.DiscoveryModule    ] [eaae98a487ce] using discovery type [multi-node] and seed hosts providers [settings]\n",
            "[2025-06-19T14:24:45,857][INFO ][o.e.n.Node               ] [eaae98a487ce] initialized\n",
            "[2025-06-19T14:24:45,859][INFO ][o.e.n.Node               ] [eaae98a487ce] starting ...\n",
            "[2025-06-19T14:24:45,895][INFO ][o.e.x.s.c.f.PersistentCache] [eaae98a487ce] persistent cache index loaded\n",
            "[2025-06-19T14:24:45,897][INFO ][o.e.x.d.l.DeprecationIndexingComponent] [eaae98a487ce] deprecation component started\n",
            "[2025-06-19T14:24:45,997][INFO ][o.e.t.TransportService   ] [eaae98a487ce] publish_address {127.0.0.1:9300}, bound_addresses {127.0.0.1:9300}\n",
            "[2025-06-19T14:24:46,166][WARN ][o.e.b.BootstrapChecks    ] [eaae98a487ce] max virtual memory areas vm.max_map_count [65530] is too low, increase to at least [262144]; for more information see [https://www.elastic.co/guide/en/elasticsearch/reference/8.18/bootstrap-checks-max-map-count.html]\n",
            "[2025-06-19T14:24:46,167][WARN ][o.e.b.BootstrapChecks    ] [eaae98a487ce] the default discovery settings are unsuitable for production use; at least one of [discovery.seed_hosts, discovery.seed_providers, cluster.initial_master_nodes] must be configured; for more information see [https://www.elastic.co/guide/en/elasticsearch/reference/8.18/bootstrap-checks-discovery-configuration.html]\n",
            "[2025-06-19T14:24:46,169][INFO ][o.e.c.c.ClusterBootstrapService] [eaae98a487ce] this node has not joined a bootstrapped cluster yet; [cluster.initial_master_nodes] is set to []\n",
            "[2025-06-19T14:24:46,176][INFO ][o.e.c.c.ClusterBootstrapService] [eaae98a487ce] no discovery configuration found, will perform best-effort cluster bootstrapping after [3s] unless existing master is discovered\n",
            "[2025-06-19T14:24:49,183][INFO ][o.e.c.c.Coordinator      ] [eaae98a487ce] setting initial configuration to VotingConfiguration{Gs5w0SPET92R1eL087L3Pw}\n",
            "[2025-06-19T14:24:49,453][INFO ][o.e.c.s.MasterService    ] [eaae98a487ce] elected-as-master ([1] nodes joined in term 1)[_FINISH_ELECTION_, {eaae98a487ce}{Gs5w0SPET92R1eL087L3Pw}{edbA4ligT1moyRbXSEBZtw}{eaae98a487ce}{127.0.0.1}{127.0.0.1:9300}{cdfhilmrstw}{8.18.2}{7000099-8525000} completing election], term: 1, version: 1, delta: master node changed {previous [], current [{eaae98a487ce}{Gs5w0SPET92R1eL087L3Pw}{edbA4ligT1moyRbXSEBZtw}{eaae98a487ce}{127.0.0.1}{127.0.0.1:9300}{cdfhilmrstw}{8.18.2}{7000099-8525000}]}\n",
            "[2025-06-19T14:24:49,514][INFO ][o.e.c.c.CoordinationState] [eaae98a487ce] cluster UUID set to [72rMrX3vTkCVQUl1FWvRNA]\n",
            "[2025-06-19T14:24:49,564][INFO ][o.e.c.s.ClusterApplierService] [eaae98a487ce] master node changed {previous [], current [{eaae98a487ce}{Gs5w0SPET92R1eL087L3Pw}{edbA4ligT1moyRbXSEBZtw}{eaae98a487ce}{127.0.0.1}{127.0.0.1:9300}{cdfhilmrstw}{8.18.2}{7000099-8525000}]}, term: 1, version: 1, reason: Publication{term=1, version=1}\n",
            "[2025-06-19T14:24:49,619][INFO ][o.e.h.AbstractHttpServerTransport] [eaae98a487ce] publish_address {127.0.0.1:9200}, bound_addresses {127.0.0.1:9200}\n",
            "[2025-06-19T14:24:49,619][INFO ][o.e.c.c.NodeJoinExecutor ] [eaae98a487ce] node-join: [{eaae98a487ce}{Gs5w0SPET92R1eL087L3Pw}{edbA4ligT1moyRbXSEBZtw}{eaae98a487ce}{127.0.0.1}{127.0.0.1:9300}{cdfhilmrstw}{8.18.2}{7000099-8525000}] with reason [completing election]\n",
            "[2025-06-19T14:24:49,661][INFO ][o.e.n.Node               ] [eaae98a487ce] started {eaae98a487ce}{Gs5w0SPET92R1eL087L3Pw}{edbA4ligT1moyRbXSEBZtw}{eaae98a487ce}{127.0.0.1}{127.0.0.1:9300}{cdfhilmrstw}{8.18.2}{7000099-8525000}{xpack.installed=true, ml.config_version=12.0.0, transform.config_version=10.0.0}\n",
            "🚀 Elasticsearchをバックグラウンドで起動します... (完了まで30秒ほどかかります)\n",
            "\n",
            "--- 7. 起動確認 ---\n",
            "{\n",
            "  \"name\" : \"eaae98a487ce\",\n",
            "  \"cluster_name\" : \"elasticsearch\",\n",
            "  \"cluster_uuid\" : \"72rMrX3vTkCVQUl1FWvRNA\",\n",
            "  \"version\" : {\n",
            "    \"number\" : \"8.18.2\",\n",
            "    \"build_flavor\" : \"default\",\n",
            "    \"build_type\" : \"tar\",\n",
            "    \"build_hash\" : \"c6b8d8d951c631db715485edc1a74190cdce4189\",\n",
            "    \"build_date\" : \"2025-05-23T10:07:06.210694702Z\",\n",
            "    \"build_snapshot\" : false,\n",
            "    \"lucene_version\" : \"9.12.1\",\n",
            "    \"minimum_wire_compatibility_version\" : \"7.17.0\",\n",
            "    \"minimum_index_compatibility_version\" : \"7.0.0\"\n",
            "  },\n",
            "  \"tagline\" : \"You Know, for Search\"\n",
            "}\n"
          ]
        },
        {
          "output_type": "stream",
          "name": "stderr",
          "text": [
            "  % Total    % Received % Xferd  Average Speed   Time    Time     Time  Current\n",
            "                                 Dload  Upload   Total   Spent    Left  Speed\n",
            "\r  0     0    0     0    0     0      0      0 --:--:-- --:--:-- --:--:--     0\r100   537  100   537    0     0   5711      0 --:--:-- --:--:-- --:--:--  5774\n"
          ]
        }
      ]
    },
    {
      "cell_type": "code",
      "source": [
        "%%bash\n",
        "ps axuww | grep -i elastic"
      ],
      "metadata": {
        "colab": {
          "base_uri": "https://localhost:8080/"
        },
        "id": "OHr43qxnfEjT",
        "outputId": "f19629c7-7919-4429-f939-aeb142d3b34f"
      },
      "execution_count": 25,
      "outputs": [
        {
          "output_type": "stream",
          "name": "stdout",
          "text": [
            "root       18528  0.0  0.0   6484  2160 ?        S    14:26   0:00 grep -i elastic\n"
          ]
        }
      ]
    },
    {
      "cell_type": "code",
      "source": [
        "%%bash\n",
        "sudo pkill -f elasticsearch"
      ],
      "metadata": {
        "id": "A_WIwxMIfWwW"
      },
      "execution_count": 26,
      "outputs": []
    },
    {
      "cell_type": "code",
      "source": [
        "%%bash\n",
        "ps axuww | grep -i elastic"
      ],
      "metadata": {
        "id": "yOBsXmp8fdi8"
      },
      "execution_count": null,
      "outputs": []
    }
  ]
}