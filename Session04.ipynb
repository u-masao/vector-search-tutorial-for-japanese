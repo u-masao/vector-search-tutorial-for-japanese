{
  "cells": [
    {
      "cell_type": "markdown",
      "metadata": {
        "id": "view-in-github",
        "colab_type": "text"
      },
      "source": [
        "<a href=\"https://colab.research.google.com/github/u-masao/vector-search-tutorial-for-japanese/blob/main/Session04.ipynb\" target=\"_parent\"><img src=\"https://colab.research.google.com/assets/colab-badge.svg\" alt=\"Open In Colab\"/></a>"
      ]
    },
    {
      "cell_type": "markdown",
      "metadata": {
        "id": "Bv7yTGuzPRLa"
      },
      "source": [
        "# 日本語のためのベクトル検索ハンズオン: Session 4\n",
        "\n",
        "## はじめに\n",
        "\n",
        "『日本語のためのベクトル検索ハンズオン』の Session 4 では、Qdrant の実践的な使い方を確認します。\n",
        "\n",
        "[Livedoor New コーパス](https://www.rondhuit.com/download.html) に収録された日本語のニュース記事を Qdrant でベクトル検索します。"
      ]
    },
    {
      "cell_type": "markdown",
      "metadata": {
        "id": "5F9gBIkeQLub"
      },
      "source": [
        "## 環境構築\n"
      ]
    },
    {
      "cell_type": "markdown",
      "metadata": {
        "id": "GMook7KdSTrT"
      },
      "source": [
        "### Google Colab 向け Docker インストール、Qdrant 起動"
      ]
    },
    {
      "cell_type": "markdown",
      "source": [
        "#### udocker のセットアップ"
      ],
      "metadata": {
        "id": "EJYMymZ86ocQ"
      }
    },
    {
      "cell_type": "code",
      "execution_count": 1,
      "metadata": {
        "colab": {
          "base_uri": "https://localhost:8080/"
        },
        "id": "xEqPBCWsPOEM",
        "outputId": "af9cfa0c-5184-49c5-9177-0f1e5fd8c0a2"
      },
      "outputs": [
        {
          "output_type": "stream",
          "name": "stdout",
          "text": [
            "Docker-in-Colab 1.1.0\n",
            "\n",
            "Usage:     udocker(\"--help\")\n",
            "Examples:  https://github.com/indigo-dc/udocker?tab=readme-ov-file#examples\n"
          ]
        }
      ],
      "source": [
        "# Copyright 2024 Drengskapur\n",
        "#\n",
        "# Licensed under the Apache License, Version 2.0 (the \"License\");\n",
        "# you may not use this file except in compliance with the License.\n",
        "# You may obtain a copy of the License at\n",
        "#\n",
        "#     http://www.apache.org/licenses/LICENSE-2.0\n",
        "#\n",
        "# Unless required by applicable law or agreed to in writing, software\n",
        "# distributed under the License is distributed on an \"AS IS\" BASIS,\n",
        "# WITHOUT WARRANTIES OR CONDITIONS OF ANY KIND, either express or implied.\n",
        "# See the License for the specific language governing permissions and\n",
        "# limitations under the License.\n",
        "#\n",
        "# @title {display-mode:\"form\"}\n",
        "# @markdown <br/><br/><center><img src=\"https://cdn.jsdelivr.net/gh/drengskapur/docker-in-colab/assets/docker.svg\" height=\"150\"><img src=\"https://cdn.jsdelivr.net/gh/drengskapur/docker-in-colab/assets/colab.svg\" height=\"150\"></center><br/>\n",
        "# @markdown <center><h1>Docker in Colab</h1></center><center>github.com/drengskapur/docker-in-colab<br/><br/><br/><b>udocker(\"run hello-world\")</b></center><br/>\n",
        "def udocker_init():\n",
        "    import os\n",
        "    if not os.path.exists(\"/home/user\"):\n",
        "        !pip install udocker > /dev/null\n",
        "        !udocker --allow-root install > /dev/null\n",
        "        !useradd -m user > /dev/null\n",
        "    print(f'Docker-in-Colab 1.1.0\\n')\n",
        "    print(f'Usage:     udocker(\"--help\")')\n",
        "    print(f'Examples:  https://github.com/indigo-dc/udocker?tab=readme-ov-file#examples')\n",
        "\n",
        "    def execute(command: str):\n",
        "        user_prompt = \"\\033[1;32muser@pc\\033[0m\"\n",
        "        print(f\"{user_prompt}$ udocker {command}\")\n",
        "        !su - user -c \"udocker $command\"\n",
        "\n",
        "    return execute\n",
        "\n",
        "udocker = udocker_init()"
      ]
    },
    {
      "cell_type": "markdown",
      "source": [
        "#### Qdrant *コンテナを起動*"
      ],
      "metadata": {
        "id": "tXTpLCj66tNv"
      }
    },
    {
      "cell_type": "code",
      "execution_count": 2,
      "metadata": {
        "colab": {
          "base_uri": "https://localhost:8080/"
        },
        "id": "rPQkq6ngQrgl",
        "outputId": "8017f48c-d742-45dc-8651-3082f86db18d"
      },
      "outputs": [
        {
          "output_type": "stream",
          "name": "stdout",
          "text": [
            "\u001b[1;32muser@pc\u001b[0m$ udocker run -p 127.0.0.1:6333:6333 -p 127.0.0.1:6334:6334 qdrant/qdrant\n",
            "Warning: this container exposes TCP/IP ports\n",
            " \n",
            " ****************************************************************************** \n",
            " *                                                                            * \n",
            " *               STARTING 47b04aae-a16b-3fcd-bfb6-0fcbe7b6b4a4                * \n",
            " *                                                                            * \n",
            " ****************************************************************************** \n",
            " executing: entrypoint.sh\n",
            "\u001b[1;31m           _                 _    \u001b[0m\n",
            "\u001b[1;31m  __ _  __| |_ __ __ _ _ __ | |_  \u001b[0m\n",
            "\u001b[1;31m / _` |/ _` | '__/ _` | '_ \\| __| \u001b[0m\n",
            "\u001b[1;31m| (_| | (_| | | | (_| | | | | |_  \u001b[0m\n",
            "\u001b[1;31m \\__, |\\__,_|_|  \\__,_|_| |_|\\__| \u001b[0m\n",
            "\u001b[1;31m    |_|                           \u001b[0m\n",
            "\n",
            "\u001b[32mVersion:\u001b[0m \u001b[1;34m1.9.2\u001b[0m, \u001b[32mbuild:\u001b[0m \u001b[1;34m34f7f8ec\u001b[0m\n",
            "\u001b[32mAccess web UI at\u001b[0m \u001b[1;4;34mhttp://localhost:6333/dashboard\u001b[0m\n",
            "\n",
            "\u001b[2m2024-05-24T14:25:05.812905Z\u001b[0m \u001b[32m INFO\u001b[0m \u001b[2mstorage::content_manager::consensus::persistent\u001b[0m\u001b[2m:\u001b[0m Initializing new raft state at ./storage/raft_state.json    \n",
            "\u001b[2m2024-05-24T14:25:05.852229Z\u001b[0m \u001b[32m INFO\u001b[0m \u001b[2mqdrant\u001b[0m\u001b[2m:\u001b[0m Distributed mode disabled    \n",
            "\u001b[2m2024-05-24T14:25:05.852261Z\u001b[0m \u001b[32m INFO\u001b[0m \u001b[2mqdrant\u001b[0m\u001b[2m:\u001b[0m Telemetry reporting enabled, id: 57166efb-78c7-4ff6-8e54-c0a52c1c1b1b    \n",
            "\u001b[2m2024-05-24T14:25:05.856312Z\u001b[0m \u001b[32m INFO\u001b[0m \u001b[2mqdrant::actix\u001b[0m\u001b[2m:\u001b[0m TLS disabled for REST API    \n",
            "\u001b[2m2024-05-24T14:25:05.856451Z\u001b[0m \u001b[31mERROR\u001b[0m \u001b[2mqdrant\u001b[0m\u001b[2m:\u001b[0m Error while starting REST server: Address already in use (os error 98)    \n",
            "Error: Address already in use (os error 98)\n"
          ]
        }
      ],
      "source": [
        "udocker(\"run -p 127.0.0.1:6333:6333 -p 127.0.0.1:6334:6334 qdrant/qdrant\")\n",
        "# 初回実行時は正常に終了しないことがあります。しばらくして応答がなければランタイムをリセットしてください。\n",
        "# 「2024-05-24T13:42:54.582427Z ERROR qdrant: Error while starting REST server: Address already in use (os error 98) 」等とエラーメッセージが表示される場合は、既に Qdrant のコンテナが実行されています"
      ]
    },
    {
      "cell_type": "markdown",
      "metadata": {
        "id": "madZO25zSfyU"
      },
      "source": [
        "###  SageMaker 向け docker インストール、Qdrant 起動\n",
        "\n",
        "SageMaker 等、直接 Docker を実行できる環境の場合は下のセルを実行して Qdrant コンテナを起動します。"
      ]
    },
    {
      "cell_type": "code",
      "source": [
        "# 実行する際はコメントを外してください\n",
        "# !docker run -d -p 127.0.0.1:6333:6333 -p 127.0.0.1:6334:6334 qdrant/qdrant"
      ],
      "metadata": {
        "id": "iHyVjx2563NR"
      },
      "execution_count": 3,
      "outputs": []
    },
    {
      "cell_type": "markdown",
      "metadata": {
        "id": "Z9Ynlie0sttz"
      },
      "source": [
        "## パッケージのインストールと読み込み"
      ]
    },
    {
      "cell_type": "code",
      "execution_count": 4,
      "metadata": {
        "id": "JplRDqwlsy-j"
      },
      "outputs": [],
      "source": [
        "!pip install -q sentence-transformers datasets qdrant-client"
      ]
    },
    {
      "cell_type": "code",
      "execution_count": 5,
      "metadata": {
        "id": "sObM1NMDstHD"
      },
      "outputs": [],
      "source": [
        "from datasets import load_dataset\n",
        "from sentence_transformers import SentenceTransformer\n",
        "import pandas as pd\n",
        "import numpy as np"
      ]
    },
    {
      "cell_type": "markdown",
      "metadata": {
        "id": "nYi6lzOrTQQ2"
      },
      "source": [
        "## Qdrant を利用した日本語テキストのベクトル検索\n",
        "\n",
        "以下を実行します。\n",
        "\n",
        "- ベクトル作成\n",
        "  - データ取得\n",
        "  - テキスト作成\n",
        "  - 埋め込み計算\n",
        "- Qdrant Client を初期化\n",
        "- Qdrant にデータを登録\n",
        "  - コレクションを初期化(Cosine計算モード)\n",
        "  - ポイント(アイテム)を登録\n",
        "    - ベクトル、ペイロード、インデックス\n",
        "- ベクトル検索\n",
        "  - ベクトル検索のクエリ例\n",
        "  - メタデータフィルタリングとベクトル検索を併用するクエリ例"
      ]
    },
    {
      "cell_type": "markdown",
      "source": [
        "### データの読み込みと埋め込みベクトルの計算"
      ],
      "metadata": {
        "id": "Bm33DExoynph"
      }
    },
    {
      "cell_type": "code",
      "source": [
        "# Hugging Face からデータセットを取得\n",
        "# データセットの説明 → https://huggingface.co/datasets/sbintuitions/JMTEB\n",
        "dataset = load_dataset(\"sbintuitions/JMTEB\", name=\"livedoor_news\")"
      ],
      "metadata": {
        "colab": {
          "base_uri": "https://localhost:8080/"
        },
        "id": "xNuJ7W9Hu2F9",
        "outputId": "77ed4e6a-7ba3-4bbd-bfb5-832c5c63afaa"
      },
      "execution_count": 6,
      "outputs": [
        {
          "output_type": "stream",
          "name": "stderr",
          "text": [
            "/usr/local/lib/python3.10/dist-packages/huggingface_hub/utils/_token.py:89: UserWarning: \n",
            "The secret `HF_TOKEN` does not exist in your Colab secrets.\n",
            "To authenticate with the Hugging Face Hub, create a token in your settings tab (https://huggingface.co/settings/tokens), set it as secret in your Google Colab and restart your session.\n",
            "You will be able to reuse this secret in all of your notebooks.\n",
            "Please note that authentication is recommended but still optional to access public models or datasets.\n",
            "  warnings.warn(\n",
            "/usr/local/lib/python3.10/dist-packages/datasets/load.py:1486: FutureWarning: The repository for sbintuitions/JMTEB contains custom code which must be executed to correctly load the dataset. You can inspect the repository content at https://hf.co/datasets/sbintuitions/JMTEB\n",
            "You can avoid this message in future by passing the argument `trust_remote_code=True`.\n",
            "Passing `trust_remote_code=True` will be mandatory to load this dataset from the next major release of `datasets`.\n",
            "  warnings.warn(\n"
          ]
        }
      ]
    },
    {
      "cell_type": "code",
      "source": [
        "dataset"
      ],
      "metadata": {
        "colab": {
          "base_uri": "https://localhost:8080/"
        },
        "id": "_M773Vk0u2Ig",
        "outputId": "ee5277d3-5a18-42c5-a747-f1d314371846"
      },
      "execution_count": 7,
      "outputs": [
        {
          "output_type": "execute_result",
          "data": {
            "text/plain": [
              "DatasetDict({\n",
              "    train: Dataset({\n",
              "        features: ['url', 'timestamp', 'title', 'text', 'label'],\n",
              "        num_rows: 5163\n",
              "    })\n",
              "    validation: Dataset({\n",
              "        features: ['url', 'timestamp', 'title', 'text', 'label'],\n",
              "        num_rows: 1106\n",
              "    })\n",
              "    test: Dataset({\n",
              "        features: ['url', 'timestamp', 'title', 'text', 'label'],\n",
              "        num_rows: 1107\n",
              "    })\n",
              "})"
            ]
          },
          "metadata": {},
          "execution_count": 7
        }
      ]
    },
    {
      "cell_type": "code",
      "source": [
        "dataset['train'].features"
      ],
      "metadata": {
        "colab": {
          "base_uri": "https://localhost:8080/"
        },
        "id": "g3fDnobuu2LX",
        "outputId": "9c8b4161-06d1-468e-ea43-afcacb35ec4e"
      },
      "execution_count": 8,
      "outputs": [
        {
          "output_type": "execute_result",
          "data": {
            "text/plain": [
              "{'url': Value(dtype='string', id=None),\n",
              " 'timestamp': Value(dtype='string', id=None),\n",
              " 'title': Value(dtype='string', id=None),\n",
              " 'text': Value(dtype='string', id=None),\n",
              " 'label': ClassLabel(names=['dokujo-tsushin', 'it-life-hack', 'kaden-channel', 'livedoor-homme', 'movie-enter', 'peachy', 'smax', 'sports-watch', 'topic-news'], id=None)}"
            ]
          },
          "metadata": {},
          "execution_count": 8
        }
      ]
    },
    {
      "cell_type": "code",
      "source": [
        "# データセットからデータフレームを作成(100件をサンプリング)\n",
        "text_df  = pd.DataFrame(dataset['train']).sample(100, random_state = 12345)  # 100件をランダムに抽出\n",
        "\n",
        "# ラベル名を作成\n",
        "label_names = dataset['train'].features['label'].names\n",
        "text_df['label_name'] = text_df['label'].apply(lambda x: label_names[x])\n",
        "\n",
        "# URL 順に表示\n",
        "text_df.sort_values('url')"
      ],
      "metadata": {
        "colab": {
          "base_uri": "https://localhost:8080/",
          "height": 597
        },
        "id": "BFUUvfSlvngj",
        "outputId": "2107fbc1-beec-4eb0-a89a-9dddf40532bc"
      },
      "execution_count": 9,
      "outputs": [
        {
          "output_type": "execute_result",
          "data": {
            "text/plain": [
              "                                                   url  \\\n",
              "4584  http://news.livedoor.com/article/detail/4429538/   \n",
              "95    http://news.livedoor.com/article/detail/4499588/   \n",
              "3067  http://news.livedoor.com/article/detail/4684025/   \n",
              "4583  http://news.livedoor.com/article/detail/4745261/   \n",
              "4043  http://news.livedoor.com/article/detail/4897873/   \n",
              "...                                                ...   \n",
              "1372  http://news.livedoor.com/article/detail/6865979/   \n",
              "3345  http://news.livedoor.com/article/detail/6872658/   \n",
              "1673  http://news.livedoor.com/article/detail/6874095/   \n",
              "4892  http://news.livedoor.com/article/detail/6880200/   \n",
              "5050  http://news.livedoor.com/article/detail/6903121/   \n",
              "\n",
              "                     timestamp  \\\n",
              "4584  2009-11-09T13:00:00+0900   \n",
              "95    2009-12-11T19:40:00+0900   \n",
              "3067  2010-03-27T23:00:00+0900   \n",
              "4583  2010-04-29T07:30:00+0900   \n",
              "4043  2010-07-22T10:45:00+0900   \n",
              "...                        ...   \n",
              "1372  2012-08-18T11:55:00+0900   \n",
              "3345  2012-08-21T09:55:00+0900   \n",
              "1673  2012-08-21T15:55:00+0900   \n",
              "4892  2012-08-23T09:00:00+0900   \n",
              "5050  2012-08-30T11:40:00+0900   \n",
              "\n",
              "                                                  title  \\\n",
              "4584                 倖田來未と「ル パティシエ　タカギ」、クリスマスケーキで夢のコラボ！   \n",
              "95                       聖なる夜に最高のおもてなしを…。リゾート気分でディナーを堪能   \n",
              "3067                        東京モーターサイクルショー2010／コンパニオン写真集   \n",
              "4583        【Sports Watch】鬼嫁・新山千春“ゴミが私の手にやってくるって考えられない”   \n",
              "4043                           本物にこだわる独女に　“国連が認めた”基礎化粧品   \n",
              "...                                                 ...   \n",
              "1372   自分が選んだニュースにコメントが！シェアで変わるITニュース活用法【ITニュースで目指せ情報通】   \n",
              "3345              パチンコ店でも通話がクリア！電話としてのau最新スマホの音声を徹底チェック   \n",
              "1673  テレコムスクエア、LTE対応のカナダ専用4GWi-Fiルータのレンタルサービスを開始！料金は...   \n",
              "4892          ガガを聴きながら毎朝歯磨き！　レディー・ガガ　シンギングトゥースブラシ独占先行販売   \n",
              "5050                              吉高由里子の韓国ドラマ出演に疑問の声相次ぐ   \n",
              "\n",
              "                                                   text  label      label_name  \n",
              "4584  \\n「上と下で味が違う、1つで2度美味しい、そしてアラザンやリボンでオリジナルなデコレーショ...      5          peachy  \n",
              "95    \\nThe Terrace ザ・テラス\\nお客様に喜んでもらうことをモットーに、常に、最高の...      5          peachy  \n",
              "3067  \\n会場には国内外の二輪車メーカーなどのブースが立ち並び、コンセプトバイクの発表や各社が用意...      3  livedoor-homme  \n",
              "4583  \\n男性視点で見れば、非常に気の毒なエピソードが次々に寄せられる同放送だったが、中には（例え...      7    sports-watch  \n",
              "4043  \\n普段より一層お肌のお手入れを丁寧に、そして、独女世代ならば本当に良い物を吟味して使用した...      0  dokujo-tsushin  \n",
              "...                                                 ...    ...             ...  \n",
              "1372  \\n特にIT市場は、最新のガジェット、アプリ、サービス、テクノロジーがあふれています。\\nそ...      1    it-life-hack  \n",
              "3345  \\nカメラ、インターネット、ナビといった楽しい機能から、キャッシュレス電子決済や電話、テレビ...      1    it-life-hack  \n",
              "1673  \\nテレコムスクエアは21日、日本国内で貸し出しサービスを行うレンタルWi-Fi ルータ「W...      6            smax  \n",
              "4892  \\nこうした中には好きなミュージシャンの歌を聴きながら歯が磨ければ、気分もすっきりして1日を...      1    it-life-hack  \n",
              "5050  \\n記事によると、吉高は、今年9月から始まる韓国の連続ドラマ「ヴァンパイア検事2」への出演す...      8      topic-news  \n",
              "\n",
              "[100 rows x 6 columns]"
            ],
            "text/html": [
              "\n",
              "  <div id=\"df-67f40e46-99c9-4308-b6bd-68365d11b885\" class=\"colab-df-container\">\n",
              "    <div>\n",
              "<style scoped>\n",
              "    .dataframe tbody tr th:only-of-type {\n",
              "        vertical-align: middle;\n",
              "    }\n",
              "\n",
              "    .dataframe tbody tr th {\n",
              "        vertical-align: top;\n",
              "    }\n",
              "\n",
              "    .dataframe thead th {\n",
              "        text-align: right;\n",
              "    }\n",
              "</style>\n",
              "<table border=\"1\" class=\"dataframe\">\n",
              "  <thead>\n",
              "    <tr style=\"text-align: right;\">\n",
              "      <th></th>\n",
              "      <th>url</th>\n",
              "      <th>timestamp</th>\n",
              "      <th>title</th>\n",
              "      <th>text</th>\n",
              "      <th>label</th>\n",
              "      <th>label_name</th>\n",
              "    </tr>\n",
              "  </thead>\n",
              "  <tbody>\n",
              "    <tr>\n",
              "      <th>4584</th>\n",
              "      <td>http://news.livedoor.com/article/detail/4429538/</td>\n",
              "      <td>2009-11-09T13:00:00+0900</td>\n",
              "      <td>倖田來未と「ル パティシエ　タカギ」、クリスマスケーキで夢のコラボ！</td>\n",
              "      <td>\\n「上と下で味が違う、1つで2度美味しい、そしてアラザンやリボンでオリジナルなデコレーショ...</td>\n",
              "      <td>5</td>\n",
              "      <td>peachy</td>\n",
              "    </tr>\n",
              "    <tr>\n",
              "      <th>95</th>\n",
              "      <td>http://news.livedoor.com/article/detail/4499588/</td>\n",
              "      <td>2009-12-11T19:40:00+0900</td>\n",
              "      <td>聖なる夜に最高のおもてなしを…。リゾート気分でディナーを堪能</td>\n",
              "      <td>\\nThe Terrace ザ・テラス\\nお客様に喜んでもらうことをモットーに、常に、最高の...</td>\n",
              "      <td>5</td>\n",
              "      <td>peachy</td>\n",
              "    </tr>\n",
              "    <tr>\n",
              "      <th>3067</th>\n",
              "      <td>http://news.livedoor.com/article/detail/4684025/</td>\n",
              "      <td>2010-03-27T23:00:00+0900</td>\n",
              "      <td>東京モーターサイクルショー2010／コンパニオン写真集</td>\n",
              "      <td>\\n会場には国内外の二輪車メーカーなどのブースが立ち並び、コンセプトバイクの発表や各社が用意...</td>\n",
              "      <td>3</td>\n",
              "      <td>livedoor-homme</td>\n",
              "    </tr>\n",
              "    <tr>\n",
              "      <th>4583</th>\n",
              "      <td>http://news.livedoor.com/article/detail/4745261/</td>\n",
              "      <td>2010-04-29T07:30:00+0900</td>\n",
              "      <td>【Sports Watch】鬼嫁・新山千春“ゴミが私の手にやってくるって考えられない”</td>\n",
              "      <td>\\n男性視点で見れば、非常に気の毒なエピソードが次々に寄せられる同放送だったが、中には（例え...</td>\n",
              "      <td>7</td>\n",
              "      <td>sports-watch</td>\n",
              "    </tr>\n",
              "    <tr>\n",
              "      <th>4043</th>\n",
              "      <td>http://news.livedoor.com/article/detail/4897873/</td>\n",
              "      <td>2010-07-22T10:45:00+0900</td>\n",
              "      <td>本物にこだわる独女に　“国連が認めた”基礎化粧品</td>\n",
              "      <td>\\n普段より一層お肌のお手入れを丁寧に、そして、独女世代ならば本当に良い物を吟味して使用した...</td>\n",
              "      <td>0</td>\n",
              "      <td>dokujo-tsushin</td>\n",
              "    </tr>\n",
              "    <tr>\n",
              "      <th>...</th>\n",
              "      <td>...</td>\n",
              "      <td>...</td>\n",
              "      <td>...</td>\n",
              "      <td>...</td>\n",
              "      <td>...</td>\n",
              "      <td>...</td>\n",
              "    </tr>\n",
              "    <tr>\n",
              "      <th>1372</th>\n",
              "      <td>http://news.livedoor.com/article/detail/6865979/</td>\n",
              "      <td>2012-08-18T11:55:00+0900</td>\n",
              "      <td>自分が選んだニュースにコメントが！シェアで変わるITニュース活用法【ITニュースで目指せ情報通】</td>\n",
              "      <td>\\n特にIT市場は、最新のガジェット、アプリ、サービス、テクノロジーがあふれています。\\nそ...</td>\n",
              "      <td>1</td>\n",
              "      <td>it-life-hack</td>\n",
              "    </tr>\n",
              "    <tr>\n",
              "      <th>3345</th>\n",
              "      <td>http://news.livedoor.com/article/detail/6872658/</td>\n",
              "      <td>2012-08-21T09:55:00+0900</td>\n",
              "      <td>パチンコ店でも通話がクリア！電話としてのau最新スマホの音声を徹底チェック</td>\n",
              "      <td>\\nカメラ、インターネット、ナビといった楽しい機能から、キャッシュレス電子決済や電話、テレビ...</td>\n",
              "      <td>1</td>\n",
              "      <td>it-life-hack</td>\n",
              "    </tr>\n",
              "    <tr>\n",
              "      <th>1673</th>\n",
              "      <td>http://news.livedoor.com/article/detail/6874095/</td>\n",
              "      <td>2012-08-21T15:55:00+0900</td>\n",
              "      <td>テレコムスクエア、LTE対応のカナダ専用4GWi-Fiルータのレンタルサービスを開始！料金は...</td>\n",
              "      <td>\\nテレコムスクエアは21日、日本国内で貸し出しサービスを行うレンタルWi-Fi ルータ「W...</td>\n",
              "      <td>6</td>\n",
              "      <td>smax</td>\n",
              "    </tr>\n",
              "    <tr>\n",
              "      <th>4892</th>\n",
              "      <td>http://news.livedoor.com/article/detail/6880200/</td>\n",
              "      <td>2012-08-23T09:00:00+0900</td>\n",
              "      <td>ガガを聴きながら毎朝歯磨き！　レディー・ガガ　シンギングトゥースブラシ独占先行販売</td>\n",
              "      <td>\\nこうした中には好きなミュージシャンの歌を聴きながら歯が磨ければ、気分もすっきりして1日を...</td>\n",
              "      <td>1</td>\n",
              "      <td>it-life-hack</td>\n",
              "    </tr>\n",
              "    <tr>\n",
              "      <th>5050</th>\n",
              "      <td>http://news.livedoor.com/article/detail/6903121/</td>\n",
              "      <td>2012-08-30T11:40:00+0900</td>\n",
              "      <td>吉高由里子の韓国ドラマ出演に疑問の声相次ぐ</td>\n",
              "      <td>\\n記事によると、吉高は、今年9月から始まる韓国の連続ドラマ「ヴァンパイア検事2」への出演す...</td>\n",
              "      <td>8</td>\n",
              "      <td>topic-news</td>\n",
              "    </tr>\n",
              "  </tbody>\n",
              "</table>\n",
              "<p>100 rows × 6 columns</p>\n",
              "</div>\n",
              "    <div class=\"colab-df-buttons\">\n",
              "\n",
              "  <div class=\"colab-df-container\">\n",
              "    <button class=\"colab-df-convert\" onclick=\"convertToInteractive('df-67f40e46-99c9-4308-b6bd-68365d11b885')\"\n",
              "            title=\"Convert this dataframe to an interactive table.\"\n",
              "            style=\"display:none;\">\n",
              "\n",
              "  <svg xmlns=\"http://www.w3.org/2000/svg\" height=\"24px\" viewBox=\"0 -960 960 960\">\n",
              "    <path d=\"M120-120v-720h720v720H120Zm60-500h600v-160H180v160Zm220 220h160v-160H400v160Zm0 220h160v-160H400v160ZM180-400h160v-160H180v160Zm440 0h160v-160H620v160ZM180-180h160v-160H180v160Zm440 0h160v-160H620v160Z\"/>\n",
              "  </svg>\n",
              "    </button>\n",
              "\n",
              "  <style>\n",
              "    .colab-df-container {\n",
              "      display:flex;\n",
              "      gap: 12px;\n",
              "    }\n",
              "\n",
              "    .colab-df-convert {\n",
              "      background-color: #E8F0FE;\n",
              "      border: none;\n",
              "      border-radius: 50%;\n",
              "      cursor: pointer;\n",
              "      display: none;\n",
              "      fill: #1967D2;\n",
              "      height: 32px;\n",
              "      padding: 0 0 0 0;\n",
              "      width: 32px;\n",
              "    }\n",
              "\n",
              "    .colab-df-convert:hover {\n",
              "      background-color: #E2EBFA;\n",
              "      box-shadow: 0px 1px 2px rgba(60, 64, 67, 0.3), 0px 1px 3px 1px rgba(60, 64, 67, 0.15);\n",
              "      fill: #174EA6;\n",
              "    }\n",
              "\n",
              "    .colab-df-buttons div {\n",
              "      margin-bottom: 4px;\n",
              "    }\n",
              "\n",
              "    [theme=dark] .colab-df-convert {\n",
              "      background-color: #3B4455;\n",
              "      fill: #D2E3FC;\n",
              "    }\n",
              "\n",
              "    [theme=dark] .colab-df-convert:hover {\n",
              "      background-color: #434B5C;\n",
              "      box-shadow: 0px 1px 3px 1px rgba(0, 0, 0, 0.15);\n",
              "      filter: drop-shadow(0px 1px 2px rgba(0, 0, 0, 0.3));\n",
              "      fill: #FFFFFF;\n",
              "    }\n",
              "  </style>\n",
              "\n",
              "    <script>\n",
              "      const buttonEl =\n",
              "        document.querySelector('#df-67f40e46-99c9-4308-b6bd-68365d11b885 button.colab-df-convert');\n",
              "      buttonEl.style.display =\n",
              "        google.colab.kernel.accessAllowed ? 'block' : 'none';\n",
              "\n",
              "      async function convertToInteractive(key) {\n",
              "        const element = document.querySelector('#df-67f40e46-99c9-4308-b6bd-68365d11b885');\n",
              "        const dataTable =\n",
              "          await google.colab.kernel.invokeFunction('convertToInteractive',\n",
              "                                                    [key], {});\n",
              "        if (!dataTable) return;\n",
              "\n",
              "        const docLinkHtml = 'Like what you see? Visit the ' +\n",
              "          '<a target=\"_blank\" href=https://colab.research.google.com/notebooks/data_table.ipynb>data table notebook</a>'\n",
              "          + ' to learn more about interactive tables.';\n",
              "        element.innerHTML = '';\n",
              "        dataTable['output_type'] = 'display_data';\n",
              "        await google.colab.output.renderOutput(dataTable, element);\n",
              "        const docLink = document.createElement('div');\n",
              "        docLink.innerHTML = docLinkHtml;\n",
              "        element.appendChild(docLink);\n",
              "      }\n",
              "    </script>\n",
              "  </div>\n",
              "\n",
              "\n",
              "<div id=\"df-6b7137b6-77dc-44f4-9427-9c320536a70e\">\n",
              "  <button class=\"colab-df-quickchart\" onclick=\"quickchart('df-6b7137b6-77dc-44f4-9427-9c320536a70e')\"\n",
              "            title=\"Suggest charts\"\n",
              "            style=\"display:none;\">\n",
              "\n",
              "<svg xmlns=\"http://www.w3.org/2000/svg\" height=\"24px\"viewBox=\"0 0 24 24\"\n",
              "     width=\"24px\">\n",
              "    <g>\n",
              "        <path d=\"M19 3H5c-1.1 0-2 .9-2 2v14c0 1.1.9 2 2 2h14c1.1 0 2-.9 2-2V5c0-1.1-.9-2-2-2zM9 17H7v-7h2v7zm4 0h-2V7h2v10zm4 0h-2v-4h2v4z\"/>\n",
              "    </g>\n",
              "</svg>\n",
              "  </button>\n",
              "\n",
              "<style>\n",
              "  .colab-df-quickchart {\n",
              "      --bg-color: #E8F0FE;\n",
              "      --fill-color: #1967D2;\n",
              "      --hover-bg-color: #E2EBFA;\n",
              "      --hover-fill-color: #174EA6;\n",
              "      --disabled-fill-color: #AAA;\n",
              "      --disabled-bg-color: #DDD;\n",
              "  }\n",
              "\n",
              "  [theme=dark] .colab-df-quickchart {\n",
              "      --bg-color: #3B4455;\n",
              "      --fill-color: #D2E3FC;\n",
              "      --hover-bg-color: #434B5C;\n",
              "      --hover-fill-color: #FFFFFF;\n",
              "      --disabled-bg-color: #3B4455;\n",
              "      --disabled-fill-color: #666;\n",
              "  }\n",
              "\n",
              "  .colab-df-quickchart {\n",
              "    background-color: var(--bg-color);\n",
              "    border: none;\n",
              "    border-radius: 50%;\n",
              "    cursor: pointer;\n",
              "    display: none;\n",
              "    fill: var(--fill-color);\n",
              "    height: 32px;\n",
              "    padding: 0;\n",
              "    width: 32px;\n",
              "  }\n",
              "\n",
              "  .colab-df-quickchart:hover {\n",
              "    background-color: var(--hover-bg-color);\n",
              "    box-shadow: 0 1px 2px rgba(60, 64, 67, 0.3), 0 1px 3px 1px rgba(60, 64, 67, 0.15);\n",
              "    fill: var(--button-hover-fill-color);\n",
              "  }\n",
              "\n",
              "  .colab-df-quickchart-complete:disabled,\n",
              "  .colab-df-quickchart-complete:disabled:hover {\n",
              "    background-color: var(--disabled-bg-color);\n",
              "    fill: var(--disabled-fill-color);\n",
              "    box-shadow: none;\n",
              "  }\n",
              "\n",
              "  .colab-df-spinner {\n",
              "    border: 2px solid var(--fill-color);\n",
              "    border-color: transparent;\n",
              "    border-bottom-color: var(--fill-color);\n",
              "    animation:\n",
              "      spin 1s steps(1) infinite;\n",
              "  }\n",
              "\n",
              "  @keyframes spin {\n",
              "    0% {\n",
              "      border-color: transparent;\n",
              "      border-bottom-color: var(--fill-color);\n",
              "      border-left-color: var(--fill-color);\n",
              "    }\n",
              "    20% {\n",
              "      border-color: transparent;\n",
              "      border-left-color: var(--fill-color);\n",
              "      border-top-color: var(--fill-color);\n",
              "    }\n",
              "    30% {\n",
              "      border-color: transparent;\n",
              "      border-left-color: var(--fill-color);\n",
              "      border-top-color: var(--fill-color);\n",
              "      border-right-color: var(--fill-color);\n",
              "    }\n",
              "    40% {\n",
              "      border-color: transparent;\n",
              "      border-right-color: var(--fill-color);\n",
              "      border-top-color: var(--fill-color);\n",
              "    }\n",
              "    60% {\n",
              "      border-color: transparent;\n",
              "      border-right-color: var(--fill-color);\n",
              "    }\n",
              "    80% {\n",
              "      border-color: transparent;\n",
              "      border-right-color: var(--fill-color);\n",
              "      border-bottom-color: var(--fill-color);\n",
              "    }\n",
              "    90% {\n",
              "      border-color: transparent;\n",
              "      border-bottom-color: var(--fill-color);\n",
              "    }\n",
              "  }\n",
              "</style>\n",
              "\n",
              "  <script>\n",
              "    async function quickchart(key) {\n",
              "      const quickchartButtonEl =\n",
              "        document.querySelector('#' + key + ' button');\n",
              "      quickchartButtonEl.disabled = true;  // To prevent multiple clicks.\n",
              "      quickchartButtonEl.classList.add('colab-df-spinner');\n",
              "      try {\n",
              "        const charts = await google.colab.kernel.invokeFunction(\n",
              "            'suggestCharts', [key], {});\n",
              "      } catch (error) {\n",
              "        console.error('Error during call to suggestCharts:', error);\n",
              "      }\n",
              "      quickchartButtonEl.classList.remove('colab-df-spinner');\n",
              "      quickchartButtonEl.classList.add('colab-df-quickchart-complete');\n",
              "    }\n",
              "    (() => {\n",
              "      let quickchartButtonEl =\n",
              "        document.querySelector('#df-6b7137b6-77dc-44f4-9427-9c320536a70e button');\n",
              "      quickchartButtonEl.style.display =\n",
              "        google.colab.kernel.accessAllowed ? 'block' : 'none';\n",
              "    })();\n",
              "  </script>\n",
              "</div>\n",
              "\n",
              "    </div>\n",
              "  </div>\n"
            ],
            "application/vnd.google.colaboratory.intrinsic+json": {
              "type": "dataframe",
              "repr_error": "0"
            }
          },
          "metadata": {},
          "execution_count": 9
        }
      ]
    },
    {
      "cell_type": "code",
      "source": [
        "# 埋め込み用のテキストを作成する関数\n",
        "def build_concat_text(row):\n",
        "\n",
        "    # テンプレート\n",
        "    return f'''\n",
        "        # タイトル\n",
        "\n",
        "        {row['title']}\n",
        "\n",
        "        ## ニュースカテゴリ\n",
        "\n",
        "        {row['label_name']}\n",
        "\n",
        "        ## 記事\n",
        "\n",
        "        {row['text']}\n",
        "    '''\n",
        "\n",
        "# 埋め込み対象テキストを作成\n",
        "text_df['embed_text'] = text_df.apply(build_concat_text, axis=1)\n",
        "\n",
        "# ライセンス表記の行を削除\n",
        "text_df = text_df[~text_df['url'].str.startswith('このディレクトリにあるすべての記事ファイル')]\n",
        "\n",
        "# URL からアイテムIDを計算\n",
        "text_df['id'] = text_df['url'].replace('.*detail/([0-9]*)/',r'\\1',regex=True).astype(int)\n",
        "\n",
        "# タイトルの長さを計算(フィルタリング用)\n",
        "text_df['title_length'] = text_df['title'].str.len()\n",
        "\n",
        "# 記事本体の長さを計算(フィルタリング用)\n",
        "text_df['text_length'] = text_df['text'].str.len()\n",
        "\n",
        "# URL 順で表示\n",
        "text_df.sort_values('id')"
      ],
      "metadata": {
        "colab": {
          "base_uri": "https://localhost:8080/",
          "height": 736
        },
        "id": "do8T7q8eyhqP",
        "outputId": "0f3ad692-3c46-4182-88ba-cbd7619c05f6"
      },
      "execution_count": 10,
      "outputs": [
        {
          "output_type": "execute_result",
          "data": {
            "text/plain": [
              "                                                   url  \\\n",
              "4584  http://news.livedoor.com/article/detail/4429538/   \n",
              "95    http://news.livedoor.com/article/detail/4499588/   \n",
              "3067  http://news.livedoor.com/article/detail/4684025/   \n",
              "4583  http://news.livedoor.com/article/detail/4745261/   \n",
              "4043  http://news.livedoor.com/article/detail/4897873/   \n",
              "...                                                ...   \n",
              "1372  http://news.livedoor.com/article/detail/6865979/   \n",
              "3345  http://news.livedoor.com/article/detail/6872658/   \n",
              "1673  http://news.livedoor.com/article/detail/6874095/   \n",
              "4892  http://news.livedoor.com/article/detail/6880200/   \n",
              "5050  http://news.livedoor.com/article/detail/6903121/   \n",
              "\n",
              "                     timestamp  \\\n",
              "4584  2009-11-09T13:00:00+0900   \n",
              "95    2009-12-11T19:40:00+0900   \n",
              "3067  2010-03-27T23:00:00+0900   \n",
              "4583  2010-04-29T07:30:00+0900   \n",
              "4043  2010-07-22T10:45:00+0900   \n",
              "...                        ...   \n",
              "1372  2012-08-18T11:55:00+0900   \n",
              "3345  2012-08-21T09:55:00+0900   \n",
              "1673  2012-08-21T15:55:00+0900   \n",
              "4892  2012-08-23T09:00:00+0900   \n",
              "5050  2012-08-30T11:40:00+0900   \n",
              "\n",
              "                                                  title  \\\n",
              "4584                 倖田來未と「ル パティシエ　タカギ」、クリスマスケーキで夢のコラボ！   \n",
              "95                       聖なる夜に最高のおもてなしを…。リゾート気分でディナーを堪能   \n",
              "3067                        東京モーターサイクルショー2010／コンパニオン写真集   \n",
              "4583        【Sports Watch】鬼嫁・新山千春“ゴミが私の手にやってくるって考えられない”   \n",
              "4043                           本物にこだわる独女に　“国連が認めた”基礎化粧品   \n",
              "...                                                 ...   \n",
              "1372   自分が選んだニュースにコメントが！シェアで変わるITニュース活用法【ITニュースで目指せ情報通】   \n",
              "3345              パチンコ店でも通話がクリア！電話としてのau最新スマホの音声を徹底チェック   \n",
              "1673  テレコムスクエア、LTE対応のカナダ専用4GWi-Fiルータのレンタルサービスを開始！料金は...   \n",
              "4892          ガガを聴きながら毎朝歯磨き！　レディー・ガガ　シンギングトゥースブラシ独占先行販売   \n",
              "5050                              吉高由里子の韓国ドラマ出演に疑問の声相次ぐ   \n",
              "\n",
              "                                                   text  label  \\\n",
              "4584  \\n「上と下で味が違う、1つで2度美味しい、そしてアラザンやリボンでオリジナルなデコレーショ...      5   \n",
              "95    \\nThe Terrace ザ・テラス\\nお客様に喜んでもらうことをモットーに、常に、最高の...      5   \n",
              "3067  \\n会場には国内外の二輪車メーカーなどのブースが立ち並び、コンセプトバイクの発表や各社が用意...      3   \n",
              "4583  \\n男性視点で見れば、非常に気の毒なエピソードが次々に寄せられる同放送だったが、中には（例え...      7   \n",
              "4043  \\n普段より一層お肌のお手入れを丁寧に、そして、独女世代ならば本当に良い物を吟味して使用した...      0   \n",
              "...                                                 ...    ...   \n",
              "1372  \\n特にIT市場は、最新のガジェット、アプリ、サービス、テクノロジーがあふれています。\\nそ...      1   \n",
              "3345  \\nカメラ、インターネット、ナビといった楽しい機能から、キャッシュレス電子決済や電話、テレビ...      1   \n",
              "1673  \\nテレコムスクエアは21日、日本国内で貸し出しサービスを行うレンタルWi-Fi ルータ「W...      6   \n",
              "4892  \\nこうした中には好きなミュージシャンの歌を聴きながら歯が磨ければ、気分もすっきりして1日を...      1   \n",
              "5050  \\n記事によると、吉高は、今年9月から始まる韓国の連続ドラマ「ヴァンパイア検事2」への出演す...      8   \n",
              "\n",
              "          label_name                                         embed_text  \\\n",
              "4584          peachy  \\n        # タイトル\\n\\n        倖田來未と「ル パティシエ　タカギ」...   \n",
              "95            peachy  \\n        # タイトル\\n\\n        聖なる夜に最高のおもてなしを…。リゾ...   \n",
              "3067  livedoor-homme  \\n        # タイトル\\n\\n        東京モーターサイクルショー2010／...   \n",
              "4583    sports-watch  \\n        # タイトル\\n\\n        【Sports Watch】鬼嫁・新...   \n",
              "4043  dokujo-tsushin  \\n        # タイトル\\n\\n        本物にこだわる独女に　“国連が認めた...   \n",
              "...              ...                                                ...   \n",
              "1372    it-life-hack  \\n        # タイトル\\n\\n        自分が選んだニュースにコメントが！シ...   \n",
              "3345    it-life-hack  \\n        # タイトル\\n\\n        パチンコ店でも通話がクリア！電話とし...   \n",
              "1673            smax  \\n        # タイトル\\n\\n        テレコムスクエア、LTE対応のカナダ...   \n",
              "4892    it-life-hack  \\n        # タイトル\\n\\n        ガガを聴きながら毎朝歯磨き！　レディ...   \n",
              "5050      topic-news  \\n        # タイトル\\n\\n        吉高由里子の韓国ドラマ出演に疑問の声...   \n",
              "\n",
              "           id  title_length  text_length  \n",
              "4584  4429538            34          524  \n",
              "95    4499588            30          679  \n",
              "3067  4684025            27          752  \n",
              "4583  4745261            43          527  \n",
              "4043  4897873            24          977  \n",
              "...       ...           ...          ...  \n",
              "1372  6865979            48         2413  \n",
              "3345  6872658            37         2436  \n",
              "1673  6874095            62         1699  \n",
              "4892  6880200            41         1060  \n",
              "5050  6903121            21          522  \n",
              "\n",
              "[100 rows x 10 columns]"
            ],
            "text/html": [
              "\n",
              "  <div id=\"df-4883776e-baa0-4bc6-9262-be95e04a2449\" class=\"colab-df-container\">\n",
              "    <div>\n",
              "<style scoped>\n",
              "    .dataframe tbody tr th:only-of-type {\n",
              "        vertical-align: middle;\n",
              "    }\n",
              "\n",
              "    .dataframe tbody tr th {\n",
              "        vertical-align: top;\n",
              "    }\n",
              "\n",
              "    .dataframe thead th {\n",
              "        text-align: right;\n",
              "    }\n",
              "</style>\n",
              "<table border=\"1\" class=\"dataframe\">\n",
              "  <thead>\n",
              "    <tr style=\"text-align: right;\">\n",
              "      <th></th>\n",
              "      <th>url</th>\n",
              "      <th>timestamp</th>\n",
              "      <th>title</th>\n",
              "      <th>text</th>\n",
              "      <th>label</th>\n",
              "      <th>label_name</th>\n",
              "      <th>embed_text</th>\n",
              "      <th>id</th>\n",
              "      <th>title_length</th>\n",
              "      <th>text_length</th>\n",
              "    </tr>\n",
              "  </thead>\n",
              "  <tbody>\n",
              "    <tr>\n",
              "      <th>4584</th>\n",
              "      <td>http://news.livedoor.com/article/detail/4429538/</td>\n",
              "      <td>2009-11-09T13:00:00+0900</td>\n",
              "      <td>倖田來未と「ル パティシエ　タカギ」、クリスマスケーキで夢のコラボ！</td>\n",
              "      <td>\\n「上と下で味が違う、1つで2度美味しい、そしてアラザンやリボンでオリジナルなデコレーショ...</td>\n",
              "      <td>5</td>\n",
              "      <td>peachy</td>\n",
              "      <td>\\n        # タイトル\\n\\n        倖田來未と「ル パティシエ　タカギ」...</td>\n",
              "      <td>4429538</td>\n",
              "      <td>34</td>\n",
              "      <td>524</td>\n",
              "    </tr>\n",
              "    <tr>\n",
              "      <th>95</th>\n",
              "      <td>http://news.livedoor.com/article/detail/4499588/</td>\n",
              "      <td>2009-12-11T19:40:00+0900</td>\n",
              "      <td>聖なる夜に最高のおもてなしを…。リゾート気分でディナーを堪能</td>\n",
              "      <td>\\nThe Terrace ザ・テラス\\nお客様に喜んでもらうことをモットーに、常に、最高の...</td>\n",
              "      <td>5</td>\n",
              "      <td>peachy</td>\n",
              "      <td>\\n        # タイトル\\n\\n        聖なる夜に最高のおもてなしを…。リゾ...</td>\n",
              "      <td>4499588</td>\n",
              "      <td>30</td>\n",
              "      <td>679</td>\n",
              "    </tr>\n",
              "    <tr>\n",
              "      <th>3067</th>\n",
              "      <td>http://news.livedoor.com/article/detail/4684025/</td>\n",
              "      <td>2010-03-27T23:00:00+0900</td>\n",
              "      <td>東京モーターサイクルショー2010／コンパニオン写真集</td>\n",
              "      <td>\\n会場には国内外の二輪車メーカーなどのブースが立ち並び、コンセプトバイクの発表や各社が用意...</td>\n",
              "      <td>3</td>\n",
              "      <td>livedoor-homme</td>\n",
              "      <td>\\n        # タイトル\\n\\n        東京モーターサイクルショー2010／...</td>\n",
              "      <td>4684025</td>\n",
              "      <td>27</td>\n",
              "      <td>752</td>\n",
              "    </tr>\n",
              "    <tr>\n",
              "      <th>4583</th>\n",
              "      <td>http://news.livedoor.com/article/detail/4745261/</td>\n",
              "      <td>2010-04-29T07:30:00+0900</td>\n",
              "      <td>【Sports Watch】鬼嫁・新山千春“ゴミが私の手にやってくるって考えられない”</td>\n",
              "      <td>\\n男性視点で見れば、非常に気の毒なエピソードが次々に寄せられる同放送だったが、中には（例え...</td>\n",
              "      <td>7</td>\n",
              "      <td>sports-watch</td>\n",
              "      <td>\\n        # タイトル\\n\\n        【Sports Watch】鬼嫁・新...</td>\n",
              "      <td>4745261</td>\n",
              "      <td>43</td>\n",
              "      <td>527</td>\n",
              "    </tr>\n",
              "    <tr>\n",
              "      <th>4043</th>\n",
              "      <td>http://news.livedoor.com/article/detail/4897873/</td>\n",
              "      <td>2010-07-22T10:45:00+0900</td>\n",
              "      <td>本物にこだわる独女に　“国連が認めた”基礎化粧品</td>\n",
              "      <td>\\n普段より一層お肌のお手入れを丁寧に、そして、独女世代ならば本当に良い物を吟味して使用した...</td>\n",
              "      <td>0</td>\n",
              "      <td>dokujo-tsushin</td>\n",
              "      <td>\\n        # タイトル\\n\\n        本物にこだわる独女に　“国連が認めた...</td>\n",
              "      <td>4897873</td>\n",
              "      <td>24</td>\n",
              "      <td>977</td>\n",
              "    </tr>\n",
              "    <tr>\n",
              "      <th>...</th>\n",
              "      <td>...</td>\n",
              "      <td>...</td>\n",
              "      <td>...</td>\n",
              "      <td>...</td>\n",
              "      <td>...</td>\n",
              "      <td>...</td>\n",
              "      <td>...</td>\n",
              "      <td>...</td>\n",
              "      <td>...</td>\n",
              "      <td>...</td>\n",
              "    </tr>\n",
              "    <tr>\n",
              "      <th>1372</th>\n",
              "      <td>http://news.livedoor.com/article/detail/6865979/</td>\n",
              "      <td>2012-08-18T11:55:00+0900</td>\n",
              "      <td>自分が選んだニュースにコメントが！シェアで変わるITニュース活用法【ITニュースで目指せ情報通】</td>\n",
              "      <td>\\n特にIT市場は、最新のガジェット、アプリ、サービス、テクノロジーがあふれています。\\nそ...</td>\n",
              "      <td>1</td>\n",
              "      <td>it-life-hack</td>\n",
              "      <td>\\n        # タイトル\\n\\n        自分が選んだニュースにコメントが！シ...</td>\n",
              "      <td>6865979</td>\n",
              "      <td>48</td>\n",
              "      <td>2413</td>\n",
              "    </tr>\n",
              "    <tr>\n",
              "      <th>3345</th>\n",
              "      <td>http://news.livedoor.com/article/detail/6872658/</td>\n",
              "      <td>2012-08-21T09:55:00+0900</td>\n",
              "      <td>パチンコ店でも通話がクリア！電話としてのau最新スマホの音声を徹底チェック</td>\n",
              "      <td>\\nカメラ、インターネット、ナビといった楽しい機能から、キャッシュレス電子決済や電話、テレビ...</td>\n",
              "      <td>1</td>\n",
              "      <td>it-life-hack</td>\n",
              "      <td>\\n        # タイトル\\n\\n        パチンコ店でも通話がクリア！電話とし...</td>\n",
              "      <td>6872658</td>\n",
              "      <td>37</td>\n",
              "      <td>2436</td>\n",
              "    </tr>\n",
              "    <tr>\n",
              "      <th>1673</th>\n",
              "      <td>http://news.livedoor.com/article/detail/6874095/</td>\n",
              "      <td>2012-08-21T15:55:00+0900</td>\n",
              "      <td>テレコムスクエア、LTE対応のカナダ専用4GWi-Fiルータのレンタルサービスを開始！料金は...</td>\n",
              "      <td>\\nテレコムスクエアは21日、日本国内で貸し出しサービスを行うレンタルWi-Fi ルータ「W...</td>\n",
              "      <td>6</td>\n",
              "      <td>smax</td>\n",
              "      <td>\\n        # タイトル\\n\\n        テレコムスクエア、LTE対応のカナダ...</td>\n",
              "      <td>6874095</td>\n",
              "      <td>62</td>\n",
              "      <td>1699</td>\n",
              "    </tr>\n",
              "    <tr>\n",
              "      <th>4892</th>\n",
              "      <td>http://news.livedoor.com/article/detail/6880200/</td>\n",
              "      <td>2012-08-23T09:00:00+0900</td>\n",
              "      <td>ガガを聴きながら毎朝歯磨き！　レディー・ガガ　シンギングトゥースブラシ独占先行販売</td>\n",
              "      <td>\\nこうした中には好きなミュージシャンの歌を聴きながら歯が磨ければ、気分もすっきりして1日を...</td>\n",
              "      <td>1</td>\n",
              "      <td>it-life-hack</td>\n",
              "      <td>\\n        # タイトル\\n\\n        ガガを聴きながら毎朝歯磨き！　レディ...</td>\n",
              "      <td>6880200</td>\n",
              "      <td>41</td>\n",
              "      <td>1060</td>\n",
              "    </tr>\n",
              "    <tr>\n",
              "      <th>5050</th>\n",
              "      <td>http://news.livedoor.com/article/detail/6903121/</td>\n",
              "      <td>2012-08-30T11:40:00+0900</td>\n",
              "      <td>吉高由里子の韓国ドラマ出演に疑問の声相次ぐ</td>\n",
              "      <td>\\n記事によると、吉高は、今年9月から始まる韓国の連続ドラマ「ヴァンパイア検事2」への出演す...</td>\n",
              "      <td>8</td>\n",
              "      <td>topic-news</td>\n",
              "      <td>\\n        # タイトル\\n\\n        吉高由里子の韓国ドラマ出演に疑問の声...</td>\n",
              "      <td>6903121</td>\n",
              "      <td>21</td>\n",
              "      <td>522</td>\n",
              "    </tr>\n",
              "  </tbody>\n",
              "</table>\n",
              "<p>100 rows × 10 columns</p>\n",
              "</div>\n",
              "    <div class=\"colab-df-buttons\">\n",
              "\n",
              "  <div class=\"colab-df-container\">\n",
              "    <button class=\"colab-df-convert\" onclick=\"convertToInteractive('df-4883776e-baa0-4bc6-9262-be95e04a2449')\"\n",
              "            title=\"Convert this dataframe to an interactive table.\"\n",
              "            style=\"display:none;\">\n",
              "\n",
              "  <svg xmlns=\"http://www.w3.org/2000/svg\" height=\"24px\" viewBox=\"0 -960 960 960\">\n",
              "    <path d=\"M120-120v-720h720v720H120Zm60-500h600v-160H180v160Zm220 220h160v-160H400v160Zm0 220h160v-160H400v160ZM180-400h160v-160H180v160Zm440 0h160v-160H620v160ZM180-180h160v-160H180v160Zm440 0h160v-160H620v160Z\"/>\n",
              "  </svg>\n",
              "    </button>\n",
              "\n",
              "  <style>\n",
              "    .colab-df-container {\n",
              "      display:flex;\n",
              "      gap: 12px;\n",
              "    }\n",
              "\n",
              "    .colab-df-convert {\n",
              "      background-color: #E8F0FE;\n",
              "      border: none;\n",
              "      border-radius: 50%;\n",
              "      cursor: pointer;\n",
              "      display: none;\n",
              "      fill: #1967D2;\n",
              "      height: 32px;\n",
              "      padding: 0 0 0 0;\n",
              "      width: 32px;\n",
              "    }\n",
              "\n",
              "    .colab-df-convert:hover {\n",
              "      background-color: #E2EBFA;\n",
              "      box-shadow: 0px 1px 2px rgba(60, 64, 67, 0.3), 0px 1px 3px 1px rgba(60, 64, 67, 0.15);\n",
              "      fill: #174EA6;\n",
              "    }\n",
              "\n",
              "    .colab-df-buttons div {\n",
              "      margin-bottom: 4px;\n",
              "    }\n",
              "\n",
              "    [theme=dark] .colab-df-convert {\n",
              "      background-color: #3B4455;\n",
              "      fill: #D2E3FC;\n",
              "    }\n",
              "\n",
              "    [theme=dark] .colab-df-convert:hover {\n",
              "      background-color: #434B5C;\n",
              "      box-shadow: 0px 1px 3px 1px rgba(0, 0, 0, 0.15);\n",
              "      filter: drop-shadow(0px 1px 2px rgba(0, 0, 0, 0.3));\n",
              "      fill: #FFFFFF;\n",
              "    }\n",
              "  </style>\n",
              "\n",
              "    <script>\n",
              "      const buttonEl =\n",
              "        document.querySelector('#df-4883776e-baa0-4bc6-9262-be95e04a2449 button.colab-df-convert');\n",
              "      buttonEl.style.display =\n",
              "        google.colab.kernel.accessAllowed ? 'block' : 'none';\n",
              "\n",
              "      async function convertToInteractive(key) {\n",
              "        const element = document.querySelector('#df-4883776e-baa0-4bc6-9262-be95e04a2449');\n",
              "        const dataTable =\n",
              "          await google.colab.kernel.invokeFunction('convertToInteractive',\n",
              "                                                    [key], {});\n",
              "        if (!dataTable) return;\n",
              "\n",
              "        const docLinkHtml = 'Like what you see? Visit the ' +\n",
              "          '<a target=\"_blank\" href=https://colab.research.google.com/notebooks/data_table.ipynb>data table notebook</a>'\n",
              "          + ' to learn more about interactive tables.';\n",
              "        element.innerHTML = '';\n",
              "        dataTable['output_type'] = 'display_data';\n",
              "        await google.colab.output.renderOutput(dataTable, element);\n",
              "        const docLink = document.createElement('div');\n",
              "        docLink.innerHTML = docLinkHtml;\n",
              "        element.appendChild(docLink);\n",
              "      }\n",
              "    </script>\n",
              "  </div>\n",
              "\n",
              "\n",
              "<div id=\"df-b28c747e-6937-4fc6-9406-8005e6729d0b\">\n",
              "  <button class=\"colab-df-quickchart\" onclick=\"quickchart('df-b28c747e-6937-4fc6-9406-8005e6729d0b')\"\n",
              "            title=\"Suggest charts\"\n",
              "            style=\"display:none;\">\n",
              "\n",
              "<svg xmlns=\"http://www.w3.org/2000/svg\" height=\"24px\"viewBox=\"0 0 24 24\"\n",
              "     width=\"24px\">\n",
              "    <g>\n",
              "        <path d=\"M19 3H5c-1.1 0-2 .9-2 2v14c0 1.1.9 2 2 2h14c1.1 0 2-.9 2-2V5c0-1.1-.9-2-2-2zM9 17H7v-7h2v7zm4 0h-2V7h2v10zm4 0h-2v-4h2v4z\"/>\n",
              "    </g>\n",
              "</svg>\n",
              "  </button>\n",
              "\n",
              "<style>\n",
              "  .colab-df-quickchart {\n",
              "      --bg-color: #E8F0FE;\n",
              "      --fill-color: #1967D2;\n",
              "      --hover-bg-color: #E2EBFA;\n",
              "      --hover-fill-color: #174EA6;\n",
              "      --disabled-fill-color: #AAA;\n",
              "      --disabled-bg-color: #DDD;\n",
              "  }\n",
              "\n",
              "  [theme=dark] .colab-df-quickchart {\n",
              "      --bg-color: #3B4455;\n",
              "      --fill-color: #D2E3FC;\n",
              "      --hover-bg-color: #434B5C;\n",
              "      --hover-fill-color: #FFFFFF;\n",
              "      --disabled-bg-color: #3B4455;\n",
              "      --disabled-fill-color: #666;\n",
              "  }\n",
              "\n",
              "  .colab-df-quickchart {\n",
              "    background-color: var(--bg-color);\n",
              "    border: none;\n",
              "    border-radius: 50%;\n",
              "    cursor: pointer;\n",
              "    display: none;\n",
              "    fill: var(--fill-color);\n",
              "    height: 32px;\n",
              "    padding: 0;\n",
              "    width: 32px;\n",
              "  }\n",
              "\n",
              "  .colab-df-quickchart:hover {\n",
              "    background-color: var(--hover-bg-color);\n",
              "    box-shadow: 0 1px 2px rgba(60, 64, 67, 0.3), 0 1px 3px 1px rgba(60, 64, 67, 0.15);\n",
              "    fill: var(--button-hover-fill-color);\n",
              "  }\n",
              "\n",
              "  .colab-df-quickchart-complete:disabled,\n",
              "  .colab-df-quickchart-complete:disabled:hover {\n",
              "    background-color: var(--disabled-bg-color);\n",
              "    fill: var(--disabled-fill-color);\n",
              "    box-shadow: none;\n",
              "  }\n",
              "\n",
              "  .colab-df-spinner {\n",
              "    border: 2px solid var(--fill-color);\n",
              "    border-color: transparent;\n",
              "    border-bottom-color: var(--fill-color);\n",
              "    animation:\n",
              "      spin 1s steps(1) infinite;\n",
              "  }\n",
              "\n",
              "  @keyframes spin {\n",
              "    0% {\n",
              "      border-color: transparent;\n",
              "      border-bottom-color: var(--fill-color);\n",
              "      border-left-color: var(--fill-color);\n",
              "    }\n",
              "    20% {\n",
              "      border-color: transparent;\n",
              "      border-left-color: var(--fill-color);\n",
              "      border-top-color: var(--fill-color);\n",
              "    }\n",
              "    30% {\n",
              "      border-color: transparent;\n",
              "      border-left-color: var(--fill-color);\n",
              "      border-top-color: var(--fill-color);\n",
              "      border-right-color: var(--fill-color);\n",
              "    }\n",
              "    40% {\n",
              "      border-color: transparent;\n",
              "      border-right-color: var(--fill-color);\n",
              "      border-top-color: var(--fill-color);\n",
              "    }\n",
              "    60% {\n",
              "      border-color: transparent;\n",
              "      border-right-color: var(--fill-color);\n",
              "    }\n",
              "    80% {\n",
              "      border-color: transparent;\n",
              "      border-right-color: var(--fill-color);\n",
              "      border-bottom-color: var(--fill-color);\n",
              "    }\n",
              "    90% {\n",
              "      border-color: transparent;\n",
              "      border-bottom-color: var(--fill-color);\n",
              "    }\n",
              "  }\n",
              "</style>\n",
              "\n",
              "  <script>\n",
              "    async function quickchart(key) {\n",
              "      const quickchartButtonEl =\n",
              "        document.querySelector('#' + key + ' button');\n",
              "      quickchartButtonEl.disabled = true;  // To prevent multiple clicks.\n",
              "      quickchartButtonEl.classList.add('colab-df-spinner');\n",
              "      try {\n",
              "        const charts = await google.colab.kernel.invokeFunction(\n",
              "            'suggestCharts', [key], {});\n",
              "      } catch (error) {\n",
              "        console.error('Error during call to suggestCharts:', error);\n",
              "      }\n",
              "      quickchartButtonEl.classList.remove('colab-df-spinner');\n",
              "      quickchartButtonEl.classList.add('colab-df-quickchart-complete');\n",
              "    }\n",
              "    (() => {\n",
              "      let quickchartButtonEl =\n",
              "        document.querySelector('#df-b28c747e-6937-4fc6-9406-8005e6729d0b button');\n",
              "      quickchartButtonEl.style.display =\n",
              "        google.colab.kernel.accessAllowed ? 'block' : 'none';\n",
              "    })();\n",
              "  </script>\n",
              "</div>\n",
              "\n",
              "    </div>\n",
              "  </div>\n"
            ],
            "application/vnd.google.colaboratory.intrinsic+json": {
              "type": "dataframe",
              "repr_error": "0"
            }
          },
          "metadata": {},
          "execution_count": 10
        }
      ]
    },
    {
      "cell_type": "code",
      "source": [
        "# 統計情報を表示\n",
        "text_df.describe()"
      ],
      "metadata": {
        "colab": {
          "base_uri": "https://localhost:8080/",
          "height": 300
        },
        "id": "iCBB9Kj2CHhQ",
        "outputId": "dd89f737-ba0c-45f5-ba45-aaa153e5d34b"
      },
      "execution_count": 11,
      "outputs": [
        {
          "output_type": "execute_result",
          "data": {
            "text/plain": [
              "           label            id  title_length  text_length\n",
              "count  100.00000  1.000000e+02    100.000000    100.00000\n",
              "mean     3.94000  6.124321e+06     36.380000   1034.84000\n",
              "std      2.80627  6.292525e+05     12.221673    612.07555\n",
              "min      0.00000  4.429538e+06     12.000000    134.00000\n",
              "25%      1.00000  5.809153e+06     27.000000    601.75000\n",
              "50%      4.00000  6.325662e+06     37.000000    865.50000\n",
              "75%      7.00000  6.655402e+06     44.250000   1417.75000\n",
              "max      8.00000  6.903121e+06     73.000000   4188.00000"
            ],
            "text/html": [
              "\n",
              "  <div id=\"df-f4ffe54a-d134-424c-be44-42c952398abe\" class=\"colab-df-container\">\n",
              "    <div>\n",
              "<style scoped>\n",
              "    .dataframe tbody tr th:only-of-type {\n",
              "        vertical-align: middle;\n",
              "    }\n",
              "\n",
              "    .dataframe tbody tr th {\n",
              "        vertical-align: top;\n",
              "    }\n",
              "\n",
              "    .dataframe thead th {\n",
              "        text-align: right;\n",
              "    }\n",
              "</style>\n",
              "<table border=\"1\" class=\"dataframe\">\n",
              "  <thead>\n",
              "    <tr style=\"text-align: right;\">\n",
              "      <th></th>\n",
              "      <th>label</th>\n",
              "      <th>id</th>\n",
              "      <th>title_length</th>\n",
              "      <th>text_length</th>\n",
              "    </tr>\n",
              "  </thead>\n",
              "  <tbody>\n",
              "    <tr>\n",
              "      <th>count</th>\n",
              "      <td>100.00000</td>\n",
              "      <td>1.000000e+02</td>\n",
              "      <td>100.000000</td>\n",
              "      <td>100.00000</td>\n",
              "    </tr>\n",
              "    <tr>\n",
              "      <th>mean</th>\n",
              "      <td>3.94000</td>\n",
              "      <td>6.124321e+06</td>\n",
              "      <td>36.380000</td>\n",
              "      <td>1034.84000</td>\n",
              "    </tr>\n",
              "    <tr>\n",
              "      <th>std</th>\n",
              "      <td>2.80627</td>\n",
              "      <td>6.292525e+05</td>\n",
              "      <td>12.221673</td>\n",
              "      <td>612.07555</td>\n",
              "    </tr>\n",
              "    <tr>\n",
              "      <th>min</th>\n",
              "      <td>0.00000</td>\n",
              "      <td>4.429538e+06</td>\n",
              "      <td>12.000000</td>\n",
              "      <td>134.00000</td>\n",
              "    </tr>\n",
              "    <tr>\n",
              "      <th>25%</th>\n",
              "      <td>1.00000</td>\n",
              "      <td>5.809153e+06</td>\n",
              "      <td>27.000000</td>\n",
              "      <td>601.75000</td>\n",
              "    </tr>\n",
              "    <tr>\n",
              "      <th>50%</th>\n",
              "      <td>4.00000</td>\n",
              "      <td>6.325662e+06</td>\n",
              "      <td>37.000000</td>\n",
              "      <td>865.50000</td>\n",
              "    </tr>\n",
              "    <tr>\n",
              "      <th>75%</th>\n",
              "      <td>7.00000</td>\n",
              "      <td>6.655402e+06</td>\n",
              "      <td>44.250000</td>\n",
              "      <td>1417.75000</td>\n",
              "    </tr>\n",
              "    <tr>\n",
              "      <th>max</th>\n",
              "      <td>8.00000</td>\n",
              "      <td>6.903121e+06</td>\n",
              "      <td>73.000000</td>\n",
              "      <td>4188.00000</td>\n",
              "    </tr>\n",
              "  </tbody>\n",
              "</table>\n",
              "</div>\n",
              "    <div class=\"colab-df-buttons\">\n",
              "\n",
              "  <div class=\"colab-df-container\">\n",
              "    <button class=\"colab-df-convert\" onclick=\"convertToInteractive('df-f4ffe54a-d134-424c-be44-42c952398abe')\"\n",
              "            title=\"Convert this dataframe to an interactive table.\"\n",
              "            style=\"display:none;\">\n",
              "\n",
              "  <svg xmlns=\"http://www.w3.org/2000/svg\" height=\"24px\" viewBox=\"0 -960 960 960\">\n",
              "    <path d=\"M120-120v-720h720v720H120Zm60-500h600v-160H180v160Zm220 220h160v-160H400v160Zm0 220h160v-160H400v160ZM180-400h160v-160H180v160Zm440 0h160v-160H620v160ZM180-180h160v-160H180v160Zm440 0h160v-160H620v160Z\"/>\n",
              "  </svg>\n",
              "    </button>\n",
              "\n",
              "  <style>\n",
              "    .colab-df-container {\n",
              "      display:flex;\n",
              "      gap: 12px;\n",
              "    }\n",
              "\n",
              "    .colab-df-convert {\n",
              "      background-color: #E8F0FE;\n",
              "      border: none;\n",
              "      border-radius: 50%;\n",
              "      cursor: pointer;\n",
              "      display: none;\n",
              "      fill: #1967D2;\n",
              "      height: 32px;\n",
              "      padding: 0 0 0 0;\n",
              "      width: 32px;\n",
              "    }\n",
              "\n",
              "    .colab-df-convert:hover {\n",
              "      background-color: #E2EBFA;\n",
              "      box-shadow: 0px 1px 2px rgba(60, 64, 67, 0.3), 0px 1px 3px 1px rgba(60, 64, 67, 0.15);\n",
              "      fill: #174EA6;\n",
              "    }\n",
              "\n",
              "    .colab-df-buttons div {\n",
              "      margin-bottom: 4px;\n",
              "    }\n",
              "\n",
              "    [theme=dark] .colab-df-convert {\n",
              "      background-color: #3B4455;\n",
              "      fill: #D2E3FC;\n",
              "    }\n",
              "\n",
              "    [theme=dark] .colab-df-convert:hover {\n",
              "      background-color: #434B5C;\n",
              "      box-shadow: 0px 1px 3px 1px rgba(0, 0, 0, 0.15);\n",
              "      filter: drop-shadow(0px 1px 2px rgba(0, 0, 0, 0.3));\n",
              "      fill: #FFFFFF;\n",
              "    }\n",
              "  </style>\n",
              "\n",
              "    <script>\n",
              "      const buttonEl =\n",
              "        document.querySelector('#df-f4ffe54a-d134-424c-be44-42c952398abe button.colab-df-convert');\n",
              "      buttonEl.style.display =\n",
              "        google.colab.kernel.accessAllowed ? 'block' : 'none';\n",
              "\n",
              "      async function convertToInteractive(key) {\n",
              "        const element = document.querySelector('#df-f4ffe54a-d134-424c-be44-42c952398abe');\n",
              "        const dataTable =\n",
              "          await google.colab.kernel.invokeFunction('convertToInteractive',\n",
              "                                                    [key], {});\n",
              "        if (!dataTable) return;\n",
              "\n",
              "        const docLinkHtml = 'Like what you see? Visit the ' +\n",
              "          '<a target=\"_blank\" href=https://colab.research.google.com/notebooks/data_table.ipynb>data table notebook</a>'\n",
              "          + ' to learn more about interactive tables.';\n",
              "        element.innerHTML = '';\n",
              "        dataTable['output_type'] = 'display_data';\n",
              "        await google.colab.output.renderOutput(dataTable, element);\n",
              "        const docLink = document.createElement('div');\n",
              "        docLink.innerHTML = docLinkHtml;\n",
              "        element.appendChild(docLink);\n",
              "      }\n",
              "    </script>\n",
              "  </div>\n",
              "\n",
              "\n",
              "<div id=\"df-790f29f1-e91c-4578-8a1b-8728009e976d\">\n",
              "  <button class=\"colab-df-quickchart\" onclick=\"quickchart('df-790f29f1-e91c-4578-8a1b-8728009e976d')\"\n",
              "            title=\"Suggest charts\"\n",
              "            style=\"display:none;\">\n",
              "\n",
              "<svg xmlns=\"http://www.w3.org/2000/svg\" height=\"24px\"viewBox=\"0 0 24 24\"\n",
              "     width=\"24px\">\n",
              "    <g>\n",
              "        <path d=\"M19 3H5c-1.1 0-2 .9-2 2v14c0 1.1.9 2 2 2h14c1.1 0 2-.9 2-2V5c0-1.1-.9-2-2-2zM9 17H7v-7h2v7zm4 0h-2V7h2v10zm4 0h-2v-4h2v4z\"/>\n",
              "    </g>\n",
              "</svg>\n",
              "  </button>\n",
              "\n",
              "<style>\n",
              "  .colab-df-quickchart {\n",
              "      --bg-color: #E8F0FE;\n",
              "      --fill-color: #1967D2;\n",
              "      --hover-bg-color: #E2EBFA;\n",
              "      --hover-fill-color: #174EA6;\n",
              "      --disabled-fill-color: #AAA;\n",
              "      --disabled-bg-color: #DDD;\n",
              "  }\n",
              "\n",
              "  [theme=dark] .colab-df-quickchart {\n",
              "      --bg-color: #3B4455;\n",
              "      --fill-color: #D2E3FC;\n",
              "      --hover-bg-color: #434B5C;\n",
              "      --hover-fill-color: #FFFFFF;\n",
              "      --disabled-bg-color: #3B4455;\n",
              "      --disabled-fill-color: #666;\n",
              "  }\n",
              "\n",
              "  .colab-df-quickchart {\n",
              "    background-color: var(--bg-color);\n",
              "    border: none;\n",
              "    border-radius: 50%;\n",
              "    cursor: pointer;\n",
              "    display: none;\n",
              "    fill: var(--fill-color);\n",
              "    height: 32px;\n",
              "    padding: 0;\n",
              "    width: 32px;\n",
              "  }\n",
              "\n",
              "  .colab-df-quickchart:hover {\n",
              "    background-color: var(--hover-bg-color);\n",
              "    box-shadow: 0 1px 2px rgba(60, 64, 67, 0.3), 0 1px 3px 1px rgba(60, 64, 67, 0.15);\n",
              "    fill: var(--button-hover-fill-color);\n",
              "  }\n",
              "\n",
              "  .colab-df-quickchart-complete:disabled,\n",
              "  .colab-df-quickchart-complete:disabled:hover {\n",
              "    background-color: var(--disabled-bg-color);\n",
              "    fill: var(--disabled-fill-color);\n",
              "    box-shadow: none;\n",
              "  }\n",
              "\n",
              "  .colab-df-spinner {\n",
              "    border: 2px solid var(--fill-color);\n",
              "    border-color: transparent;\n",
              "    border-bottom-color: var(--fill-color);\n",
              "    animation:\n",
              "      spin 1s steps(1) infinite;\n",
              "  }\n",
              "\n",
              "  @keyframes spin {\n",
              "    0% {\n",
              "      border-color: transparent;\n",
              "      border-bottom-color: var(--fill-color);\n",
              "      border-left-color: var(--fill-color);\n",
              "    }\n",
              "    20% {\n",
              "      border-color: transparent;\n",
              "      border-left-color: var(--fill-color);\n",
              "      border-top-color: var(--fill-color);\n",
              "    }\n",
              "    30% {\n",
              "      border-color: transparent;\n",
              "      border-left-color: var(--fill-color);\n",
              "      border-top-color: var(--fill-color);\n",
              "      border-right-color: var(--fill-color);\n",
              "    }\n",
              "    40% {\n",
              "      border-color: transparent;\n",
              "      border-right-color: var(--fill-color);\n",
              "      border-top-color: var(--fill-color);\n",
              "    }\n",
              "    60% {\n",
              "      border-color: transparent;\n",
              "      border-right-color: var(--fill-color);\n",
              "    }\n",
              "    80% {\n",
              "      border-color: transparent;\n",
              "      border-right-color: var(--fill-color);\n",
              "      border-bottom-color: var(--fill-color);\n",
              "    }\n",
              "    90% {\n",
              "      border-color: transparent;\n",
              "      border-bottom-color: var(--fill-color);\n",
              "    }\n",
              "  }\n",
              "</style>\n",
              "\n",
              "  <script>\n",
              "    async function quickchart(key) {\n",
              "      const quickchartButtonEl =\n",
              "        document.querySelector('#' + key + ' button');\n",
              "      quickchartButtonEl.disabled = true;  // To prevent multiple clicks.\n",
              "      quickchartButtonEl.classList.add('colab-df-spinner');\n",
              "      try {\n",
              "        const charts = await google.colab.kernel.invokeFunction(\n",
              "            'suggestCharts', [key], {});\n",
              "      } catch (error) {\n",
              "        console.error('Error during call to suggestCharts:', error);\n",
              "      }\n",
              "      quickchartButtonEl.classList.remove('colab-df-spinner');\n",
              "      quickchartButtonEl.classList.add('colab-df-quickchart-complete');\n",
              "    }\n",
              "    (() => {\n",
              "      let quickchartButtonEl =\n",
              "        document.querySelector('#df-790f29f1-e91c-4578-8a1b-8728009e976d button');\n",
              "      quickchartButtonEl.style.display =\n",
              "        google.colab.kernel.accessAllowed ? 'block' : 'none';\n",
              "    })();\n",
              "  </script>\n",
              "</div>\n",
              "\n",
              "    </div>\n",
              "  </div>\n"
            ],
            "application/vnd.google.colaboratory.intrinsic+json": {
              "type": "dataframe",
              "summary": "{\n  \"name\": \"text_df\",\n  \"rows\": 8,\n  \"fields\": [\n    {\n      \"column\": \"label\",\n      \"properties\": {\n        \"dtype\": \"number\",\n        \"std\": 34.11183630042551,\n        \"min\": 0.0,\n        \"max\": 100.0,\n        \"num_unique_values\": 8,\n        \"samples\": [\n          3.94,\n          4.0,\n          100.0\n        ],\n        \"semantic_type\": \"\",\n        \"description\": \"\"\n      }\n    },\n    {\n      \"column\": \"id\",\n      \"properties\": {\n        \"dtype\": \"number\",\n        \"std\": 2758022.0578919346,\n        \"min\": 100.0,\n        \"max\": 6903121.0,\n        \"num_unique_values\": 8,\n        \"samples\": [\n          6124320.66,\n          6325662.0,\n          100.0\n        ],\n        \"semantic_type\": \"\",\n        \"description\": \"\"\n      }\n    },\n    {\n      \"column\": \"title_length\",\n      \"properties\": {\n        \"dtype\": \"number\",\n        \"std\": 30.223253569509204,\n        \"min\": 12.0,\n        \"max\": 100.0,\n        \"num_unique_values\": 8,\n        \"samples\": [\n          36.38,\n          37.0,\n          100.0\n        ],\n        \"semantic_type\": \"\",\n        \"description\": \"\"\n      }\n    },\n    {\n      \"column\": \"text_length\",\n      \"properties\": {\n        \"dtype\": \"number\",\n        \"std\": 1315.4284049424414,\n        \"min\": 100.0,\n        \"max\": 4188.0,\n        \"num_unique_values\": 8,\n        \"samples\": [\n          1034.84,\n          865.5,\n          100.0\n        ],\n        \"semantic_type\": \"\",\n        \"description\": \"\"\n      }\n    }\n  ]\n}"
            }
          },
          "metadata": {},
          "execution_count": 11
        }
      ]
    },
    {
      "cell_type": "code",
      "source": [
        "# 埋め込みモデルを初期化\n",
        "#   日本語の埋め込みで評判が良いモデルを利用\n",
        "#   https://huggingface.co/intfloat/multilingual-e5-small\n",
        "model = SentenceTransformer(\"intfloat/multilingual-e5-small\")"
      ],
      "metadata": {
        "colab": {
          "base_uri": "https://localhost:8080/"
        },
        "id": "PQqmXNphyhst",
        "outputId": "6a08c372-a1eb-4048-c26a-3ae629e1857c"
      },
      "execution_count": 12,
      "outputs": [
        {
          "output_type": "stream",
          "name": "stderr",
          "text": [
            "/usr/local/lib/python3.10/dist-packages/huggingface_hub/file_download.py:1132: FutureWarning: `resume_download` is deprecated and will be removed in version 1.0.0. Downloads always resume when possible. If you want to force a new download, use `force_download=True`.\n",
            "  warnings.warn(\n"
          ]
        }
      ]
    },
    {
      "cell_type": "code",
      "source": [
        "# 埋め込みモデルの出力次元酢を取得\n",
        "embedding_dim = model.get_sentence_embedding_dimension()\n",
        "print(\"Embedding dimension:\", embedding_dim)"
      ],
      "metadata": {
        "colab": {
          "base_uri": "https://localhost:8080/"
        },
        "id": "ONzFG0EW6Qkn",
        "outputId": "e740a5d5-3c76-4366-ef67-3167ae949a74"
      },
      "execution_count": 13,
      "outputs": [
        {
          "output_type": "stream",
          "name": "stdout",
          "text": [
            "Embedding dimension: 384\n"
          ]
        }
      ]
    },
    {
      "cell_type": "code",
      "source": [
        "# タイトルと本文を結合したテキストをベクトル化\n",
        "# multilingual-e5-small では最初の 512 トークン分までを反映\n",
        "vectors = model.encode(text_df['embed_text'].values, normalize_embeddings=False)"
      ],
      "metadata": {
        "id": "Hka4a2bmyhuk"
      },
      "execution_count": 14,
      "outputs": []
    },
    {
      "cell_type": "code",
      "source": [
        "# 埋め込みベクトルをファイルに保存\n",
        "# np.save(\"vectors.npy\", vectors)"
      ],
      "metadata": {
        "id": "0dOiEBPq4Zyh"
      },
      "execution_count": 15,
      "outputs": []
    },
    {
      "cell_type": "code",
      "source": [
        "# 埋め込みベクトルをロード\n",
        "# vectors = np.load(\"vectors.npy\")"
      ],
      "metadata": {
        "id": "kjJoUBvla0N2"
      },
      "execution_count": 16,
      "outputs": []
    },
    {
      "cell_type": "code",
      "source": [
        "# 取得した埋め込みベクトルの概要\n",
        "print(\"ndarray.shape:\",vectors.shape)\n",
        "print(\"各ベクトルの長さ(L2ノルム)の算術平均:\",np.linalg.norm(vectors, ord=2, axis=1).mean())"
      ],
      "metadata": {
        "colab": {
          "base_uri": "https://localhost:8080/"
        },
        "id": "p_8lIY_k4Z0j",
        "outputId": "7bdbed00-2fab-432b-b03e-400cf048041f"
      },
      "execution_count": 17,
      "outputs": [
        {
          "output_type": "stream",
          "name": "stdout",
          "text": [
            "ndarray.shape: (100, 384)\n",
            "各ベクトルの長さ(L2ノルム)の算術平均: 1.0\n"
          ]
        }
      ]
    },
    {
      "cell_type": "code",
      "source": [
        "# サンプル表示\n",
        "vectors[0]"
      ],
      "metadata": {
        "colab": {
          "base_uri": "https://localhost:8080/"
        },
        "id": "-v-IY_9A4Z2a",
        "outputId": "d42522b3-031e-4316-ebe6-fdeca7e705fc"
      },
      "execution_count": 18,
      "outputs": [
        {
          "output_type": "execute_result",
          "data": {
            "text/plain": [
              "array([ 0.08066503, -0.00523379, -0.09744685, -0.01677839,  0.07524786,\n",
              "       -0.04739355,  0.03523386,  0.01692776,  0.05449464,  0.04589533,\n",
              "        0.07023565,  0.00129315,  0.04883071, -0.02052256, -0.05360262,\n",
              "        0.06391852,  0.05331073, -0.04042253, -0.04317233, -0.06652067,\n",
              "        0.03185656,  0.01994527, -0.02091336,  0.02510303,  0.02901173,\n",
              "        0.05440372, -0.01039908,  0.0743029 ,  0.06434262, -0.05368255,\n",
              "       -0.08908329, -0.02670831,  0.08869047, -0.03918426,  0.06906943,\n",
              "        0.04412019, -0.08337806, -0.0278442 ,  0.03416985, -0.02788029,\n",
              "       -0.06567191,  0.00523806,  0.03236721,  0.06148892,  0.02948582,\n",
              "        0.1175248 , -0.05198265,  0.04853149, -0.04528742, -0.01046432,\n",
              "       -0.04674789,  0.10230402,  0.01338646,  0.07745194, -0.00323039,\n",
              "       -0.03383607, -0.06252462, -0.06361134, -0.05356198, -0.00921301,\n",
              "        0.08401891, -0.00691842,  0.03547987,  0.02727933,  0.09059671,\n",
              "        0.02030631,  0.07606818,  0.0429274 , -0.02246193, -0.04457675,\n",
              "       -0.03865376,  0.06510166, -0.0388026 , -0.02950175, -0.03956006,\n",
              "        0.05974625,  0.06631921, -0.0160731 ,  0.04704138, -0.03653311,\n",
              "       -0.05854358, -0.07232743, -0.01387275,  0.02548756, -0.01969502,\n",
              "        0.05745277,  0.03390209, -0.07209229,  0.01610442, -0.02966311,\n",
              "        0.05565794,  0.05607346, -0.02297228, -0.09393631, -0.03942892,\n",
              "       -0.04700717, -0.05714457,  0.04596869,  0.06066384,  0.03324252,\n",
              "        0.04286715, -0.03131563,  0.04661112, -0.08463923, -0.00632154,\n",
              "        0.05462807,  0.04505162, -0.05010995,  0.05699222, -0.07907581,\n",
              "       -0.04051739,  0.03729552,  0.04271095,  0.03120565, -0.07551395,\n",
              "       -0.04279018, -0.02960366, -0.07758553,  0.07768941, -0.05481043,\n",
              "        0.03433474, -0.03014172, -0.0372223 , -0.05099003, -0.07322543,\n",
              "       -0.04692341,  0.06066128,  0.03961259,  0.01937821,  0.01086651,\n",
              "        0.03040107,  0.0188348 ,  0.04678724,  0.025192  ,  0.04582038,\n",
              "        0.02735112,  0.01965308, -0.05339615, -0.0280893 , -0.02494609,\n",
              "       -0.02804948,  0.07711761, -0.02585327,  0.0820384 ,  0.01515499,\n",
              "       -0.00112538,  0.06479401, -0.07389709,  0.03753265,  0.00221944,\n",
              "        0.06515362, -0.02449957,  0.10867104,  0.06229649,  0.03031207,\n",
              "       -0.05924738, -0.02979612, -0.04734377,  0.03358884,  0.07707904,\n",
              "       -0.05349561, -0.05236641, -0.09017023, -0.05842092, -0.02674202,\n",
              "       -0.10304477,  0.07639951,  0.08103132, -0.06151196, -0.0621148 ,\n",
              "       -0.02789205,  0.07394402, -0.07984351,  0.01757364, -0.0166109 ,\n",
              "        0.04512609, -0.05140101,  0.06572635,  0.08602622,  0.01056637,\n",
              "       -0.01898436, -0.05300967, -0.04563646, -0.0301055 , -0.07952234,\n",
              "       -0.0505038 , -0.0203799 ,  0.01398219,  0.06561077, -0.0363481 ,\n",
              "       -0.04278641,  0.03983007, -0.05586514, -0.02714005,  0.04248233,\n",
              "        0.0216225 ,  0.00416064,  0.0707762 ,  0.04255694,  0.01027836,\n",
              "       -0.01352697, -0.06113492,  0.06114323,  0.05435923,  0.06422415,\n",
              "       -0.01001862, -0.07222024,  0.03785326, -0.06361613,  0.04804709,\n",
              "        0.05787075, -0.09228467, -0.08301197,  0.09406649, -0.10829432,\n",
              "       -0.03048457,  0.01096976,  0.00405465, -0.04552005,  0.0554614 ,\n",
              "        0.04079282, -0.05562893,  0.00800257, -0.07542668,  0.00425609,\n",
              "        0.05905245,  0.03512751, -0.04075402, -0.05818313,  0.03912396,\n",
              "       -0.04248007, -0.02528493, -0.02232809, -0.03698949, -0.08633292,\n",
              "       -0.04291417, -0.02683858,  0.01338401,  0.08816233, -0.06465622,\n",
              "       -0.03627991, -0.02541841,  0.0158547 , -0.07160487,  0.03331889,\n",
              "       -0.02688625, -0.01420138,  0.00778829, -0.01644677,  0.04402504,\n",
              "        0.02003852,  0.00653795, -0.07117803, -0.07077534, -0.04692015,\n",
              "        0.04316518,  0.02404994,  0.02489241, -0.04319199,  0.00121201,\n",
              "        0.04178314, -0.02674688,  0.10688782,  0.02577692,  0.02515082,\n",
              "        0.0627818 , -0.04465591, -0.05277917, -0.06892432, -0.032929  ,\n",
              "       -0.05525125,  0.04542011,  0.02088124, -0.07140955, -0.02745805,\n",
              "       -0.03090471, -0.00774236,  0.10307784, -0.08193342, -0.07925087,\n",
              "       -0.01210791,  0.02629275,  0.02761119,  0.06049035,  0.07602543,\n",
              "        0.01309168, -0.03386952,  0.05876594, -0.01906594, -0.04247916,\n",
              "       -0.08615454, -0.02197292,  0.06241889, -0.07795984,  0.00929212,\n",
              "        0.00233816, -0.02564141,  0.05690983, -0.0249041 ,  0.07184977,\n",
              "       -0.05491473, -0.03153266,  0.01081985,  0.01046766, -0.06744677,\n",
              "        0.02690367,  0.00475683,  0.02291457,  0.03410488,  0.05269665,\n",
              "        0.03200402,  0.04481526, -0.11834635, -0.04464877,  0.0953606 ,\n",
              "        0.0498578 ,  0.00919192,  0.03227138, -0.07133147, -0.019606  ,\n",
              "       -0.06492456, -0.03591587, -0.02940131, -0.0781805 ,  0.03401164,\n",
              "        0.06156397, -0.04732044, -0.04689973,  0.03967647,  0.01200643,\n",
              "        0.0326189 , -0.03848481, -0.08240676,  0.06326169, -0.05186673,\n",
              "       -0.01849276, -0.03290889, -0.00593625, -0.05904349, -0.06749433,\n",
              "        0.05564103,  0.08965025, -0.01289042,  0.00734527, -0.0292781 ,\n",
              "       -0.0587484 ,  0.04967104,  0.01755653, -0.03745718,  0.0268995 ,\n",
              "        0.00155397, -0.08423554,  0.03548514,  0.0351004 , -0.00129604,\n",
              "        0.03084861, -0.02778364, -0.01776896,  0.05678655,  0.06974271,\n",
              "       -0.01179561, -0.04494586,  0.02907538,  0.03322614,  0.05415928,\n",
              "        0.0691922 , -0.01319541,  0.0012203 ,  0.03621908, -0.09446298,\n",
              "        0.04011187,  0.06169793, -0.02631091,  0.03156269, -0.04062422,\n",
              "       -0.00671614, -0.03845615,  0.0760316 , -0.06170999, -0.06583622,\n",
              "        0.08357162, -0.0242046 ,  0.04347486,  0.06241269], dtype=float32)"
            ]
          },
          "metadata": {},
          "execution_count": 18
        }
      ]
    },
    {
      "cell_type": "markdown",
      "source": [
        "## Qdrant Client を初期化"
      ],
      "metadata": {
        "id": "Ej36r57g8RgF"
      }
    },
    {
      "cell_type": "code",
      "execution_count": 19,
      "metadata": {
        "id": "SqTkL3kWRGM9"
      },
      "outputs": [],
      "source": [
        "from qdrant_client import QdrantClient\n",
        "\n",
        "qdrant_url = \"http://localhost:6333\"\n",
        "qdrant_collection_name = \"livedoor_news\"\n",
        "\n",
        "# Qdrant Client を初期化\n",
        "client = QdrantClient(url=qdrant_url)"
      ]
    },
    {
      "cell_type": "code",
      "execution_count": 20,
      "metadata": {
        "colab": {
          "base_uri": "https://localhost:8080/"
        },
        "id": "Ad_g7GKlRpn6",
        "outputId": "d8de98fb-6a13-4abd-fd2e-5fa69bb91363"
      },
      "outputs": [
        {
          "output_type": "execute_result",
          "data": {
            "text/plain": [
              "True"
            ]
          },
          "metadata": {},
          "execution_count": 20
        }
      ],
      "source": [
        "from qdrant_client.models import Distance, VectorParams\n",
        "\n",
        "# コレクション(テーブル)を初期化\n",
        "# ベクトル次元 384次元、距離: cosine\n",
        "# (既にコレクションが定義されている場合はエラーが出ます)\n",
        "#  -> b'{\"status\":{\"error\":\"Wrong input: Collection `livedoor_news` already exists!\"},\"time\":0.0000995}'\n",
        "client.create_collection(\n",
        "    collection_name=qdrant_collection_name,\n",
        "    vectors_config=VectorParams(size=embedding_dim, distance=Distance.COSINE),\n",
        ")"
      ]
    },
    {
      "cell_type": "code",
      "source": [
        "# ペイロードのインデックス用にスキーマを定義\n",
        "# None の場合はインデックスを作成しない\n",
        "payload_index_field_types = {\n",
        "    \"id\":\"integer\",  # URL から切り出した ID\n",
        "    \"url\":None,  # 記事の URL\n",
        "    \"timestamp\":\"datetime\",  # タイムスタンプ\n",
        "    \"label_name\":\"keyword\",  # 記事区分名\n",
        "    \"label\":\"integer\",  # 記事区分ID\n",
        "    \"text_length\":\"integer\",  # テキストの文字列長\n",
        "}"
      ],
      "metadata": {
        "id": "drRVPBbI8xFZ"
      },
      "execution_count": 21,
      "outputs": []
    },
    {
      "cell_type": "code",
      "source": [
        "# ペイロード(メタデータ)の型を変換する: List[Dict[str, any]]\n",
        "payloads = text_df[payload_index_field_types.keys()].to_dict('records')\n",
        "payloads[0]"
      ],
      "metadata": {
        "colab": {
          "base_uri": "https://localhost:8080/"
        },
        "id": "6QpG0MBg91zh",
        "outputId": "4b803ee0-80ff-4dfe-b2cb-1018ba077dab"
      },
      "execution_count": 22,
      "outputs": [
        {
          "output_type": "execute_result",
          "data": {
            "text/plain": [
              "{'id': 5834709,\n",
              " 'url': 'http://news.livedoor.com/article/detail/5834709/',\n",
              " 'timestamp': '2011-09-04T10:00:00+0900',\n",
              " 'label_name': 'dokujo-tsushin',\n",
              " 'label': 0,\n",
              " 'text_length': 1034}"
            ]
          },
          "metadata": {},
          "execution_count": 22
        }
      ]
    },
    {
      "cell_type": "code",
      "execution_count": 23,
      "metadata": {
        "colab": {
          "base_uri": "https://localhost:8080/"
        },
        "id": "B97J6dUlR4Vf",
        "outputId": "5f15784e-5971-4d9d-f809-6f9ce5f3cccd"
      },
      "outputs": [
        {
          "output_type": "stream",
          "name": "stdout",
          "text": [
            "operation_id=0 status=<UpdateStatus.COMPLETED: 'completed'>\n"
          ]
        }
      ],
      "source": [
        "from qdrant_client.models import PointStruct, Batch\n",
        "\n",
        "# ポイント(アイテム)を追加\n",
        "# ベクトルとペイロードを追加\n",
        "operation_info = client.upsert(\n",
        "    collection_name=qdrant_collection_name,\n",
        "    wait=True,  # 検索可能な状態になるまで応答を待つオプション\n",
        "    points=Batch(\n",
        "        ids=text_df['id'].to_list(),\n",
        "        payloads=payloads,\n",
        "        vectors=vectors,\n",
        "    )\n",
        ")\n",
        "\n",
        "print(operation_info)"
      ]
    },
    {
      "cell_type": "code",
      "source": [
        "# Qdrant の Payload にインデックスを設定\n",
        "for field_name, field_type in payload_index_field_types.items():\n",
        "    if field_type is None:\n",
        "        continue\n",
        "    print(f\"field_name: {field_name}, field_type: {field_type}\")\n",
        "    client.create_payload_index(\n",
        "        collection_name=qdrant_collection_name,\n",
        "        field_name=field_name,\n",
        "        field_schema=field_type,\n",
        "    )"
      ],
      "metadata": {
        "colab": {
          "base_uri": "https://localhost:8080/"
        },
        "id": "tOtvRbt39z5Z",
        "outputId": "1b4b3a7f-ed3b-49c1-87d5-1aa4953abb05"
      },
      "execution_count": 24,
      "outputs": [
        {
          "output_type": "stream",
          "name": "stdout",
          "text": [
            "field_name: id, field_type: integer\n",
            "field_name: timestamp, field_type: datetime\n",
            "field_name: label_name, field_type: keyword\n",
            "field_name: label, field_type: integer\n",
            "field_name: text_length, field_type: integer\n"
          ]
        }
      ]
    },
    {
      "cell_type": "markdown",
      "source": [
        "## 検索"
      ],
      "metadata": {
        "id": "FsZP6HWAAVoT"
      }
    },
    {
      "cell_type": "code",
      "source": [
        "# クエリ文字列からクエリベクトルを作成\n",
        "query_text = 'インフラ関連の整備'\n",
        "query_vector = model.encode(query_text)"
      ],
      "metadata": {
        "id": "XZbfcCmV90Bp"
      },
      "execution_count": 25,
      "outputs": []
    },
    {
      "cell_type": "code",
      "source": [
        "# クエリベクトルの形\n",
        "query_vector.shape"
      ],
      "metadata": {
        "colab": {
          "base_uri": "https://localhost:8080/"
        },
        "id": "wU80vUc9AakK",
        "outputId": "c21d2bb6-24be-42ac-946b-d45770996fb9"
      },
      "execution_count": 26,
      "outputs": [
        {
          "output_type": "execute_result",
          "data": {
            "text/plain": [
              "(384,)"
            ]
          },
          "metadata": {},
          "execution_count": 26
        }
      ]
    },
    {
      "cell_type": "code",
      "execution_count": 27,
      "metadata": {
        "colab": {
          "base_uri": "https://localhost:8080/"
        },
        "id": "y7POkQ60R78h",
        "outputId": "7cbae8ae-5416-4585-9f51-b733524bae77"
      },
      "outputs": [
        {
          "output_type": "stream",
          "name": "stdout",
          "text": [
            "id=6611266 version=0 score=0.8272952 payload={'id': 6611266, 'label': 6, 'label_name': 'smax', 'text_length': 1445, 'timestamp': '2012-05-31T06:55:00+0900', 'url': 'http://news.livedoor.com/article/detail/6611266/'} vector=None shard_key=None\n",
            "id=6066216 version=0 score=0.82396823 payload={'id': 6066216, 'label': 2, 'label_name': 'kaden-channel', 'text_length': 419, 'timestamp': '2011-11-27T16:30:00+0900', 'url': 'http://news.livedoor.com/article/detail/6066216/'} vector=None shard_key=None\n",
            "id=6543512 version=0 score=0.82137966 payload={'id': 6543512, 'label': 6, 'label_name': 'smax', 'text_length': 2198, 'timestamp': '2012-05-09T22:38:00+0900', 'url': 'http://news.livedoor.com/article/detail/6543512/'} vector=None shard_key=None\n",
            "id=6314562 version=0 score=0.81597924 payload={'id': 6314562, 'label': 2, 'label_name': 'kaden-channel', 'text_length': 496, 'timestamp': '2012-02-26T14:38:00+0900', 'url': 'http://news.livedoor.com/article/detail/6314562/'} vector=None shard_key=None\n",
            "id=6865979 version=0 score=0.8152049 payload={'id': 6865979, 'label': 1, 'label_name': 'it-life-hack', 'text_length': 2413, 'timestamp': '2012-08-18T11:55:00+0900', 'url': 'http://news.livedoor.com/article/detail/6865979/'} vector=None shard_key=None\n"
          ]
        }
      ],
      "source": [
        "# クエリベクトルに対するベクトル検索(Cosine類似度)\n",
        "search_result = client.search(\n",
        "    collection_name=qdrant_collection_name,\n",
        "    query_vector=query_vector,  # 検索キーベクトルを指定\n",
        "    with_payload=True, # 応答にペイロードを含める\n",
        "    limit=5\n",
        ")\n",
        "\n",
        "_ = [print(x) for x in search_result]"
      ]
    },
    {
      "cell_type": "code",
      "execution_count": 28,
      "metadata": {
        "colab": {
          "base_uri": "https://localhost:8080/"
        },
        "id": "SY39xn0lR8la",
        "outputId": "1af52a0b-f91a-4986-a23c-9057aea5ca37"
      },
      "outputs": [
        {
          "output_type": "stream",
          "name": "stdout",
          "text": [
            "id=6865979 version=0 score=0.8152049 payload={'id': 6865979, 'label': 1, 'label_name': 'it-life-hack', 'text_length': 2413, 'timestamp': '2012-08-18T11:55:00+0900', 'url': 'http://news.livedoor.com/article/detail/6865979/'} vector=None shard_key=None\n",
            "id=6409860 version=0 score=0.81104857 payload={'id': 6409860, 'label': 1, 'label_name': 'it-life-hack', 'text_length': 1098, 'timestamp': '2012-03-28T09:00:00+0900', 'url': 'http://news.livedoor.com/article/detail/6409860/'} vector=None shard_key=None\n",
            "id=6509420 version=0 score=0.8105725 payload={'id': 6509420, 'label': 1, 'label_name': 'it-life-hack', 'text_length': 868, 'timestamp': '2012-04-27T09:00:00+0900', 'url': 'http://news.livedoor.com/article/detail/6509420/'} vector=None shard_key=None\n",
            "id=6574653 version=0 score=0.80989575 payload={'id': 6574653, 'label': 1, 'label_name': 'it-life-hack', 'text_length': 1171, 'timestamp': '2012-05-19T10:00:00+0900', 'url': 'http://news.livedoor.com/article/detail/6574653/'} vector=None shard_key=None\n",
            "id=6693612 version=0 score=0.8091996 payload={'id': 6693612, 'label': 1, 'label_name': 'it-life-hack', 'text_length': 1791, 'timestamp': '2012-06-26T09:00:00+0900', 'url': 'http://news.livedoor.com/article/detail/6693612/'} vector=None shard_key=None\n"
          ]
        }
      ],
      "source": [
        "from qdrant_client.models import Filter, FieldCondition, MatchValue\n",
        "\n",
        "# ベクトル検索 & フィルタリングの検索例\n",
        "search_result = client.search(\n",
        "    collection_name=qdrant_collection_name,\n",
        "    query_vector=query_vector,  # 検索キーベクトルを指定\n",
        "    query_filter=Filter(\n",
        "        must=[FieldCondition(key=\"label_name\", match=MatchValue(value=\"it-life-hack\"))]  # ペイロードの文字列一致でフィルタリング\n",
        "    ),\n",
        "    with_payload=True, # 応答にペイロードを含める\n",
        "    limit=5,\n",
        ")\n",
        "\n",
        "_ = [print(x) for x in search_result]"
      ]
    },
    {
      "cell_type": "code",
      "source": [
        "from qdrant_client.models import Filter, FieldCondition, Range\n",
        "\n",
        "# ベクトル検索 & フィルタリングの検索例\n",
        "search_result = client.search(\n",
        "    collection_name=qdrant_collection_name,\n",
        "    query_vector=query_vector,  # 検索キーベクトルを指定\n",
        "    query_filter=Filter(\n",
        "        must=[\n",
        "            FieldCondition(\n",
        "                key=\"text_length\",\n",
        "                range=Range(  # ペイロードの値の範囲でフィルタリング\n",
        "                    gte=600,\n",
        "                    lte=1000,\n",
        "                ),\n",
        "            ),\n",
        "        ]\n",
        "    ),\n",
        "    with_payload=True, # 応答にペイロードを含める\n",
        "    limit=10,\n",
        ")\n",
        "\n",
        "_ = [print(x) for x in search_result]"
      ],
      "metadata": {
        "colab": {
          "base_uri": "https://localhost:8080/"
        },
        "id": "Yzla4tpUBncx",
        "outputId": "0731220a-8f4e-495e-9385-eac3541d7c0f"
      },
      "execution_count": 29,
      "outputs": [
        {
          "output_type": "stream",
          "name": "stdout",
          "text": [
            "id=6509420 version=0 score=0.8105725 payload={'id': 6509420, 'label': 1, 'label_name': 'it-life-hack', 'text_length': 868, 'timestamp': '2012-04-27T09:00:00+0900', 'url': 'http://news.livedoor.com/article/detail/6509420/'} vector=None shard_key=None\n",
            "id=6737569 version=0 score=0.8075932 payload={'id': 6737569, 'label': 6, 'label_name': 'smax', 'text_length': 928, 'timestamp': '2012-07-09T07:55:00+0900', 'url': 'http://news.livedoor.com/article/detail/6737569/'} vector=None shard_key=None\n",
            "id=6666132 version=0 score=0.80412245 payload={'id': 6666132, 'label': 2, 'label_name': 'kaden-channel', 'text_length': 880, 'timestamp': '2012-06-17T13:30:00+0900', 'url': 'http://news.livedoor.com/article/detail/6666132/'} vector=None shard_key=None\n",
            "id=6711214 version=0 score=0.80290115 payload={'id': 6711214, 'label': 6, 'label_name': 'smax', 'text_length': 930, 'timestamp': '2012-07-01T09:55:00+0900', 'url': 'http://news.livedoor.com/article/detail/6711214/'} vector=None shard_key=None\n",
            "id=5995609 version=0 score=0.79913974 payload={'id': 5995609, 'label': 2, 'label_name': 'kaden-channel', 'text_length': 835, 'timestamp': '2011-11-04T10:00:00+0900', 'url': 'http://news.livedoor.com/article/detail/5995609/'} vector=None shard_key=None\n",
            "id=4684025 version=0 score=0.79877424 payload={'id': 4684025, 'label': 3, 'label_name': 'livedoor-homme', 'text_length': 752, 'timestamp': '2010-03-27T23:00:00+0900', 'url': 'http://news.livedoor.com/article/detail/4684025/'} vector=None shard_key=None\n",
            "id=6746895 version=0 score=0.7950771 payload={'id': 6746895, 'label': 1, 'label_name': 'it-life-hack', 'text_length': 731, 'timestamp': '2012-07-11T15:08:00+0900', 'url': 'http://news.livedoor.com/article/detail/6746895/'} vector=None shard_key=None\n",
            "id=5845309 version=0 score=0.7934966 payload={'id': 5845309, 'label': 2, 'label_name': 'kaden-channel', 'text_length': 792, 'timestamp': '2011-09-08T10:32:00+0900', 'url': 'http://news.livedoor.com/article/detail/5845309/'} vector=None shard_key=None\n",
            "id=4499588 version=0 score=0.79142165 payload={'id': 4499588, 'label': 5, 'label_name': 'peachy', 'text_length': 679, 'timestamp': '2009-12-11T19:40:00+0900', 'url': 'http://news.livedoor.com/article/detail/4499588/'} vector=None shard_key=None\n",
            "id=6627487 version=0 score=0.78985196 payload={'id': 6627487, 'label': 1, 'label_name': 'it-life-hack', 'text_length': 863, 'timestamp': '2012-06-05T13:00:00+0900', 'url': 'http://news.livedoor.com/article/detail/6627487/'} vector=None shard_key=None\n"
          ]
        }
      ]
    },
    {
      "cell_type": "code",
      "source": [
        "\n",
        "from qdrant_client.models import Filter, FieldCondition, MatchValue\n",
        "\n",
        "# ベクトル検索 & フィルタリングの検索例\n",
        "# 2つのフィルタリング条件を And で結合\n",
        "search_result = client.search(\n",
        "    collection_name=qdrant_collection_name,\n",
        "    query_vector=query_vector,  # 検索キーベクトルを指定\n",
        "    query_filter=Filter(\n",
        "        must=[\n",
        "            FieldCondition(  # ペイロードの文字列一致でフィルタリング\n",
        "                key=\"label_name\",\n",
        "                match=MatchValue(value=\"it-life-hack\")\n",
        "            ),\n",
        "            FieldCondition(  # ペイロードの値の範囲でフィルタリング\n",
        "                key=\"text_length\",\n",
        "                range=Range( gte=600, lte=1700,\n",
        "                ),\n",
        "            ),\n",
        "        ]\n",
        "    ),\n",
        "    with_payload=True,  # ペイロードを取得\n",
        "    limit=5,\n",
        ")\n",
        "\n",
        "_ = [print(x) for x in search_result]"
      ],
      "metadata": {
        "colab": {
          "base_uri": "https://localhost:8080/"
        },
        "id": "HSKx_fINDB0s",
        "outputId": "325da158-9279-4440-ff5d-22ae1c7ad3c0"
      },
      "execution_count": 30,
      "outputs": [
        {
          "output_type": "stream",
          "name": "stdout",
          "text": [
            "id=6409860 version=0 score=0.81104857 payload={'id': 6409860, 'label': 1, 'label_name': 'it-life-hack', 'text_length': 1098, 'timestamp': '2012-03-28T09:00:00+0900', 'url': 'http://news.livedoor.com/article/detail/6409860/'} vector=None shard_key=None\n",
            "id=6509420 version=0 score=0.8105725 payload={'id': 6509420, 'label': 1, 'label_name': 'it-life-hack', 'text_length': 868, 'timestamp': '2012-04-27T09:00:00+0900', 'url': 'http://news.livedoor.com/article/detail/6509420/'} vector=None shard_key=None\n",
            "id=6574653 version=0 score=0.80989575 payload={'id': 6574653, 'label': 1, 'label_name': 'it-life-hack', 'text_length': 1171, 'timestamp': '2012-05-19T10:00:00+0900', 'url': 'http://news.livedoor.com/article/detail/6574653/'} vector=None shard_key=None\n",
            "id=6495338 version=0 score=0.80458814 payload={'id': 6495338, 'label': 1, 'label_name': 'it-life-hack', 'text_length': 1552, 'timestamp': '2012-04-23T15:00:00+0900', 'url': 'http://news.livedoor.com/article/detail/6495338/'} vector=None shard_key=None\n",
            "id=6331540 version=0 score=0.8042831 payload={'id': 6331540, 'label': 1, 'label_name': 'it-life-hack', 'text_length': 1106, 'timestamp': '2012-03-02T15:00:00+0900', 'url': 'http://news.livedoor.com/article/detail/6331540/'} vector=None shard_key=None\n"
          ]
        }
      ]
    },
    {
      "cell_type": "code",
      "source": [
        "# コレクションの情報を取得\n",
        "client.get_collection( collection_name=qdrant_collection_name )"
      ],
      "metadata": {
        "id": "szMPsGvxDurV",
        "colab": {
          "base_uri": "https://localhost:8080/"
        },
        "outputId": "9e300a6d-78cc-4ecb-d38f-68a47c826e24"
      },
      "execution_count": 31,
      "outputs": [
        {
          "output_type": "execute_result",
          "data": {
            "text/plain": [
              "CollectionInfo(status=<CollectionStatus.GREEN: 'green'>, optimizer_status=<OptimizersStatusOneOf.OK: 'ok'>, vectors_count=None, indexed_vectors_count=0, points_count=100, segments_count=2, config=CollectionConfig(params=CollectionParams(vectors=VectorParams(size=384, distance=<Distance.COSINE: 'Cosine'>, hnsw_config=None, quantization_config=None, on_disk=None, datatype=None), shard_number=1, sharding_method=None, replication_factor=1, write_consistency_factor=1, read_fan_out_factor=None, on_disk_payload=True, sparse_vectors=None), hnsw_config=HnswConfig(m=16, ef_construct=100, full_scan_threshold=10000, max_indexing_threads=0, on_disk=False, payload_m=None), optimizer_config=OptimizersConfig(deleted_threshold=0.2, vacuum_min_vector_number=1000, default_segment_number=0, max_segment_size=None, memmap_threshold=None, indexing_threshold=20000, flush_interval_sec=5, max_optimization_threads=None), wal_config=WalConfig(wal_capacity_mb=32, wal_segments_ahead=0), quantization_config=None), payload_schema={'timestamp': PayloadIndexInfo(data_type=<PayloadSchemaType.DATETIME: 'datetime'>, params=None, points=100), 'label_name': PayloadIndexInfo(data_type=<PayloadSchemaType.KEYWORD: 'keyword'>, params=None, points=100), 'id': PayloadIndexInfo(data_type=<PayloadSchemaType.INTEGER: 'integer'>, params=None, points=100), 'text_length': PayloadIndexInfo(data_type=<PayloadSchemaType.INTEGER: 'integer'>, params=None, points=100), 'label': PayloadIndexInfo(data_type=<PayloadSchemaType.INTEGER: 'integer'>, params=None, points=100)})"
            ]
          },
          "metadata": {},
          "execution_count": 31
        }
      ]
    },
    {
      "cell_type": "code",
      "source": [
        "# コレクションを削除\n",
        "# client.delete_collection( collection_name=qdrant_collection_name )"
      ],
      "metadata": {
        "id": "I2zbsQFL-hE_"
      },
      "execution_count": 32,
      "outputs": []
    },
    {
      "cell_type": "markdown",
      "source": [
        "## まとめ\n",
        "\n",
        "このセッションでは以下を確認しました。\n",
        "\n",
        "- ベクトルとペイロード(メタデータ)の登録\n",
        "  - Livedoor News コーパスの取得\n",
        "  - SentenceTransfomers を利用した文章をベクトル化\n",
        "  - ポイント(アイテム)の登録\n",
        "  - ペイロードに対してインデックス設定\n",
        "- 検索処理\n",
        "  - ベクトル検索\n",
        "  - フィルタリングとベクトル検索の併用"
      ],
      "metadata": {
        "id": "bmNsYwh0_mrO"
      }
    }
  ],
  "metadata": {
    "colab": {
      "provenance": [],
      "gpuType": "T4",
      "authorship_tag": "ABX9TyMjUPwJiEZ3vyCMMlsKTo7y",
      "include_colab_link": true
    },
    "kernelspec": {
      "display_name": "Python 3",
      "name": "python3"
    },
    "language_info": {
      "name": "python"
    },
    "accelerator": "GPU"
  },
  "nbformat": 4,
  "nbformat_minor": 0
}